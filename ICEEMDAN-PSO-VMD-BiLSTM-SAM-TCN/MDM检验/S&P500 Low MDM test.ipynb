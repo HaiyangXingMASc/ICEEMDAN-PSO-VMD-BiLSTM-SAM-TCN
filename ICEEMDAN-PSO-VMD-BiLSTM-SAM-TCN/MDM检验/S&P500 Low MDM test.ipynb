{
 "cells": [
  {
   "cell_type": "markdown",
   "id": "6b4579d5",
   "metadata": {},
   "source": [
    "# Defining MDM"
   ]
  },
  {
   "cell_type": "code",
   "execution_count": 1,
   "id": "3d7fa26b",
   "metadata": {},
   "outputs": [],
   "source": [
    "def mdm_test(actual_lst, pred1_lst, pred2_lst, h = 1, crit=\"RMSE\"):\n",
    "    def error_check():\n",
    "        rt = 0\n",
    "        msg = \"\"\n",
    "        if (not isinstance(h, int)):\n",
    "            rt = -1\n",
    "            msg = \"The type of the number of steps ahead (h) is not an integer.\"\n",
    "            return (rt,msg)\n",
    "        if (h < 1):\n",
    "            rt = -1\n",
    "            msg = \"The number of steps ahead (h) is not large enough.\"\n",
    "            return (rt,msg)\n",
    "        len_act = len(actual_lst)\n",
    "        len_p1  = len(pred1_lst)\n",
    "        len_p2  = len(pred2_lst)\n",
    "        if (len_act != len_p1 or len_p1 != len_p2 or len_act != len_p2):\n",
    "            rt = -1\n",
    "            msg = \"Lengths of actual_lst, pred1_lst and pred2_lst do not match.\"\n",
    "            return (rt,msg)\n",
    "        if (h >= len_act):\n",
    "            rt = -1\n",
    "            msg = \"The number of steps ahead is too large.\"\n",
    "            return (rt,msg)\n",
    "\n",
    "        if (crit != \"RMSE\" and crit != \"MAE\" and crit != \"MAPE\"):\n",
    "            rt = -1\n",
    "            msg = \"The criterion is not supported.\"\n",
    "            return (rt,msg)  \n",
    "        from re import compile as re_compile\n",
    "        comp = re_compile(\"^\\d+?\\.\\d+?$\")  \n",
    "        def compiled_regex(s):\n",
    "            if comp.match(s) is None:\n",
    "                return s.isdigit()\n",
    "            return True\n",
    "        for actual, pred1, pred2 in zip(actual_lst, pred1_lst, pred2_lst):\n",
    "            is_actual_ok = compiled_regex(str(abs(actual)))\n",
    "            is_pred1_ok = compiled_regex(str(abs(pred1)))\n",
    "            is_pred2_ok = compiled_regex(str(abs(pred2)))\n",
    "            if (not (is_actual_ok and is_pred1_ok and is_pred2_ok)):  \n",
    "                msg = \"An element in the actual_lst, pred1_lst or pred2_lst is not numeric.\"\n",
    "                rt = -1\n",
    "                return (rt,msg)\n",
    "        return (rt,msg)\n",
    "    \n",
    "\n",
    "    error_code = error_check()\n",
    "\n",
    "    if (error_code[0] == -1):\n",
    "        raise SyntaxError(error_code[1])\n",
    "        return\n",
    "\n",
    "    from scipy.stats import t\n",
    "    import collections\n",
    "    import pandas as pd\n",
    "    import numpy as np\n",
    "    \n",
    "    e1_lst = []\n",
    "    e2_lst = []\n",
    "    d_lst  = []\n",
    "    \n",
    "    actual_lst = pd.Series(actual_lst).apply(lambda x: float(x)).tolist()\n",
    "    pred1_lst = pd.Series(pred1_lst).apply(lambda x: float(x)).tolist()\n",
    "    pred2_lst = pd.Series(pred2_lst).apply(lambda x: float(x)).tolist()\n",
    "    \n",
    "    T = float(len(actual_lst))\n",
    "    \n",
    "    if crit == \"RMSE\":\n",
    "        for actual, p1, p2 in zip(actual_lst, pred1_lst, pred2_lst):\n",
    "            e1_lst.append((actual - p1) ** 2)\n",
    "            e2_lst.append((actual - p2) ** 2)\n",
    "        for e1, e2 in zip(e1_lst, e2_lst):\n",
    "            d_lst.append(e1 - e2)\n",
    "\n",
    "    if (crit == \"MAE\"):\n",
    "        for actual,p1,p2 in zip(actual_lst,pred1_lst,pred2_lst):\n",
    "            e1_lst.append(abs(actual - p1))\n",
    "            e2_lst.append(abs(actual - p2))\n",
    "        for e1, e2 in zip(e1_lst, e2_lst):\n",
    "            d_lst.append(e1 - e2)\n",
    "\n",
    "    if (crit == \"MAPE\"):\n",
    "        for actual,p1,p2 in zip(actual_lst,pred1_lst,pred2_lst):\n",
    "            e1_lst.append(abs((actual - p1)/actual))\n",
    "            e2_lst.append(abs((actual - p2)/actual))\n",
    "        for e1, e2 in zip(e1_lst, e2_lst):\n",
    "            d_lst.append(e1 - e2)\n",
    "   \n",
    "    mean_d = pd.Series(d_lst).mean()\n",
    "    \n",
    "    def autocovariance(Xi, N, k, Xs):\n",
    "        autoCov = 0\n",
    "        T = float(N)\n",
    "        for i in np.arange(0, N-k):\n",
    "              autoCov += ((Xi[i+k])-Xs)*(Xi[i]-Xs)\n",
    "        return (1/(T))*autoCov\n",
    "    gamma = []\n",
    "    for lag in range(0,h):\n",
    "        gamma.append(autocovariance(d_lst,len(d_lst),lag,mean_d)) # 0, 1, 2\n",
    "    V_d = (gamma[0] + 2*sum(gamma[1:]))/T\n",
    "    MDM_stat=V_d**(-0.5)*mean_d\n",
    "    harvey_adj=((T+1-2*h+h*(h-1)/T)/T)**(0.5)\n",
    "    MDM_stat = harvey_adj*MDM_stat\n",
    "    p_value = 2*t.cdf(-abs(MDM_stat), df = T - 1)\n",
    "    \n",
    "    dm_return = collections.namedtuple('mdm_return', 'MDM p_value')\n",
    "    \n",
    "    rt = dm_return(MDM = MDM_stat, p_value = p_value)\n",
    "    \n",
    "    return rt"
   ]
  },
  {
   "cell_type": "markdown",
   "id": "53f9beb6",
   "metadata": {},
   "source": [
    "# Importing real values"
   ]
  },
  {
   "cell_type": "code",
   "execution_count": 2,
   "id": "ab4c9794",
   "metadata": {},
   "outputs": [
    {
     "data": {
      "text/plain": [
       "array([3600.160021, 3588.679729, 3567.330034, 3543.84029 , 3556.850198,\n",
       "       3552.770191, 3594.51992 , 3617.760102, 3629.33006 , 3594.39006 ,\n",
       "       3645.870055, 3644.840004, 3657.170132, 3670.939769, 3678.879815,\n",
       "       3678.829902, 3660.539881, 3645.180115, 3633.399907, 3645.840019,\n",
       "       3659.620257, 3688.569886, 3710.870125, 3685.840164, 3636.4799  ,\n",
       "       3676.15981 , 3689.280144, 3689.319897, 3723.029755, 3723.309795,\n",
       "       3730.209631, 3726.879635, 3662.709966, 3695.069981, 3705.340008,\n",
       "       3764.709695, 3783.59999 , 3789.020122, 3776.50978 , 3791.499841,\n",
       "       3792.859843, 3749.61981 , 3780.369819, 3816.219726, 3845.050096,\n",
       "       3830.409864, 3797.159818, 3847.779818, 3732.479982, 3755.749758,\n",
       "       3694.120321, 3725.619899, 3791.839952, 3816.67998 , 3836.659955,\n",
       "       3874.929951, 3892.590104, 3902.639722, 3884.939815, 3890.389984,\n",
       "       3905.779785, 3923.849838, 3900.429884, 3885.029923, 3903.06994 ,\n",
       "       3874.709983, 3805.590153, 3859.599779, 3814.039924, 3789.540006,\n",
       "       3842.509865, 3868.569876, 3818.859783, 3723.339831, 3730.189754,\n",
       "       3819.249806, 3851.929614, 3885.730021, 3915.540088, 3915.209694,\n",
       "       3923.539763, 3953.439937, 3935.74003 , 3910.859807, 3886.749913,\n",
       "       3914.159767, 3901.569918, 3889.070176, 3853.499867, 3917.120058,\n",
       "       3943.249858, 3944.350139, 3966.979888, 3992.779736, 4034.439799,\n",
       "       4068.13994 , 4068.309996, 4082.539887, 4095.510041, 4114.819512,\n",
       "       4124.430077, 4120.869954, 4139.759807, 4170.750102, 4150.470211,\n",
       "       4118.379635, 4126.350158, 4123.689783, 4138.779669, 4182.359813,\n",
       "       4176.220147, 4181.779858, 4176.80982 , 4174.849986, 4188.029508,\n",
       "       4128.58959 , 4160.939888, 4147.330148, 4201.640131, 4188.129774,\n",
       "       4111.529711, 4056.879616, 4074.989864, 4129.579887, 4142.68962 ,\n",
       "       4125.99017 , 4061.409718, 4121.970235, 4151.72023 , 4170.159988,\n",
       "       4182.51971 , 4184.109839, 4197.779651, 4203.56993 , 4197.589719,\n",
       "       4198.269941, 4167.930273, 4206.049648, 4215.660213, 4208.410107,\n",
       "       4218.740206, 4220.339611, 4232.249679, 4234.069494, 4238.350034,\n",
       "       4202.450214, 4196.049502, 4164.399744, 4173.399876, 4217.269778,\n",
       "       4241.430026, 4256.970006, 4271.160144, 4274.669913, 4287.039794,\n",
       "       4287.95986 , 4300.729924, 4326.600003, 4314.370142, 4329.789979,\n",
       "       4289.370217, 4329.379637, 4364.02988 , 4366.919941, 4362.359803,\n",
       "       4340.700033, 4322.529714, 4233.129993, 4262.049586, 4331.129663,\n",
       "       4350.060153, 4381.200185, 4405.450099, 4372.509687, 4387.009458,\n",
       "       4403.589648, 4389.649956, 4384.809779, 4372.999977, 4400.230058,\n",
       "       4408.859602, 4429.069704, 4424.740135, 4430.029523, 4436.419635,\n",
       "       4435.959822, 4460.819728, 4437.659936, 4417.830139, 4397.58956 ,\n",
       "       4367.730023, 4406.799501, 4450.289979, 4482.279848, 4485.660198,\n",
       "       4468.990342, 4474.099958, 4513.75955 , 4515.799774, 4522.01983 ,\n",
       "       4524.659886, 4521.299855, 4512.999821, 4493.950072, 4492.069744,\n",
       "       4457.660229, 4445.700248, 4435.459815, 4438.370193, 4443.799602,\n",
       "       4427.759614, 4305.910212, 4347.959857, 4367.430107, 4406.75003 ,\n",
       "       4430.26981 , 4436.189949, 4346.329974, 4355.080103, 4306.240164,\n",
       "       4288.519939, 4278.939852, 4309.870076, 4290.489933, 4383.729816,\n",
       "       4386.220135, 4360.589901, 4342.089629, 4329.91984 , 4386.749737,\n",
       "       4447.689676, 4447.47015 , 4496.409914, 4524.399724, 4526.890043,\n",
       "       4523.999983, 4537.359719, 4569.169815, 4551.659841, 4562.839775,\n",
       "       4567.589845, 4595.05977 , 4613.339632, 4621.190012, 4662.589913,\n",
       "       4681.319869, 4694.389849, 4670.87007 , 4630.859765, 4648.31011 ,\n",
       "       4650.769951, 4672.85994 , 4679.419665, 4684.410021, 4672.77955 ,\n",
       "       4694.220235, 4682.169705, 4652.659997, 4659.890227, 4585.430212,\n",
       "       4625.25986 , 4560.000069, 4510.270099, 4504.729824, 4495.120142,\n",
       "       4540.5095  , 4631.970206, 4674.519858, 4665.97998 , 4670.240202,\n",
       "       4667.600145, 4606.519744, 4611.219901, 4651.890109, 4600.220182,\n",
       "       4531.09991 , 4583.159861, 4645.529592, 4703.959777, 4733.990253,\n",
       "       4780.039957, 4778.080122, 4775.330082, 4765.749995, 4758.169936,\n",
       "       4774.269996, 4699.439835, 4671.259651, 4662.740092, 4582.240236,\n",
       "       4638.269768, 4706.709818, 4650.289821, 4614.749989, 4568.700285,\n",
       "       4530.200162, 4477.950279, 4395.339527, 4222.620121, 4287.109583,\n",
       "       4304.799772, 4309.499929, 4292.459926, 4414.020013, 4483.529866,\n",
       "       4544.319627, 4470.390098, 4451.499803, 4471.47006 , 4465.399742,\n",
       "       4546.999878, 4484.309913, 4401.409846, 4364.839521, 4429.279512,\n",
       "       4429.680137, 4373.810059, 4327.220153, 4267.109731, 4221.509681,\n",
       "       4114.649898, 4286.829985, 4315.120153, 4279.540125, 4322.559749,\n",
       "       4350.369786, 4284.979693, 4199.849911, 4157.870055, 4223.09981 ,\n",
       "       4209.799703, 4200.489938, 4161.719935, 4187.899647, 4251.990251,\n",
       "       4335.649606, 4390.569581, 4424.299757, 4469.099884, 4455.809937,\n",
       "       4465.169615, 4501.069876, 4517.68982 , 4589.659956, 4581.319728,\n",
       "       4530.409971, 4507.56953 , 4539.210011, 4514.169892, 4450.039976,\n",
       "       4450.299697, 4474.599965, 4408.379913, 4381.339763, 4392.699912,\n",
       "       4390.770114, 4370.299849, 4390.629652, 4448.75948 , 4384.47011 ,\n",
       "       4267.619898, 4200.81989 , 4175.039918, 4162.899722, 4188.629782,\n",
       "       4124.279456, 4062.509999, 4147.080144, 4148.910118, 4105.509746,\n",
       "       4067.909813, 3975.480013, 3958.169688, 3928.819876, 3858.870087,\n",
       "       3963.899896, 3983.989855, 4033.929633, 3911.909734, 3876.580152,\n",
       "       3810.319905, 3909.039992, 3875.129601, 3925.030068, 3984.599846,\n",
       "       4077.429829, 4104.879878, 4073.84983 , 4074.370155, 4098.669982,\n",
       "       4109.179853, 4080.190029, 4107.200142, 4017.16967 , 3900.160003,\n",
       "       3734.299797, 3705.679678, 3722.300063, 3639.770142, 3636.869923,\n",
       "       3715.310119, 3717.690013, 3743.519897, 3821.749843, 3889.659849,\n",
       "       3820.139837, 3799.019827, 3738.670002, 3752.09997 , 3742.06007 ,\n",
       "       3809.369803, 3858.849768, 3869.339763, 3847.219739, 3802.359982,\n",
       "       3759.070037, 3721.559769, 3817.179988, 3818.629656, 3860.729655,\n",
       "       3922.030024, 3927.639647, 3938.860218, 3943.459667, 3910.739664,\n",
       "       3951.429748, 3992.969668, 4079.22005 , 4096.019766, 4079.810165,\n",
       "       4107.959871, 4135.419637, 4107.310126, 4128.969896, 4112.08979 ,\n",
       "       4177.259474, 4201.410004, 4219.779532, 4256.899776, 4277.769782,\n",
       "       4253.079932, 4261.979797, 4218.700011, 4129.859927, 4124.029894,\n",
       "       4119.970206, 4147.589869, 4057.659663, 4017.419674, 3965.209986,\n",
       "       3954.530059, 3903.649895, 3906.210004, 3886.749913, 3906.029789,\n",
       "       3944.809951, 4022.939631, 4083.669762, 3921.280013, 3912.179614,\n",
       "       3888.27997 , 3837.080015, 3838.500088, 3827.540122, 3789.490094,\n",
       "       3749.449754, 3647.469902, 3644.760056, 3623.290218, 3640.61026 ,\n",
       "       3610.400012, 3584.12975 , 3604.929967, 3726.460018, 3722.659609,\n",
       "       3739.219922, 3620.73011 , 3588.100215, 3568.44975 , 3573.860165,\n",
       "       3491.580248, 3579.680038, 3638.649984, 3686.530103, 3666.509934,\n",
       "       3656.439998, 3647.419989, 3741.649728, 3799.439887, 3824.070106,\n",
       "       3803.789774, 3808.259804, 3863.179779, 3843.800078, 3758.680013,\n",
       "       3698.149974, 3708.84006 , 3764.699978, 3786.2798  , 3744.219995,\n",
       "       3859.889978, 3944.820111, 3956.399786, 3953.169615, 3954.340127,\n",
       "       3906.539956, 3935.979875, 3933.339819, 3956.879916, 3998.659681,\n",
       "       4020.759829, 3955.769918, 3937.649952, 3938.580178, 4050.869811,\n",
       "       4026.629614, 3984.489862, 3918.389953, 3922.679768, 3935.830138,\n",
       "       3933.039902, 3935.300095, 3993.02974 , 3965.649921, 3879.449894,\n",
       "       3827.909827, 3800.039719, 3795.620043, 3839.489944, 3764.489727,\n",
       "       3797.010081, 3813.219682, 3780.779719, 3805.449692, 3800.340076,\n",
       "       3794.329829, 3815.770073, 3802.419612, 3809.559735, 3890.420019,\n",
       "       3877.289968, 3928.539836, 3937.559845, 3947.669976, 3984.56981 ,\n",
       "       3926.590161, 3885.540089, 3897.860058, 3971.63985 , 3989.789851,\n",
       "       3949.060014, 4013.289754, 4048.699726, 4015.549946, 4020.440036,\n",
       "       4037.199999, 4141.879979, 4123.359831, 4093.37971 , 4088.389796,\n",
       "       4111.669731, 4069.669998, 4060.790009, 4092.669894, 4095.010034,\n",
       "       4103.979689, 4089.490077, 4047.949715, 3995.189666, 3976.899645,\n",
       "       3969.189726, 3943.079802, 3973.549772, 3968.979917, 3939.05015 ,\n",
       "       3928.159972, 3995.169789, 4044.610002, 3980.31003 , 3969.759964,\n",
       "       3908.699881, 3846.319991, 3808.860078, 3873.629579, 3838.239926,\n",
       "       3864.110005, 3901.270002, 3916.889931, 3971.189755, 3936.169807,\n",
       "       3919.049856, 3909.159694, 3970.490098, 3951.530015, 3999.529835,\n",
       "       4032.100101, 4056.179959])"
      ]
     },
     "execution_count": 2,
     "metadata": {},
     "output_type": "execute_result"
    }
   ],
   "source": [
    "import random\n",
    "import numpy as np\n",
    "import pandas as pd\n",
    "from pandas import read_csv\n",
    "actual_lst = read_csv('./True value of S&P 500 Low and all model predictions.csv', index_col=0,usecols=[0,22])\n",
    "actual_lst=actual_lst.values\n",
    "actual_lst=actual_lst.flatten()\n",
    "actual_lst"
   ]
  },
  {
   "cell_type": "markdown",
   "id": "10efe72e",
   "metadata": {},
   "source": [
    "# Import the predictions of the proposed model"
   ]
  },
  {
   "cell_type": "code",
   "execution_count": 3,
   "id": "6a5820d6",
   "metadata": {
    "scrolled": true
   },
   "outputs": [
    {
     "data": {
      "text/plain": [
       "array([3582.5515, 3580.2136, 3555.7017, 3547.4583, 3548.938 , 3561.7751,\n",
       "       3585.3691, 3611.0789, 3616.3137, 3607.4033, 3623.6765, 3647.6177,\n",
       "       3650.3176, 3662.6052, 3673.8503, 3667.7554, 3657.7727, 3643.5886,\n",
       "       3634.647 , 3641.7031, 3657.371 , 3678.74  , 3702.9192, 3683.9326,\n",
       "       3650.1501, 3669.1963, 3687.1409, 3698.806 , 3715.7837, 3718.646 ,\n",
       "       3731.7803, 3724.6074, 3681.4456, 3689.1985, 3713.7666, 3749.3477,\n",
       "       3788.0732, 3777.929 , 3775.631 , 3799.698 , 3790.0159, 3766.7231,\n",
       "       3777.096 , 3812.7056, 3842.1536, 3822.2544, 3811.0898, 3822.4165,\n",
       "       3779.1003, 3739.9888, 3734.0974, 3737.431 , 3789.6628, 3823.1306,\n",
       "       3833.81  , 3861.3923, 3891.199 , 3905.0046, 3893.2144, 3885.0884,\n",
       "       3907.5442, 3922.4858, 3898.9775, 3886.9875, 3904.1694, 3872.5398,\n",
       "       3830.536 , 3843.3293, 3833.0637, 3809.371 , 3834.1235, 3858.669 ,\n",
       "       3836.5774, 3756.4077, 3748.7395, 3801.937 , 3849.7766, 3882.9097,\n",
       "       3914.886 , 3912.7964, 3925.2373, 3952.0027, 3938.8564, 3908.9111,\n",
       "       3896.9304, 3904.2583, 3908.9019, 3885.1802, 3876.8093, 3915.9521,\n",
       "       3939.4568, 3949.8765, 3970.3755, 3986.3574, 4026.303 , 4061.9548,\n",
       "       4064.3477, 4071.7869, 4090.3054, 4108.4175, 4121.5815, 4116.3335,\n",
       "       4133.89  , 4165.036 , 4149.3433, 4126.3486, 4128.941 , 4128.9526,\n",
       "       4146.0576, 4172.022 , 4182.654 , 4186.6235, 4177.9014, 4180.0215,\n",
       "       4182.3716, 4160.8916, 4160.9087, 4169.187 , 4182.4297, 4191.998 ,\n",
       "       4132.977 , 4082.994 , 4087.5835, 4125.688 , 4158.3755, 4131.762 ,\n",
       "       4093.4512, 4126.185 , 4160.9214, 4176.867 , 4192.784 , 4195.563 ,\n",
       "       4206.424 , 4214.0117, 4206.9795, 4203.2046, 4194.521 , 4205.155 ,\n",
       "       4223.394 , 4216.2993, 4223.4023, 4237.183 , 4237.4585, 4243.376 ,\n",
       "       4239.3687, 4222.521 , 4204.445 , 4185.1797, 4194.566 , 4225.767 ,\n",
       "       4244.7427, 4265.1016, 4280.1035, 4283.4824, 4294.8477, 4300.7134,\n",
       "       4306.1113, 4323.2925, 4333.703 , 4326.2925, 4315.685 , 4333.966 ,\n",
       "       4370.2354, 4375.9614, 4362.9863, 4355.981 , 4329.9326, 4274.304 ,\n",
       "       4276.9233, 4329.6855, 4359.22  , 4387.422 , 4407.846 , 4392.93  ,\n",
       "       4397.409 , 4412.4062, 4405.446 , 4392.995 , 4388.9863, 4407.17  ,\n",
       "       4424.6797, 4427.207 , 4438.474 , 4447.3047, 4442.9883, 4452.3438,\n",
       "       4463.1094, 4450.4673, 4439.4414, 4419.292 , 4401.133 , 4421.4717,\n",
       "       4460.54  , 4491.854 , 4498.4697, 4483.7773, 4499.0947, 4524.3843,\n",
       "       4530.9995, 4539.1846, 4539.5195, 4535.5396, 4530.092 , 4511.912 ,\n",
       "       4500.916 , 4486.6855, 4467.7363, 4460.903 , 4454.079 , 4462.025 ,\n",
       "       4442.1226, 4365.153 , 4360.3877, 4394.332 , 4415.8076, 4452.0693,\n",
       "       4446.0767, 4392.7446, 4373.0312, 4345.534 , 4308.991 , 4318.809 ,\n",
       "       4319.1826, 4329.298 , 4373.23  , 4391.33  , 4383.163 , 4356.6978,\n",
       "       4344.6084, 4392.321 , 4444.99  , 4456.0415, 4491.74  , 4524.294 ,\n",
       "       4527.3184, 4533.008 , 4542.9917, 4560.5205, 4569.9146, 4561.958 ,\n",
       "       4573.464 , 4599.2856, 4615.8896, 4634.6772, 4659.442 , 4677.497 ,\n",
       "       4695.6416, 4679.3916, 4640.7017, 4649.8496, 4664.037 , 4669.954 ,\n",
       "       4687.594 , 4682.1304, 4681.6953, 4699.2515, 4689.866 , 4675.435 ,\n",
       "       4652.809 , 4622.162 , 4622.84  , 4591.5557, 4544.747 , 4546.848 ,\n",
       "       4535.334 , 4556.211 , 4627.4194, 4665.178 , 4678.549 , 4687.345 ,\n",
       "       4680.076 , 4644.487 , 4626.098 , 4646.1313, 4633.5405, 4574.879 ,\n",
       "       4591.7056, 4652.4136, 4692.1074, 4735.5664, 4783.279 , 4793.3457,\n",
       "       4792.2866, 4789.865 , 4781.289 , 4772.5693, 4736.1875, 4709.093 ,\n",
       "       4680.6035, 4624.193 , 4649.3286, 4700.936 , 4670.3438, 4631.954 ,\n",
       "       4600.6035, 4555.5547, 4529.957 , 4433.5195, 4307.824 , 4304.233 ,\n",
       "       4336.6665, 4328.5522, 4322.045 , 4359.1436, 4469.15  , 4534.9316,\n",
       "       4485.0146, 4474.6826, 4486.2417, 4482.6724, 4525.606 , 4506.0557,\n",
       "       4413.456 , 4404.172 , 4413.659 , 4418.099 , 4390.8794, 4334.8076,\n",
       "       4311.3447, 4230.928 , 4170.5967, 4261.408 , 4305.058 , 4288.67  ,\n",
       "       4317.52  , 4343.2017, 4306.019 , 4231.4136, 4181.6504, 4195.5264,\n",
       "       4221.5557, 4203.3755, 4184.216 , 4182.1963, 4234.3833, 4316.224 ,\n",
       "       4355.0464, 4403.0796, 4455.2915, 4463.635 , 4463.0605, 4486.2734,\n",
       "       4517.939 , 4566.9004, 4576.5083, 4525.8716, 4507.66  , 4531.185 ,\n",
       "       4517.205 , 4464.9   , 4456.607 , 4472.789 , 4427.3286, 4385.586 ,\n",
       "       4394.6846, 4395.9526, 4383.112 , 4387.9062, 4418.6807, 4395.9375,\n",
       "       4290.4688, 4222.409 , 4172.042 , 4171.036 , 4206.683 , 4156.3403,\n",
       "       4100.2163, 4145.646 , 4169.709 , 4140.762 , 4080.5046, 4016.0757,\n",
       "       3997.4343, 3956.0337, 3914.9163, 3962.4841, 4000.6309, 3999.9336,\n",
       "       3955.15  , 3864.495 , 3856.2537, 3886.0334, 3908.2659, 3932.392 ,\n",
       "       3979.3442, 4046.534 , 4106.9487, 4084.659 , 4067.4639, 4103.67  ,\n",
       "       4102.9263, 4084.6748, 4078.8901, 4033.2932, 3916.2664, 3771.973 ,\n",
       "       3730.298 , 3757.0066, 3717.099 , 3678.1477, 3710.9163, 3712.607 ,\n",
       "       3730.2795, 3812.0605, 3853.063 , 3836.58  , 3800.2095, 3762.5173,\n",
       "       3740.9258, 3762.5645, 3805.808 , 3848.4219, 3845.9587, 3838.6035,\n",
       "       3826.0266, 3753.28  , 3730.1396, 3795.186 , 3824.354 , 3851.7463,\n",
       "       3896.9407, 3919.9504, 3937.7793, 3933.9856, 3917.1526, 3940.9705,\n",
       "       3982.0164, 4051.537 , 4092.537 , 4073.3086, 4097.196 , 4126.749 ,\n",
       "       4115.587 , 4120.415 , 4131.9336, 4168.621 , 4205.443 , 4215.84  ,\n",
       "       4252.712 , 4274.2104, 4262.6455, 4259.3994, 4222.194 , 4159.1597,\n",
       "       4134.415 , 4129.4165, 4132.588 , 4092.2493, 4026.994 , 3999.3445,\n",
       "       3965.0166, 3935.1724, 3917.638 , 3908.2527, 3911.6729, 3928.686 ,\n",
       "       4000.1406, 4038.6702, 3957.499 , 3903.5474, 3891.106 , 3844.5464,\n",
       "       3845.2126, 3821.8318, 3788.8916, 3748.5732, 3667.6904, 3640.2551,\n",
       "       3636.092 , 3629.736 , 3630.0498, 3590.284 , 3596.9043, 3678.0017,\n",
       "       3716.4607, 3703.0388, 3638.0247, 3569.8562, 3563.2593, 3548.0068,\n",
       "       3518.608 , 3549.9563, 3595.1528, 3629.0837, 3640.451 , 3600.301 ,\n",
       "       3615.9773, 3677.664 , 3740.585 , 3775.2417, 3763.0632, 3755.35  ,\n",
       "       3805.2832, 3798.0574, 3718.376 , 3671.9382, 3677.109 , 3731.6584,\n",
       "       3752.0593, 3730.0186, 3794.4417, 3879.3667, 3902.9639, 3911.7092,\n",
       "       3896.7708, 3883.0105, 3896.8313, 3892.1592, 3904.0046, 3948.379 ,\n",
       "       3963.8054, 3937.0542, 3890.3306, 3895.8071, 3975.205 , 3985.6074,\n",
       "       3930.312 , 3889.2605, 3879.501 , 3886.475 , 3891.625 , 3885.873 ,\n",
       "       3928.0833, 3920.4678, 3844.015 , 3786.164 , 3749.5337, 3767.1133,\n",
       "       3791.9458, 3747.514 , 3751.0962, 3774.9158, 3750.7578, 3753.7705,\n",
       "       3749.9788, 3750.9102, 3770.6123, 3745.8818, 3763.2354, 3815.8735,\n",
       "       3832.4377, 3860.975 , 3877.742 , 3884.9368, 3916.6355, 3886.9763,\n",
       "       3828.9897, 3847.8247, 3903.2305, 3931.7197, 3913.761 , 3935.6726,\n",
       "       3991.9365, 3981.3157, 3959.7515, 3993.1038, 4056.4624, 4076.1472,\n",
       "       4039.6228, 4031.8674, 4048.7285, 4028.7532, 4019.5652, 4030.4253,\n",
       "       4038.3179, 4051.1506, 4045.4475, 3998.4954, 3952.34  , 3941.064 ,\n",
       "       3926.391 , 3909.4602, 3920.1475, 3928.3042, 3900.2432, 3891.2222,\n",
       "       3940.619 , 3978.8367, 3953.8044, 3922.3264, 3888.203 , 3812.979 ,\n",
       "       3793.087 , 3823.462 , 3822.0886, 3825.3867, 3848.1208, 3874.2961,\n",
       "       3908.3328, 3901.4775, 3869.5894, 3878.9204, 3899.97  , 3924.8518,\n",
       "       3938.7136, 3952.623 , 3970.4902])"
      ]
     },
     "execution_count": 3,
     "metadata": {},
     "output_type": "execute_result"
    }
   ],
   "source": [
    "pred1_lst =read_csv('./True value of S&P 500 Low and all model predictions.csv', index_col=0,usecols=[0,23])\n",
    "pred1_lst =pred1_lst.values\n",
    "pred1_lst=pred1_lst.flatten()\n",
    "pred1_lst"
   ]
  },
  {
   "cell_type": "markdown",
   "id": "5fd56cf7",
   "metadata": {},
   "source": [
    "# BPNN"
   ]
  },
  {
   "cell_type": "code",
   "execution_count": 4,
   "id": "35a627a8",
   "metadata": {},
   "outputs": [
    {
     "name": "stdout",
     "output_type": "stream",
     "text": [
      "crit：RMSE， mdm_return(MDM=-19.058626011466448, p_value=1.361635667538202e-63)\n",
      "crit：MAE， mdm_return(MDM=-24.201509616812423, p_value=1.2039556077591686e-90)\n",
      "crit：MAPE， mdm_return(MDM=-24.66682990939473, p_value=4.07164151356023e-93)\n"
     ]
    }
   ],
   "source": [
    "pred2_lst  =read_csv('./True value of S&P 500 Low and all model predictions.csv', index_col=0,usecols=[0,1])\n",
    "pred2_lst=pred2_lst.values\n",
    "pred2_lst=pred2_lst.flatten()\n",
    "rt = mdm_test(actual_lst, pred1_lst, pred2_lst, h=1, crit=\"RMSE\")\n",
    "print(\"crit：RMSE，\", rt)\n",
    "rt = mdm_test(actual_lst, pred1_lst, pred2_lst, h=1, crit=\"MAE\")\n",
    "print(\"crit：MAE，\", rt)\n",
    "rt = mdm_test(actual_lst, pred1_lst, pred2_lst, h=1, crit=\"MAPE\")\n",
    "print(\"crit：MAPE，\", rt)"
   ]
  },
  {
   "cell_type": "markdown",
   "id": "f49639c5",
   "metadata": {},
   "source": [
    "# SVR"
   ]
  },
  {
   "cell_type": "code",
   "execution_count": 5,
   "id": "721ff2cf",
   "metadata": {},
   "outputs": [
    {
     "name": "stdout",
     "output_type": "stream",
     "text": [
      "crit：RMSE， mdm_return(MDM=-17.987926467024188, p_value=4.124464457176294e-58)\n",
      "crit：MAE， mdm_return(MDM=-22.94190698851694, p_value=5.822048233901907e-84)\n",
      "crit：MAPE， mdm_return(MDM=-23.474641720872675, p_value=8.697584611677207e-87)\n"
     ]
    }
   ],
   "source": [
    "pred2_lst  =read_csv('./True value of S&P 500 Low and all model predictions.csv', index_col=0,usecols=[0,2])\n",
    "pred2_lst=pred2_lst.values\n",
    "pred2_lst=pred2_lst.flatten()\n",
    "rt = mdm_test(actual_lst, pred1_lst, pred2_lst, h=1, crit=\"RMSE\")\n",
    "print(\"crit：RMSE，\", rt)\n",
    "rt = mdm_test(actual_lst, pred1_lst, pred2_lst, h=1, crit=\"MAE\")\n",
    "print(\"crit：MAE，\", rt)\n",
    "rt = mdm_test(actual_lst, pred1_lst, pred2_lst, h=1, crit=\"MAPE\")\n",
    "print(\"crit：MAPE，\", rt)"
   ]
  },
  {
   "cell_type": "markdown",
   "id": "ed75aefe",
   "metadata": {},
   "source": [
    "# GRU"
   ]
  },
  {
   "cell_type": "code",
   "execution_count": 6,
   "id": "00bee455",
   "metadata": {},
   "outputs": [
    {
     "name": "stdout",
     "output_type": "stream",
     "text": [
      "crit：RMSE， mdm_return(MDM=-16.381352742644488, p_value=4.535205208159707e-50)\n",
      "crit：MAE， mdm_return(MDM=-20.23307593996409, p_value=1.0901830269502438e-69)\n",
      "crit：MAPE， mdm_return(MDM=-20.41165841578588, p_value=1.2713328174726986e-70)\n"
     ]
    }
   ],
   "source": [
    "pred2_lst  =read_csv('./True value of S&P 500 Low and all model predictions.csv', index_col=0,usecols=[0,3])\n",
    "pred2_lst=pred2_lst.values\n",
    "pred2_lst=pred2_lst.flatten()\n",
    "rt = mdm_test(actual_lst, pred1_lst, pred2_lst, h=1, crit=\"RMSE\")\n",
    "print(\"crit：RMSE，\", rt)\n",
    "rt = mdm_test(actual_lst, pred1_lst, pred2_lst, h=1, crit=\"MAE\")\n",
    "print(\"crit：MAE，\", rt)\n",
    "rt = mdm_test(actual_lst, pred1_lst, pred2_lst, h=1, crit=\"MAPE\")\n",
    "print(\"crit：MAPE，\", rt)"
   ]
  },
  {
   "cell_type": "markdown",
   "id": "577821f5",
   "metadata": {},
   "source": [
    "# LSTM"
   ]
  },
  {
   "cell_type": "code",
   "execution_count": 7,
   "id": "00c0ca73",
   "metadata": {},
   "outputs": [
    {
     "name": "stdout",
     "output_type": "stream",
     "text": [
      "crit：RMSE， mdm_return(MDM=-17.42941538804793, p_value=2.745459103052615e-55)\n",
      "crit：MAE， mdm_return(MDM=-21.87986475383661, p_value=2.427702159478423e-78)\n",
      "crit：MAPE， mdm_return(MDM=-22.01196388418348, p_value=4.868867207941949e-79)\n"
     ]
    }
   ],
   "source": [
    "pred2_lst  =read_csv('./True value of S&P 500 Low and all model predictions.csv', index_col=0,usecols=[0,4])\n",
    "pred2_lst=pred2_lst.values\n",
    "pred2_lst=pred2_lst.flatten()\n",
    "rt = mdm_test(actual_lst, pred1_lst, pred2_lst, h=1, crit=\"RMSE\")\n",
    "print(\"crit：RMSE，\", rt)\n",
    "rt = mdm_test(actual_lst, pred1_lst, pred2_lst, h=1, crit=\"MAE\")\n",
    "print(\"crit：MAE，\", rt)\n",
    "rt = mdm_test(actual_lst, pred1_lst, pred2_lst, h=1, crit=\"MAPE\")\n",
    "print(\"crit：MAPE，\", rt)"
   ]
  },
  {
   "cell_type": "markdown",
   "id": "4cf952dd",
   "metadata": {},
   "source": [
    "# Transformer"
   ]
  },
  {
   "cell_type": "code",
   "execution_count": 8,
   "id": "c35347d9",
   "metadata": {},
   "outputs": [
    {
     "name": "stdout",
     "output_type": "stream",
     "text": [
      "crit：RMSE， mdm_return(MDM=-18.049768279388246, p_value=2.000472666526027e-58)\n",
      "crit：MAE， mdm_return(MDM=-22.460337754602502, p_value=2.0706763884251047e-81)\n",
      "crit：MAPE， mdm_return(MDM=-22.846651444122237, p_value=1.8619266680844406e-83)\n"
     ]
    }
   ],
   "source": [
    "pred2_lst  =read_csv('./True value of S&P 500 Low and all model predictions.csv', index_col=0,usecols=[0,5])\n",
    "pred2_lst=pred2_lst.values\n",
    "pred2_lst=pred2_lst.flatten()\n",
    "rt = mdm_test(actual_lst, pred1_lst, pred2_lst, h=1, crit=\"RMSE\")\n",
    "print(\"crit：RMSE，\", rt)\n",
    "rt = mdm_test(actual_lst, pred1_lst, pred2_lst, h=1, crit=\"MAE\")\n",
    "print(\"crit：MAE，\", rt)\n",
    "rt = mdm_test(actual_lst, pred1_lst, pred2_lst, h=1, crit=\"MAPE\")\n",
    "print(\"crit：MAPE，\", rt)"
   ]
  },
  {
   "cell_type": "markdown",
   "id": "1c148fc8",
   "metadata": {},
   "source": [
    "# Informer"
   ]
  },
  {
   "cell_type": "code",
   "execution_count": 9,
   "id": "73fa90bc",
   "metadata": {},
   "outputs": [
    {
     "name": "stdout",
     "output_type": "stream",
     "text": [
      "crit：RMSE， mdm_return(MDM=-12.860004104844842, p_value=1.4103088082268555e-33)\n",
      "crit：MAE， mdm_return(MDM=-19.036967151320475, p_value=1.7609085578228e-63)\n",
      "crit：MAPE， mdm_return(MDM=-18.615067892782992, p_value=2.5993582603388823e-61)\n"
     ]
    }
   ],
   "source": [
    "pred2_lst  =read_csv('./True value of S&P 500 Low and all model predictions.csv', index_col=0,usecols=[0,6])\n",
    "pred2_lst=pred2_lst.values\n",
    "pred2_lst=pred2_lst.flatten()\n",
    "rt = mdm_test(actual_lst, pred1_lst, pred2_lst, h=1, crit=\"RMSE\")\n",
    "print(\"crit：RMSE，\", rt)\n",
    "rt = mdm_test(actual_lst, pred1_lst, pred2_lst, h=1, crit=\"MAE\")\n",
    "print(\"crit：MAE，\", rt)\n",
    "rt = mdm_test(actual_lst, pred1_lst, pred2_lst, h=1, crit=\"MAPE\")\n",
    "print(\"crit：MAPE，\", rt)"
   ]
  },
  {
   "cell_type": "markdown",
   "id": "e16cd335",
   "metadata": {},
   "source": [
    "# TCN"
   ]
  },
  {
   "cell_type": "code",
   "execution_count": 10,
   "id": "30fc95e7",
   "metadata": {},
   "outputs": [
    {
     "name": "stdout",
     "output_type": "stream",
     "text": [
      "crit：RMSE， mdm_return(MDM=-13.415811189173809, p_value=4.746071106089818e-36)\n",
      "crit：MAE， mdm_return(MDM=-19.79933773739347, p_value=1.985088578313547e-67)\n",
      "crit：MAPE， mdm_return(MDM=-19.25181971845046, p_value=1.3696686904825843e-64)\n"
     ]
    }
   ],
   "source": [
    "pred2_lst  =read_csv('./True value of S&P 500 Low and all model predictions.csv', index_col=0,usecols=[0,7])\n",
    "pred2_lst=pred2_lst.values\n",
    "pred2_lst=pred2_lst.flatten()\n",
    "rt = mdm_test(actual_lst, pred1_lst, pred2_lst, h=1, crit=\"RMSE\")\n",
    "print(\"crit：RMSE，\", rt)\n",
    "rt = mdm_test(actual_lst, pred1_lst, pred2_lst, h=1, crit=\"MAE\")\n",
    "print(\"crit：MAE，\", rt)\n",
    "rt = mdm_test(actual_lst, pred1_lst, pred2_lst, h=1, crit=\"MAPE\")\n",
    "print(\"crit：MAPE，\", rt)"
   ]
  },
  {
   "cell_type": "markdown",
   "id": "551e05df",
   "metadata": {},
   "source": [
    "# BiLSTM"
   ]
  },
  {
   "cell_type": "code",
   "execution_count": 11,
   "id": "a9354dd2",
   "metadata": {},
   "outputs": [
    {
     "name": "stdout",
     "output_type": "stream",
     "text": [
      "crit：RMSE， mdm_return(MDM=-16.348644536488155, p_value=6.570247656370332e-50)\n",
      "crit：MAE， mdm_return(MDM=-20.022045977286844, p_value=1.3752433175906765e-68)\n",
      "crit：MAPE， mdm_return(MDM=-20.177111668930724, p_value=2.1362703308371179e-69)\n"
     ]
    }
   ],
   "source": [
    "pred2_lst  =read_csv('./True value of S&P 500 Low and all model predictions.csv', index_col=0,usecols=[0,8])\n",
    "pred2_lst=pred2_lst.values\n",
    "pred2_lst=pred2_lst.flatten()\n",
    "rt = mdm_test(actual_lst, pred1_lst, pred2_lst, h=1, crit=\"RMSE\")\n",
    "print(\"crit：RMSE，\", rt)\n",
    "rt = mdm_test(actual_lst, pred1_lst, pred2_lst, h=1, crit=\"MAE\")\n",
    "print(\"crit：MAE，\", rt)\n",
    "rt = mdm_test(actual_lst, pred1_lst, pred2_lst, h=1, crit=\"MAPE\")\n",
    "print(\"crit：MAPE，\", rt)"
   ]
  },
  {
   "cell_type": "markdown",
   "id": "65bf1ef0",
   "metadata": {},
   "source": [
    "# CNN-BiLSTM-SAM"
   ]
  },
  {
   "cell_type": "code",
   "execution_count": 12,
   "id": "f98c04a1",
   "metadata": {},
   "outputs": [
    {
     "name": "stdout",
     "output_type": "stream",
     "text": [
      "crit：RMSE， mdm_return(MDM=-14.295329361235236, p_value=4.50202881622819e-40)\n",
      "crit：MAE， mdm_return(MDM=-20.281208195472185, p_value=6.110996136817069e-70)\n",
      "crit：MAPE， mdm_return(MDM=-20.18793387888678, p_value=1.875734137300643e-69)\n"
     ]
    }
   ],
   "source": [
    "pred2_lst  =read_csv('./True value of S&P 500 Low and all model predictions.csv', index_col=0,usecols=[0,9])\n",
    "pred2_lst=pred2_lst.values\n",
    "pred2_lst=pred2_lst.flatten()\n",
    "rt = mdm_test(actual_lst, pred1_lst, pred2_lst, h=1, crit=\"RMSE\")\n",
    "print(\"crit：RMSE，\", rt)\n",
    "rt = mdm_test(actual_lst, pred1_lst, pred2_lst, h=1, crit=\"MAE\")\n",
    "print(\"crit：MAE，\", rt)\n",
    "rt = mdm_test(actual_lst, pred1_lst, pred2_lst, h=1, crit=\"MAPE\")\n",
    "print(\"crit：MAPE，\", rt)"
   ]
  },
  {
   "cell_type": "markdown",
   "id": "2d079044",
   "metadata": {},
   "source": [
    "# ICEEMDAN-SVR"
   ]
  },
  {
   "cell_type": "code",
   "execution_count": 13,
   "id": "ff6ed64b",
   "metadata": {},
   "outputs": [
    {
     "name": "stdout",
     "output_type": "stream",
     "text": [
      "crit：RMSE， mdm_return(MDM=-18.08637796311551, p_value=1.3030555955410316e-58)\n",
      "crit：MAE， mdm_return(MDM=-21.882369562921244, p_value=2.3548793053673683e-78)\n",
      "crit：MAPE， mdm_return(MDM=-22.033102550218313, p_value=3.764706202946814e-79)\n"
     ]
    }
   ],
   "source": [
    "pred2_lst  =read_csv('./True value of S&P 500 Low and all model predictions.csv', index_col=0,usecols=[0,10])\n",
    "pred2_lst=pred2_lst.values\n",
    "pred2_lst=pred2_lst.flatten()\n",
    "rt = mdm_test(actual_lst, pred1_lst, pred2_lst, h=1, crit=\"RMSE\")\n",
    "print(\"crit：RMSE，\", rt)\n",
    "rt = mdm_test(actual_lst, pred1_lst, pred2_lst, h=1, crit=\"MAE\")\n",
    "print(\"crit：MAE，\", rt)\n",
    "rt = mdm_test(actual_lst, pred1_lst, pred2_lst, h=1, crit=\"MAPE\")\n",
    "print(\"crit：MAPE，\", rt)"
   ]
  },
  {
   "cell_type": "markdown",
   "id": "b2499a9f",
   "metadata": {},
   "source": [
    "# CEEMDAN-LSTM"
   ]
  },
  {
   "cell_type": "code",
   "execution_count": 14,
   "id": "6af0c57f",
   "metadata": {},
   "outputs": [
    {
     "name": "stdout",
     "output_type": "stream",
     "text": [
      "crit：RMSE， mdm_return(MDM=-14.183759771693092, p_value=1.4816009344636926e-39)\n",
      "crit：MAE， mdm_return(MDM=-19.347650723817374, p_value=4.3751472394392165e-65)\n",
      "crit：MAPE， mdm_return(MDM=-18.806888192278972, p_value=2.6924816871792583e-62)\n"
     ]
    }
   ],
   "source": [
    "pred2_lst  =read_csv('./True value of S&P 500 Low and all model predictions.csv', index_col=0,usecols=[0,11])\n",
    "pred2_lst=pred2_lst.values\n",
    "pred2_lst=pred2_lst.flatten()\n",
    "rt = mdm_test(actual_lst, pred1_lst, pred2_lst, h=1, crit=\"RMSE\")\n",
    "print(\"crit：RMSE，\", rt)\n",
    "rt = mdm_test(actual_lst, pred1_lst, pred2_lst, h=1, crit=\"MAE\")\n",
    "print(\"crit：MAE，\", rt)\n",
    "rt = mdm_test(actual_lst, pred1_lst, pred2_lst, h=1, crit=\"MAPE\")\n",
    "print(\"crit：MAPE，\", rt)"
   ]
  },
  {
   "cell_type": "markdown",
   "id": "8dcd19a8",
   "metadata": {},
   "source": [
    "# ICEEMDAN-BiGRU"
   ]
  },
  {
   "cell_type": "code",
   "execution_count": 15,
   "id": "e3a80024",
   "metadata": {},
   "outputs": [
    {
     "name": "stdout",
     "output_type": "stream",
     "text": [
      "crit：RMSE， mdm_return(MDM=-13.29539089550798, p_value=1.6477255293843492e-35)\n",
      "crit：MAE， mdm_return(MDM=-15.051570589358686, p_value=1.251114350424528e-43)\n",
      "crit：MAPE， mdm_return(MDM=-14.837561018146818, p_value=1.2945935625991675e-42)\n"
     ]
    }
   ],
   "source": [
    "pred2_lst  =read_csv('./True value of S&P 500 Low and all model predictions.csv', index_col=0,usecols=[0,12])\n",
    "pred2_lst=pred2_lst.values\n",
    "pred2_lst=pred2_lst.flatten()\n",
    "rt = mdm_test(actual_lst, pred1_lst, pred2_lst, h=1, crit=\"RMSE\")\n",
    "print(\"crit：RMSE，\", rt)\n",
    "rt = mdm_test(actual_lst, pred1_lst, pred2_lst, h=1, crit=\"MAE\")\n",
    "print(\"crit：MAE，\", rt)\n",
    "rt = mdm_test(actual_lst, pred1_lst, pred2_lst, h=1, crit=\"MAPE\")\n",
    "print(\"crit：MAPE，\", rt)"
   ]
  },
  {
   "cell_type": "markdown",
   "id": "a906ab7a",
   "metadata": {},
   "source": [
    "# VMD-BiLSTM"
   ]
  },
  {
   "cell_type": "code",
   "execution_count": 16,
   "id": "67cd3fa6",
   "metadata": {},
   "outputs": [
    {
     "name": "stdout",
     "output_type": "stream",
     "text": [
      "crit：RMSE， mdm_return(MDM=-10.81876910016486, p_value=4.98071477127482e-25)\n",
      "crit：MAE， mdm_return(MDM=-13.37596729669938, p_value=7.169238144093355e-36)\n",
      "crit：MAPE， mdm_return(MDM=-12.885630717531901, p_value=1.0877966990544393e-33)\n"
     ]
    }
   ],
   "source": [
    "pred2_lst  =read_csv('./True value of S&P 500 Low and all model predictions.csv', index_col=0,usecols=[0,13])\n",
    "pred2_lst=pred2_lst.values\n",
    "pred2_lst=pred2_lst.flatten()\n",
    "rt = mdm_test(actual_lst, pred1_lst, pred2_lst, h=1, crit=\"RMSE\")\n",
    "print(\"crit：RMSE，\", rt)\n",
    "rt = mdm_test(actual_lst, pred1_lst, pred2_lst, h=1, crit=\"MAE\")\n",
    "print(\"crit：MAE，\", rt)\n",
    "rt = mdm_test(actual_lst, pred1_lst, pred2_lst, h=1, crit=\"MAPE\")\n",
    "print(\"crit：MAPE，\", rt)"
   ]
  },
  {
   "cell_type": "markdown",
   "id": "8efc96a1",
   "metadata": {},
   "source": [
    "# BiLSTM-SAM-TCN"
   ]
  },
  {
   "cell_type": "code",
   "execution_count": 17,
   "id": "4af685ac",
   "metadata": {},
   "outputs": [
    {
     "name": "stdout",
     "output_type": "stream",
     "text": [
      "crit：RMSE， mdm_return(MDM=-12.573824658777735, p_value=2.5122571564156197e-32)\n",
      "crit：MAE， mdm_return(MDM=-17.864177666204753, p_value=1.7507479175539795e-57)\n",
      "crit：MAPE， mdm_return(MDM=-17.70426673028158, p_value=1.1288622499425939e-56)\n"
     ]
    }
   ],
   "source": [
    "pred2_lst  =read_csv('./True value of S&P 500 Low and all model predictions.csv', index_col=0,usecols=[0,14])\n",
    "pred2_lst=pred2_lst.values\n",
    "pred2_lst=pred2_lst.flatten()\n",
    "rt = mdm_test(actual_lst, pred1_lst, pred2_lst, h=1, crit=\"RMSE\")\n",
    "print(\"crit：RMSE，\", rt)\n",
    "rt = mdm_test(actual_lst, pred1_lst, pred2_lst, h=1, crit=\"MAE\")\n",
    "print(\"crit：MAE，\", rt)\n",
    "rt = mdm_test(actual_lst, pred1_lst, pred2_lst, h=1, crit=\"MAPE\")\n",
    "print(\"crit：MAPE，\", rt)"
   ]
  },
  {
   "cell_type": "markdown",
   "id": "d67ba24f",
   "metadata": {},
   "source": [
    "# ICEEMDAN-BiLSTM-SAM-TCN"
   ]
  },
  {
   "cell_type": "code",
   "execution_count": 18,
   "id": "d1746ee3",
   "metadata": {},
   "outputs": [
    {
     "name": "stdout",
     "output_type": "stream",
     "text": [
      "crit：RMSE， mdm_return(MDM=-7.774480713377896, p_value=3.341449045027959e-14)\n",
      "crit：MAE， mdm_return(MDM=-10.173153049775, p_value=1.5955733687133806e-22)\n",
      "crit：MAPE， mdm_return(MDM=-9.739920201360391, p_value=6.681066048619891e-21)\n"
     ]
    }
   ],
   "source": [
    "pred2_lst  =read_csv('./True value of S&P 500 Low and all model predictions.csv', index_col=0,usecols=[0,15])\n",
    "pred2_lst=pred2_lst.values\n",
    "pred2_lst=pred2_lst.flatten()\n",
    "rt = mdm_test(actual_lst, pred1_lst, pred2_lst, h=1, crit=\"RMSE\")\n",
    "print(\"crit：RMSE，\", rt)\n",
    "rt = mdm_test(actual_lst, pred1_lst, pred2_lst, h=1, crit=\"MAE\")\n",
    "print(\"crit：MAE，\", rt)\n",
    "rt = mdm_test(actual_lst, pred1_lst, pred2_lst, h=1, crit=\"MAPE\")\n",
    "print(\"crit：MAPE，\", rt)"
   ]
  },
  {
   "cell_type": "markdown",
   "id": "9cdc4dce",
   "metadata": {},
   "source": [
    "# ICEEMDAN-VMD(PSO)-SAM-TCN"
   ]
  },
  {
   "cell_type": "code",
   "execution_count": 19,
   "id": "6e6e9bab",
   "metadata": {},
   "outputs": [
    {
     "name": "stdout",
     "output_type": "stream",
     "text": [
      "crit：RMSE， mdm_return(MDM=-11.605466686818636, p_value=3.2332595456020316e-28)\n",
      "crit：MAE， mdm_return(MDM=-13.43923534612789, p_value=3.7229586242551773e-36)\n",
      "crit：MAPE， mdm_return(MDM=-13.224471951997005, p_value=3.419940064033406e-35)\n"
     ]
    }
   ],
   "source": [
    "pred2_lst  =read_csv('./True value of S&P 500 Low and all model predictions.csv', index_col=0,usecols=[0,16])\n",
    "pred2_lst=pred2_lst.values\n",
    "pred2_lst=pred2_lst.flatten()\n",
    "rt = mdm_test(actual_lst, pred1_lst, pred2_lst, h=1, crit=\"RMSE\")\n",
    "print(\"crit：RMSE，\", rt)\n",
    "rt = mdm_test(actual_lst, pred1_lst, pred2_lst, h=1, crit=\"MAE\")\n",
    "print(\"crit：MAE，\", rt)\n",
    "rt = mdm_test(actual_lst, pred1_lst, pred2_lst, h=1, crit=\"MAPE\")\n",
    "print(\"crit：MAPE，\", rt)"
   ]
  },
  {
   "cell_type": "markdown",
   "id": "7f35f56e",
   "metadata": {},
   "source": [
    "# ICEEMDAN-VMD(PSO)-BiLSTM-SAM"
   ]
  },
  {
   "cell_type": "code",
   "execution_count": 20,
   "id": "53ae37e5",
   "metadata": {},
   "outputs": [
    {
     "name": "stdout",
     "output_type": "stream",
     "text": [
      "crit：RMSE， mdm_return(MDM=-7.968815088039682, p_value=8.180137680365665e-15)\n",
      "crit：MAE， mdm_return(MDM=-10.747299061128965, p_value=9.54357133694793e-25)\n",
      "crit：MAPE， mdm_return(MDM=-10.320009540125241, p_value=4.386379229294415e-23)\n"
     ]
    }
   ],
   "source": [
    "pred2_lst  =read_csv('./True value of S&P 500 Low and all model predictions.csv', index_col=0,usecols=[0,17])\n",
    "pred2_lst=pred2_lst.values\n",
    "pred2_lst=pred2_lst.flatten()\n",
    "rt = mdm_test(actual_lst, pred1_lst, pred2_lst, h=1, crit=\"RMSE\")\n",
    "print(\"crit：RMSE，\", rt)\n",
    "rt = mdm_test(actual_lst, pred1_lst, pred2_lst, h=1, crit=\"MAE\")\n",
    "print(\"crit：MAE，\", rt)\n",
    "rt = mdm_test(actual_lst, pred1_lst, pred2_lst, h=1, crit=\"MAPE\")\n",
    "print(\"crit：MAPE，\", rt)"
   ]
  },
  {
   "cell_type": "markdown",
   "id": "27f0c4b4",
   "metadata": {},
   "source": [
    "# ICEEMDAN-VMD(PSO)-BiLSTM-TCN"
   ]
  },
  {
   "cell_type": "code",
   "execution_count": 21,
   "id": "57e7283a",
   "metadata": {},
   "outputs": [
    {
     "name": "stdout",
     "output_type": "stream",
     "text": [
      "crit：RMSE， mdm_return(MDM=-16.252162128902704, p_value=1.9577189432470522e-49)\n",
      "crit：MAE， mdm_return(MDM=-17.964213543397204, p_value=5.4422243719845326e-58)\n",
      "crit：MAPE， mdm_return(MDM=-17.942186145318757, p_value=7.040202042828726e-58)\n"
     ]
    }
   ],
   "source": [
    "pred2_lst  =read_csv('./True value of S&P 500 Low and all model predictions.csv', index_col=0,usecols=[0,18])\n",
    "pred2_lst=pred2_lst.values\n",
    "pred2_lst=pred2_lst.flatten()\n",
    "rt = mdm_test(actual_lst, pred1_lst, pred2_lst, h=1, crit=\"RMSE\")\n",
    "print(\"crit：RMSE，\", rt)\n",
    "rt = mdm_test(actual_lst, pred1_lst, pred2_lst, h=1, crit=\"MAE\")\n",
    "print(\"crit：MAE，\", rt)\n",
    "rt = mdm_test(actual_lst, pred1_lst, pred2_lst, h=1, crit=\"MAPE\")\n",
    "print(\"crit：MAPE，\", rt)"
   ]
  },
  {
   "cell_type": "markdown",
   "id": "fe845180",
   "metadata": {},
   "source": [
    "# CEEMDAN-VMD(PSO)-BiLSTM-SAM-TCN"
   ]
  },
  {
   "cell_type": "code",
   "execution_count": 22,
   "id": "cf31a4c2",
   "metadata": {},
   "outputs": [
    {
     "name": "stdout",
     "output_type": "stream",
     "text": [
      "crit：RMSE， mdm_return(MDM=-8.458349216977895, p_value=2.0973727314979632e-16)\n",
      "crit：MAE， mdm_return(MDM=-10.714032467295537, p_value=1.2904639944018136e-24)\n",
      "crit：MAPE， mdm_return(MDM=-10.550342784389734, p_value=5.643933839698868e-24)\n"
     ]
    }
   ],
   "source": [
    "pred2_lst  =read_csv('./True value of S&P 500 Low and all model predictions.csv', index_col=0,usecols=[0,19])\n",
    "pred2_lst=pred2_lst.values\n",
    "pred2_lst=pred2_lst.flatten()\n",
    "rt = mdm_test(actual_lst, pred1_lst, pred2_lst, h=1, crit=\"RMSE\")\n",
    "print(\"crit：RMSE，\", rt)\n",
    "rt = mdm_test(actual_lst, pred1_lst, pred2_lst, h=1, crit=\"MAE\")\n",
    "print(\"crit：MAE，\", rt)\n",
    "rt = mdm_test(actual_lst, pred1_lst, pred2_lst, h=1, crit=\"MAPE\")\n",
    "print(\"crit：MAPE，\", rt)"
   ]
  },
  {
   "cell_type": "markdown",
   "id": "12f64b84",
   "metadata": {},
   "source": [
    "# ICEEMDAN-VMD(PSO)-BiLSTM-SAM-CNN"
   ]
  },
  {
   "cell_type": "code",
   "execution_count": 23,
   "id": "c76c223e",
   "metadata": {},
   "outputs": [
    {
     "name": "stdout",
     "output_type": "stream",
     "text": [
      "crit：RMSE， mdm_return(MDM=-5.842723647124947, p_value=8.453648789695053e-09)\n",
      "crit：MAE， mdm_return(MDM=-6.062540700788713, p_value=2.3786507937224206e-09)\n",
      "crit：MAPE， mdm_return(MDM=-6.010758598655915, p_value=3.2180651556250068e-09)\n"
     ]
    }
   ],
   "source": [
    "pred2_lst  =read_csv('./True value of S&P 500 Low and all model predictions.csv', index_col=0,usecols=[0,20])\n",
    "pred2_lst=pred2_lst.values\n",
    "pred2_lst=pred2_lst.flatten()\n",
    "rt = mdm_test(actual_lst, pred1_lst, pred2_lst, h=1, crit=\"RMSE\")\n",
    "print(\"crit：RMSE，\", rt)\n",
    "rt = mdm_test(actual_lst, pred1_lst, pred2_lst, h=1, crit=\"MAE\")\n",
    "print(\"crit：MAE，\", rt)\n",
    "rt = mdm_test(actual_lst, pred1_lst, pred2_lst, h=1, crit=\"MAPE\")\n",
    "print(\"crit：MAPE，\", rt)"
   ]
  },
  {
   "cell_type": "markdown",
   "id": "4f42923a",
   "metadata": {},
   "source": [
    "# ICEEMDAN-VMD(PSO)-LSTM-SAM-TCN"
   ]
  },
  {
   "cell_type": "code",
   "execution_count": 24,
   "id": "b126a28c",
   "metadata": {},
   "outputs": [
    {
     "name": "stdout",
     "output_type": "stream",
     "text": [
      "crit：RMSE， mdm_return(MDM=-11.572140254731758, p_value=4.441473576132865e-28)\n",
      "crit：MAE， mdm_return(MDM=-13.86451673698362, p_value=4.3650053867795364e-38)\n",
      "crit：MAPE， mdm_return(MDM=-13.615154352727796, p_value=5.969164699141978e-37)\n"
     ]
    }
   ],
   "source": [
    "pred2_lst  =read_csv('./True value of S&P 500 Low and all model predictions.csv', index_col=0,usecols=[0,21])\n",
    "pred2_lst=pred2_lst.values\n",
    "pred2_lst=pred2_lst.flatten()\n",
    "rt = mdm_test(actual_lst, pred1_lst, pred2_lst, h=1, crit=\"RMSE\")\n",
    "print(\"crit：RMSE，\", rt)\n",
    "rt = mdm_test(actual_lst, pred1_lst, pred2_lst, h=1, crit=\"MAE\")\n",
    "print(\"crit：MAE，\", rt)\n",
    "rt = mdm_test(actual_lst, pred1_lst, pred2_lst, h=1, crit=\"MAPE\")\n",
    "print(\"crit：MAPE，\", rt)"
   ]
  }
 ],
 "metadata": {
  "kernelspec": {
   "display_name": "Python 3 (ipykernel)",
   "language": "python",
   "name": "python3"
  },
  "language_info": {
   "codemirror_mode": {
    "name": "ipython",
    "version": 3
   },
   "file_extension": ".py",
   "mimetype": "text/x-python",
   "name": "python",
   "nbconvert_exporter": "python",
   "pygments_lexer": "ipython3",
   "version": "3.10.9"
  }
 },
 "nbformat": 4,
 "nbformat_minor": 5
}
