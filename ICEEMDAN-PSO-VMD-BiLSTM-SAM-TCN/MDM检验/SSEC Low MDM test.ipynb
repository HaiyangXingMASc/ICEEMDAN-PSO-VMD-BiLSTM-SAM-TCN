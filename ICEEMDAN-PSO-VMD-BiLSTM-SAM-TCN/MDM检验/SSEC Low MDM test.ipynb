{
 "cells": [
  {
   "cell_type": "markdown",
   "id": "6b4579d5",
   "metadata": {},
   "source": [
    "# Defining MDM"
   ]
  },
  {
   "cell_type": "code",
   "execution_count": 1,
   "id": "3d7fa26b",
   "metadata": {},
   "outputs": [],
   "source": [
    "def mdm_test(actual_lst, pred1_lst, pred2_lst, h = 1, crit=\"RMSE\"):\n",
    "    def error_check():\n",
    "        rt = 0\n",
    "        msg = \"\"\n",
    "        if (not isinstance(h, int)):\n",
    "            rt = -1\n",
    "            msg = \"The type of the number of steps ahead (h) is not an integer.\"\n",
    "            return (rt,msg)\n",
    "        if (h < 1):\n",
    "            rt = -1\n",
    "            msg = \"The number of steps ahead (h) is not large enough.\"\n",
    "            return (rt,msg)\n",
    "        len_act = len(actual_lst)\n",
    "        len_p1  = len(pred1_lst)\n",
    "        len_p2  = len(pred2_lst)\n",
    "        if (len_act != len_p1 or len_p1 != len_p2 or len_act != len_p2):\n",
    "            rt = -1\n",
    "            msg = \"Lengths of actual_lst, pred1_lst and pred2_lst do not match.\"\n",
    "            return (rt,msg)\n",
    "        if (h >= len_act):\n",
    "            rt = -1\n",
    "            msg = \"The number of steps ahead is too large.\"\n",
    "            return (rt,msg)\n",
    "\n",
    "        if (crit != \"RMSE\" and crit != \"MAE\" and crit != \"MAPE\"):\n",
    "            rt = -1\n",
    "            msg = \"The criterion is not supported.\"\n",
    "            return (rt,msg)  \n",
    "        from re import compile as re_compile\n",
    "        comp = re_compile(\"^\\d+?\\.\\d+?$\")  \n",
    "        def compiled_regex(s):\n",
    "            if comp.match(s) is None:\n",
    "                return s.isdigit()\n",
    "            return True\n",
    "        for actual, pred1, pred2 in zip(actual_lst, pred1_lst, pred2_lst):\n",
    "            is_actual_ok = compiled_regex(str(abs(actual)))\n",
    "            is_pred1_ok = compiled_regex(str(abs(pred1)))\n",
    "            is_pred2_ok = compiled_regex(str(abs(pred2)))\n",
    "            if (not (is_actual_ok and is_pred1_ok and is_pred2_ok)):  \n",
    "                msg = \"An element in the actual_lst, pred1_lst or pred2_lst is not numeric.\"\n",
    "                rt = -1\n",
    "                return (rt,msg)\n",
    "        return (rt,msg)\n",
    "    \n",
    "\n",
    "    error_code = error_check()\n",
    "\n",
    "    if (error_code[0] == -1):\n",
    "        raise SyntaxError(error_code[1])\n",
    "        return\n",
    "\n",
    "    from scipy.stats import t\n",
    "    import collections\n",
    "    import pandas as pd\n",
    "    import numpy as np\n",
    "    \n",
    "    e1_lst = []\n",
    "    e2_lst = []\n",
    "    d_lst  = []\n",
    "    \n",
    "    actual_lst = pd.Series(actual_lst).apply(lambda x: float(x)).tolist()\n",
    "    pred1_lst = pd.Series(pred1_lst).apply(lambda x: float(x)).tolist()\n",
    "    pred2_lst = pd.Series(pred2_lst).apply(lambda x: float(x)).tolist()\n",
    "    \n",
    "    T = float(len(actual_lst))\n",
    "    \n",
    "    if crit == \"RMSE\":\n",
    "        for actual, p1, p2 in zip(actual_lst, pred1_lst, pred2_lst):\n",
    "            e1_lst.append((actual - p1) ** 2)\n",
    "            e2_lst.append((actual - p2) ** 2)\n",
    "        for e1, e2 in zip(e1_lst, e2_lst):\n",
    "            d_lst.append(e1 - e2)\n",
    "\n",
    "    if (crit == \"MAE\"):\n",
    "        for actual,p1,p2 in zip(actual_lst,pred1_lst,pred2_lst):\n",
    "            e1_lst.append(abs(actual - p1))\n",
    "            e2_lst.append(abs(actual - p2))\n",
    "        for e1, e2 in zip(e1_lst, e2_lst):\n",
    "            d_lst.append(e1 - e2)\n",
    "\n",
    "    if (crit == \"MAPE\"):\n",
    "        for actual,p1,p2 in zip(actual_lst,pred1_lst,pred2_lst):\n",
    "            e1_lst.append(abs((actual - p1)/actual))\n",
    "            e2_lst.append(abs((actual - p2)/actual))\n",
    "        for e1, e2 in zip(e1_lst, e2_lst):\n",
    "            d_lst.append(e1 - e2)\n",
    "   \n",
    "    mean_d = pd.Series(d_lst).mean()\n",
    "    \n",
    "    def autocovariance(Xi, N, k, Xs):\n",
    "        autoCov = 0\n",
    "        T = float(N)\n",
    "        for i in np.arange(0, N-k):\n",
    "              autoCov += ((Xi[i+k])-Xs)*(Xi[i]-Xs)\n",
    "        return (1/(T))*autoCov\n",
    "    gamma = []\n",
    "    for lag in range(0,h):\n",
    "        gamma.append(autocovariance(d_lst,len(d_lst),lag,mean_d)) # 0, 1, 2\n",
    "    V_d = (gamma[0] + 2*sum(gamma[1:]))/T\n",
    "    MDM_stat=V_d**(-0.5)*mean_d\n",
    "    harvey_adj=((T+1-2*h+h*(h-1)/T)/T)**(0.5)\n",
    "    MDM_stat = harvey_adj*MDM_stat\n",
    "    p_value = 2*t.cdf(-abs(MDM_stat), df = T - 1)\n",
    "    \n",
    "    dm_return = collections.namedtuple('mdm_return', 'MDM p_value')\n",
    "    \n",
    "    rt = dm_return(MDM = MDM_stat, p_value = p_value)\n",
    "    \n",
    "    return rt"
   ]
  },
  {
   "cell_type": "markdown",
   "id": "53f9beb6",
   "metadata": {},
   "source": [
    "# Importing real values"
   ]
  },
  {
   "cell_type": "code",
   "execution_count": 2,
   "id": "ab4c9794",
   "metadata": {},
   "outputs": [
    {
     "data": {
      "text/plain": [
       "array([3293.769861, 3304.170012, 3281.370202, 3276.620258, 3226.600001,\n",
       "       3235.539989, 3238.379832, 3231.120128, 3219.420006, 3209.909838,\n",
       "       3237.850185, 3254.110192, 3291.600075, 3292.150085, 3329.42974 ,\n",
       "       3346.169744, 3339.040173, 3329.489861, 3291.640027, 3313.649731,\n",
       "       3323.94981 , 3333.990012, 3330.449857, 3356.310018, 3377.990027,\n",
       "       3396.240037, 3362.33026 , 3344.280006, 3364.489961, 3391.760056,\n",
       "       3386.910039, 3435.870227, 3428.800002, 3417.050037, 3414.310073,\n",
       "       3403.030216, 3371.919748, 3357.749818, 3325.170072, 3338.629799,\n",
       "       3348.41982 , 3359.169837, 3354.009906, 3382.750056, 3381.120196,\n",
       "       3353.860186, 3360.200039, 3354.019991, 3348.350002, 3383.649931,\n",
       "       3376.090204, 3374.420005, 3419.729881, 3457.210068, 3484.719871,\n",
       "       3513.129937, 3526.620306, 3544.889711, 3516.990091, 3517.469895,\n",
       "       3575.590192, 3559.599954, 3533.790217, 3544.260186, 3553.020005,\n",
       "       3556.439918, 3585.799896, 3585.029959, 3591.019947, 3564.740103,\n",
       "       3546.490092, 3496.879821, 3446.550038, 3469.879689, 3495.56996 ,\n",
       "       3508.509932, 3465.77013 , 3492.959934, 3492.129877, 3528.679934,\n",
       "       3612.499811, 3663.660039, 3634.00993 , 3642.440053, 3617.700081,\n",
       "       3531.590177, 3568.46993 , 3500.700024, 3511.989966, 3485.360256,\n",
       "       3498.719911, 3487.379933, 3456.669755, 3421.220105, 3328.309938,\n",
       "       3354.820182, 3369.900072, 3417.240097, 3392.509822, 3406.170082,\n",
       "       3410.280029, 3449.379991, 3389.290053, 3404.22992 , 3390.049905,\n",
       "       3362.179764, 3344.97004 , 3373.319985, 3409.889824, 3423.320072,\n",
       "       3420.829901, 3438.830118, 3462.830021, 3471.760118, 3453.190108,\n",
       "       3459.32012 , 3442.139875, 3403.899836, 3387.899902, 3392.979929,\n",
       "       3373.089974, 3394.129985, 3414.360109, 3463.459933, 3450.109975,\n",
       "       3456.31989 , 3456.329974, 3438.570241, 3417.259879, 3423.320072,\n",
       "       3447.589937, 3426.899791, 3426.850143, 3416.780075, 3401.929808,\n",
       "       3384.699915, 3428.390015, 3418.380068, 3422.560221, 3490.140067,\n",
       "       3510.86008 , 3503.820108, 3486.070071, 3479.670098, 3469.869992,\n",
       "       3502.440041, 3585.370128, 3579.259898, 3582.360201, 3580.65005 ,\n",
       "       3581.909875, 3584.600191, 3584.209987, 3561.889981, 3581.89979 ,\n",
       "       3563.249878, 3572.639998, 3584.129696, 3587.150096, 3547.189823,\n",
       "       3513.560093, 3507.350179, 3503.180111, 3504.010168, 3536.810229,\n",
       "       3549.850272, 3548.820071, 3564.520176, 3594.219934, 3570.529946,\n",
       "       3569.500132, 3573.939774, 3514.340114, 3510.580032, 3496.929858,\n",
       "       3504.469803, 3521.060087, 3485.049954, 3527.389855, 3542.819998,\n",
       "       3525.490032, 3514.259823, 3537.729885, 3506.340147, 3509.18988 ,\n",
       "       3543.050009, 3558.290093, 3541.510137, 3424.740091, 3380.280054,\n",
       "       3312.719989, 3382.570081, 3370.450082, 3367.639911, 3435.459853,\n",
       "       3440.779977, 3449.390075, 3436.929908, 3438.699792, 3477.060072,\n",
       "       3524.040147, 3513.449936, 3500.800096, 3510.900031, 3438.120303,\n",
       "       3437.689759, 3446.010113, 3394.970127, 3436.67003 , 3481.139764,\n",
       "       3510.069974, 3499.449896, 3493.380005, 3512.989913, 3496.389933,\n",
       "       3514.66981 , 3557.679962, 3569.400059, 3580.139991, 3615.139704,\n",
       "       3660.999977, 3662.15973 , 3681.639699, 3692.82026 , 3655.629817,\n",
       "       3638.320021, 3606.730138, 3569.270121, 3560.499829, 3632.279997,\n",
       "       3607.790206, 3559.919953, 3568.820183, 3518.050159, 3541.92982 ,\n",
       "       3571.730038, 3586.749807, 3515.139917, 3515.649975, 3547.179738,\n",
       "       3542.690059, 3539.479987, 3560.620071, 3574.300112, 3576.350043,\n",
       "       3578.759924, 3564.209875, 3589.710086, 3553.129774, 3509.490097,\n",
       "       3502.799991, 3519.290203, 3477.65973 , 3480.49007 , 3503.009833,\n",
       "       3491.460013, 3484.240067, 3489.040047, 3448.439776, 3482.830133,\n",
       "       3527.389855, 3521.290098, 3517.810063, 3513.520142, 3513.110155,\n",
       "       3517.64987 , 3562.749905, 3577.360076, 3575.289975, 3579.529861,\n",
       "       3554.879876, 3526.349956, 3546.360153, 3558.689994, 3567.139899,\n",
       "       3573.209789, 3586.809928, 3572.57018 , 3591.990028, 3638.700141,\n",
       "       3651.34998 , 3678.059981, 3654.659737, 3645.240139, 3644.659874,\n",
       "       3631.659782, 3589.360221, 3591.450103, 3616.550025, 3618.049946,\n",
       "       3612.070043, 3601.939854, 3607.36005 , 3596.319901, 3595.499929,\n",
       "       3624.939809, 3610.08993 , 3583.469917, 3559.880001, 3577.100198,\n",
       "       3555.130057, 3562.749905, 3572.100073, 3555.159923, 3519.320069,\n",
       "       3519.429839, 3531.329911, 3541.659857, 3540.550141, 3514.889736,\n",
       "       3500.139929, 3433.060057, 3417.759853, 3392.019933, 3356.560199,\n",
       "       3407.75999 , 3390.459891, 3444.080036, 3464.219785, 3459.330205,\n",
       "       3415.450044, 3421.639788, 3453.800239, 3454.280043, 3447.029843,\n",
       "       3471.689912, 3437.669978, 3458.179761, 3400.209961, 3440.930086,\n",
       "       3425.520112, 3465.720094, 3467.000089, 3473.339942, 3437.699844,\n",
       "       3360.739964, 3287.34002 , 3147.679983, 3291.240125, 3217.419917,\n",
       "       3223.529953, 3063.969875, 3023.29998 , 3202.929988, 3197.360071,\n",
       "       3223.389929, 3239.530081, 3251.97997 , 3236.659984, 3211.639965,\n",
       "       3159.830042, 3196.460002, 3216.300115, 3246.059994, 3226.299978,\n",
       "       3255.690016, 3236.480009, 3208.350184, 3156.510007, 3140.899889,\n",
       "       3183.530116, 3200.229975, 3200.129903, 3166.979977, 3174.709982,\n",
       "       3142.050139, 3069.680009, 3049.360092, 2928.509966, 2878.260086,\n",
       "       2863.649915, 2936.789981, 2968.330022, 3042.12017 , 2992.719935,\n",
       "       2983.610057, 2957.399836, 3034.670019, 3032.949977, 3059.249991,\n",
       "       3063.39989 , 3057.639913, 3071.299979, 3042.669986, 3107.090184,\n",
       "       3127.899991, 3070.929944, 3069.949972, 3079.479921, 3112.540053,\n",
       "       3123.149852, 3141.999909, 3160.040078, 3163.760014, 3181.649881,\n",
       "       3222.639968, 3216.009983, 3223.479917, 3210.810101, 3229.310099,\n",
       "       3195.820005, 3288.850026, 3277.530218, 3262.889792, 3292.930106,\n",
       "       3279.829942, 3266.540105, 3262.290134, 3322.949863, 3364.000072,\n",
       "       3358.870008, 3358.470106, 3358.929741, 3378.360062, 3364.090059,\n",
       "       3372.06016 , 3333.100222, 3332.310116, 3354.120063, 3297.000102,\n",
       "       3277.079892, 3266.479984, 3261.489944, 3228.059971, 3226.229966,\n",
       "       3256.020099, 3287.739922, 3271.999864, 3246.730052, 3243.030091,\n",
       "       3246.040019, 3265.729829, 3277.110147, 3246.370102, 3225.550017,\n",
       "       3155.189867, 3159.460008, 3155.699926, 3184.449966, 3214.0801  ,\n",
       "       3227.540021, 3217.810121, 3237.899834, 3272.840006, 3261.820027,\n",
       "       3271.570096, 3263.350203, 3270.560064, 3258.059945, 3247.189881,\n",
       "       3262.629915, 3212.389925, 3199.120064, 3232.280075, 3199.000016,\n",
       "       3212.629827, 3184.389845, 3181.629905, 3173.790131, 3172.040029,\n",
       "       3203.819972, 3227.820069, 3233.799971, 3236.51007 , 3259.659939,\n",
       "       3221.96002 , 3174.389983, 3126.399875, 3101.220051, 3114.039974,\n",
       "       3091.300091, 3092.819988, 3072.239999, 3048.510059, 3048.360145,\n",
       "       3044.860135, 3026.08009 , 3021.929998, 2968.279986, 2953.499925,\n",
       "       2934.090162, 3004.49996 , 3035.029969, 3052.709994, 3074.219918,\n",
       "       3044.379943, 3013.689934, 3026.959989, 2965.169987, 2944.259914,\n",
       "       2977.560142, 2981.689871, 2908.979961, 2885.090022, 2896.760083,\n",
       "       2954.950004, 2977.719948, 2996.999966, 3054.459902, 3047.459882,\n",
       "       3046.189972, 3022.850043, 3070.300031, 3075.22006 , 3074.499966,\n",
       "       3115.35003 , 3087.169975, 3096.889983, 3056.169858, 3076.320079,\n",
       "       3075.320132, 3084.860166, 3077.969915, 3034.699885, 3096.110156,\n",
       "       3137.370207, 3164.52995 , 3149.840071, 3177.06013 , 3195.080129,\n",
       "       3188.669876, 3187.259943, 3182.9099  , 3176.580132, 3171.479934,\n",
       "       3168.590055, 3158.449975, 3151.610149, 3096.100072, 3061.509958,\n",
       "       3060.549962, 3044.600063, 3031.540044, 3047.350112, 3074.3101  ,\n",
       "       3079.429885, 3064.459958, 3082.19991 , 3073.050081, 3109.450029,\n",
       "       3130.229969, 3151.84016 , 3165.43002 , 3165.139887, 3160.889917,\n",
       "       3153.399814, 3167.510011, 3197.32012 , 3211.760013, 3220.370111,\n",
       "       3210.379946, 3247.199965, 3266.760031, 3252.010031, 3245.409912,\n",
       "       3272.409851, 3235.350123, 3226.20999 , 3233.830032, 3230.439985,\n",
       "       3225.769944, 3247.230026, 3252.629858, 3279.189944, 3274.550157,\n",
       "       3231.340054, 3223.25999 , 3225.840149, 3282.439967, 3286.719804,\n",
       "       3275.360045, 3253.96978 , 3251.719898, 3246.139897, 3272.040204,\n",
       "       3306.460039, 3302.620055, 3308.729897, 3284.409996, 3263.689983,\n",
       "       3260.000107, 3229.499965, 3228.120092, 3216.989955, 3256.860241,\n",
       "       3224.71996 , 3240.159994, 3231.649968, 3237.889943, 3255.740052,\n",
       "       3252.990002, 3260.840249, 3229.699915, 3241.740012, 3229.580061,\n",
       "       3220.980048, 3260.040059])"
      ]
     },
     "execution_count": 2,
     "metadata": {},
     "output_type": "execute_result"
    }
   ],
   "source": [
    "import random\n",
    "import numpy as np\n",
    "import pandas as pd\n",
    "from pandas import read_csv\n",
    "actual_lst = read_csv('./True value of SSEC Low and all model predictions.csv', index_col=0,usecols=[0,22])\n",
    "actual_lst=actual_lst.values\n",
    "actual_lst=actual_lst.flatten()\n",
    "actual_lst"
   ]
  },
  {
   "cell_type": "markdown",
   "id": "10efe72e",
   "metadata": {},
   "source": [
    "# Import the predictions of the proposed model"
   ]
  },
  {
   "cell_type": "code",
   "execution_count": 3,
   "id": "6a5820d6",
   "metadata": {
    "scrolled": true
   },
   "outputs": [
    {
     "data": {
      "text/plain": [
       "array([3295.9438, 3292.5186, 3286.8171, 3268.233 , 3240.4377, 3232.0999,\n",
       "       3244.3987, 3240.707 , 3224.8481, 3218.6604, 3234.4863, 3261.4504,\n",
       "       3279.69  , 3291.1953, 3309.96  , 3335.2827, 3340.331 , 3316.3953,\n",
       "       3294.5151, 3300.7817, 3321.0996, 3328.3477, 3329.3462, 3339.7559,\n",
       "       3368.5466, 3386.243 , 3365.971 , 3344.1519, 3359.2834, 3378.6794,\n",
       "       3391.6533, 3416.074 , 3425.4937, 3412.6355, 3409.302 , 3401.3875,\n",
       "       3379.7668, 3358.7058, 3334.112 , 3330.7175, 3356.194 , 3358.983 ,\n",
       "       3352.845 , 3370.276 , 3379.9202, 3361.8145, 3349.2358, 3347.9004,\n",
       "       3352.2732, 3368.9937, 3375.4138, 3373.9348, 3402.7195, 3440.8313,\n",
       "       3466.1538, 3490.9302, 3513.5566, 3522.09  , 3509.7522, 3511.9106,\n",
       "       3545.203 , 3556.4512, 3534.5327, 3525.5044, 3539.81  , 3554.5266,\n",
       "       3566.479 , 3573.0122, 3573.0996, 3563.4285, 3538.7512, 3497.6123,\n",
       "       3458.6958, 3460.2026, 3492.1729, 3497.411 , 3488.4836, 3489.047 ,\n",
       "       3497.0776, 3527.0508, 3599.2783, 3639.6174, 3637.8274, 3633.7175,\n",
       "       3605.782 , 3558.1785, 3544.5454, 3530.2236, 3501.6272, 3497.3794,\n",
       "       3493.2546, 3484.0884, 3472.4521, 3425.9917, 3358.4736, 3348.2686,\n",
       "       3385.6633, 3405.112 , 3403.18  , 3395.1018, 3408.5996, 3425.332 ,\n",
       "       3408.2773, 3385.0544, 3382.8525, 3360.5303, 3341.7717, 3358.709 ,\n",
       "       3392.8042, 3407.8354, 3405.6543, 3412.1062, 3437.877 , 3449.82  ,\n",
       "       3437.7007, 3428.6406, 3421.3728, 3398.022 , 3372.072 , 3366.032 ,\n",
       "       3367.508 , 3374.8623, 3396.9307, 3425.4028, 3438.569 , 3430.7273,\n",
       "       3429.3645, 3420.956 , 3398.2395, 3398.0686, 3415.4226, 3411.976 ,\n",
       "       3401.8247, 3398.4424, 3380.3667, 3376.8606, 3398.384 , 3401.0173,\n",
       "       3403.552 , 3447.0823, 3480.467 , 3476.1787, 3466.0168, 3451.0977,\n",
       "       3441.709 , 3480.4978, 3536.0317, 3552.097 , 3552.1306, 3552.067 ,\n",
       "       3551.6091, 3562.007 , 3564.2095, 3547.5894, 3544.49  , 3552.221 ,\n",
       "       3548.528 , 3558.8066, 3567.6958, 3538.7712, 3506.6204, 3501.5068,\n",
       "       3497.1248, 3500.898 , 3523.3787, 3534.547 , 3538.141 , 3555.8604,\n",
       "       3567.19  , 3561.7808, 3562.57  , 3552.5317, 3522.0422, 3499.398 ,\n",
       "       3494.6497, 3503.0435, 3510.043 , 3501.3447, 3509.8813, 3535.8354,\n",
       "       3526.17  , 3512.8137, 3522.3972, 3512.0715, 3500.49  , 3525.085 ,\n",
       "       3547.408 , 3526.4668, 3456.7642, 3365.3818, 3337.8389, 3364.4949,\n",
       "       3374.0833, 3377.1516, 3408.3125, 3437.2197, 3439.6453, 3430.6167,\n",
       "       3421.0063, 3451.9106, 3497.1704, 3496.5388, 3483.2527, 3475.2925,\n",
       "       3441.811 , 3419.5193, 3422.219 , 3408.679 , 3411.6252, 3456.4683,\n",
       "       3487.3447, 3485.002 , 3479.2495, 3485.2239, 3489.117 , 3503.9456,\n",
       "       3535.9502, 3552.106 , 3560.    , 3592.8777, 3633.3855, 3647.6306,\n",
       "       3661.7654, 3669.5527, 3646.5635, 3626.5857, 3606.709 , 3562.3396,\n",
       "       3558.6638, 3604.3535, 3603.3586, 3571.7534, 3549.8455, 3524.7532,\n",
       "       3527.5417, 3573.3923, 3572.1116, 3525.9778, 3516.594 , 3541.2734,\n",
       "       3542.8674, 3545.8542, 3551.9255, 3556.5042, 3574.8074, 3575.3132,\n",
       "       3561.0137, 3572.2705, 3560.3354, 3505.64  , 3497.5876, 3515.9746,\n",
       "       3489.8723, 3475.4204, 3493.3386, 3490.254 , 3486.2988, 3479.823 ,\n",
       "       3453.0786, 3468.6465, 3514.3203, 3511.95  , 3499.6826, 3506.1362,\n",
       "       3498.4602, 3504.1746, 3540.8042, 3556.5798, 3557.3032, 3562.503 ,\n",
       "       3543.9968, 3519.9436, 3533.5657, 3549.0352, 3550.218 , 3567.6536,\n",
       "       3576.5867, 3565.2568, 3579.7344, 3615.828 , 3639.965 , 3653.7595,\n",
       "       3647.2246, 3628.122 , 3634.0686, 3630.0173, 3596.952 , 3586.9111,\n",
       "       3609.0227, 3618.6228, 3612.7776, 3606.5469, 3602.064 , 3599.3303,\n",
       "       3601.1555, 3612.495 , 3612.6584, 3588.3762, 3568.213 , 3570.683 ,\n",
       "       3571.7942, 3566.6921, 3571.8533, 3562.839 , 3532.4822, 3519.7573,\n",
       "       3532.0918, 3541.3147, 3539.2107, 3526.7402, 3493.7937, 3455.355 ,\n",
       "       3426.1472, 3398.09  , 3383.8496, 3395.4229, 3408.6526, 3426.3914,\n",
       "       3463.3706, 3463.8054, 3424.859 , 3416.767 , 3446.079 , 3458.1714,\n",
       "       3457.1772, 3458.3914, 3459.272 , 3455.7192, 3442.422 , 3433.198 ,\n",
       "       3445.579 , 3464.1711, 3466.4326, 3465.4634, 3451.497 , 3389.6975,\n",
       "       3280.515 , 3218.6897, 3229.5474, 3262.436 , 3212.2312, 3099.9863,\n",
       "       3067.9785, 3162.5146, 3226.5571, 3223.591 , 3230.1892, 3247.1077,\n",
       "       3250.6956, 3219.787 , 3181.973 , 3184.9705, 3228.3484, 3237.3147,\n",
       "       3235.76  , 3251.2754, 3250.476 , 3214.786 , 3174.2014, 3156.1572,\n",
       "       3178.91  , 3202.516 , 3189.8357, 3170.7021, 3169.632 , 3139.8967,\n",
       "       3083.4412, 3036.7822, 2955.874 , 2877.9949, 2870.0093, 2908.9578,\n",
       "       2966.1516, 3001.712 , 2992.1157, 2952.065 , 2962.706 , 2996.584 ,\n",
       "       3016.5798, 3027.9385, 3034.3533, 3034.189 , 3032.19  , 3033.9766,\n",
       "       3064.3274, 3093.673 , 3070.986 , 3038.0298, 3053.5059, 3087.5557,\n",
       "       3099.809 , 3110.513 , 3129.0398, 3139.7817, 3155.8691, 3183.8225,\n",
       "       3195.105 , 3197.6523, 3200.1086, 3191.764 , 3203.499 , 3247.4626,\n",
       "       3264.2322, 3253.438 , 3266.135 , 3280.6243, 3259.9905, 3260.2   ,\n",
       "       3302.514 , 3345.8098, 3357.8254, 3349.4749, 3347.4128, 3365.171 ,\n",
       "       3374.869 , 3360.1477, 3338.1213, 3339.2476, 3345.3984, 3316.3987,\n",
       "       3287.411 , 3284.1567, 3277.7302, 3253.5688, 3244.1152, 3265.0764,\n",
       "       3288.8347, 3287.709 , 3260.4622, 3244.578 , 3254.5122, 3267.5461,\n",
       "       3268.4966, 3258.9631, 3228.9949, 3185.2927, 3161.9153, 3171.7986,\n",
       "       3194.1184, 3219.5425, 3229.852 , 3224.9678, 3240.801 , 3271.6106,\n",
       "       3275.1797, 3268.738 , 3271.8198, 3269.555 , 3259.8977, 3260.424 ,\n",
       "       3257.1738, 3232.1611, 3216.171 , 3226.3953, 3227.6797, 3220.5745,\n",
       "       3213.5396, 3199.12  , 3195.921 , 3201.8103, 3214.313 , 3236.9702,\n",
       "       3249.0686, 3252.0283, 3261.2437, 3251.1936, 3201.6045, 3151.0542,\n",
       "       3132.4365, 3132.3594, 3126.5955, 3117.7988, 3100.2444, 3077.689 ,\n",
       "       3073.8247, 3073.956 , 3058.2107, 3044.3027, 3018.7314, 2974.4065,\n",
       "       2970.2388, 3015.6477, 3048.3455, 3065.3562, 3075.1133, 3058.1118,\n",
       "       3039.2935, 3029.4343, 2987.8052, 2959.6313, 2985.498 , 2988.7   ,\n",
       "       2942.4634, 2903.3452, 2912.9216, 2959.0498, 2996.1833, 3012.6106,\n",
       "       3035.3381, 3062.647 , 3048.9412, 3034.7595, 3059.5261, 3081.6943,\n",
       "       3081.0278, 3095.5698, 3108.3062, 3094.453 , 3077.3933, 3074.8604,\n",
       "       3088.8584, 3104.8345, 3091.619 , 3066.5862, 3095.4365, 3153.705 ,\n",
       "       3167.748 , 3167.243 , 3179.9858, 3201.6829, 3208.333 , 3206.079 ,\n",
       "       3196.385 , 3191.2456, 3190.6885, 3181.1765, 3175.9246, 3167.611 ,\n",
       "       3127.463 , 3087.1748, 3082.5977, 3078.9248, 3060.1685, 3067.897 ,\n",
       "       3087.936 , 3096.6877, 3095.2246, 3088.951 , 3093.4158, 3119.554 ,\n",
       "       3144.2227, 3152.883 , 3168.8953, 3179.1973, 3167.176 , 3164.5942,\n",
       "       3180.215 , 3201.8499, 3221.7324, 3226.2559, 3221.5376, 3244.688 ,\n",
       "       3271.5125, 3262.0718, 3257.586 , 3270.9392, 3258.3694, 3240.2788,\n",
       "       3246.4243, 3249.8748, 3247.9026, 3256.6094, 3269.5154, 3286.7058,\n",
       "       3293.5513, 3262.966 , 3234.4126, 3252.3079, 3290.0479, 3301.9573,\n",
       "       3291.274 , 3277.0593, 3268.2422, 3269.0227, 3289.9167, 3313.6316,\n",
       "       3320.382 , 3317.9973, 3304.5312, 3284.394 , 3278.6094, 3265.1013,\n",
       "       3240.8022, 3248.1118, 3267.9443, 3261.1367, 3249.4849, 3255.8726,\n",
       "       3258.1836, 3266.1123, 3276.4883, 3268.6924, 3257.1467, 3255.624 ,\n",
       "       3247.5325, 3242.2703, 3261.0293])"
      ]
     },
     "execution_count": 3,
     "metadata": {},
     "output_type": "execute_result"
    }
   ],
   "source": [
    "pred1_lst =read_csv('./True value of SSEC Low and all model predictions.csv', index_col=0,usecols=[0,23])\n",
    "pred1_lst =pred1_lst.values\n",
    "pred1_lst=pred1_lst.flatten()\n",
    "pred1_lst"
   ]
  },
  {
   "cell_type": "markdown",
   "id": "5fd56cf7",
   "metadata": {},
   "source": [
    "# BPNN"
   ]
  },
  {
   "cell_type": "code",
   "execution_count": 4,
   "id": "35a627a8",
   "metadata": {},
   "outputs": [
    {
     "name": "stdout",
     "output_type": "stream",
     "text": [
      "crit：RMSE， mdm_return(MDM=-15.773101070413638, p_value=4.2659248763442387e-47)\n",
      "crit：MAE， mdm_return(MDM=-21.569447782725675, p_value=1.054569562912287e-76)\n",
      "crit：MAPE， mdm_return(MDM=-21.368547658876793, p_value=1.2067875823401608e-75)\n"
     ]
    }
   ],
   "source": [
    "pred2_lst  =read_csv('./True value of SSEC Low and all model predictions.csv', index_col=0,usecols=[0,1])\n",
    "pred2_lst=pred2_lst.values\n",
    "pred2_lst=pred2_lst.flatten()\n",
    "rt = mdm_test(actual_lst, pred1_lst, pred2_lst, h=1, crit=\"RMSE\")\n",
    "print(\"crit：RMSE，\", rt)\n",
    "rt = mdm_test(actual_lst, pred1_lst, pred2_lst, h=1, crit=\"MAE\")\n",
    "print(\"crit：MAE，\", rt)\n",
    "rt = mdm_test(actual_lst, pred1_lst, pred2_lst, h=1, crit=\"MAPE\")\n",
    "print(\"crit：MAPE，\", rt)"
   ]
  },
  {
   "cell_type": "markdown",
   "id": "f49639c5",
   "metadata": {},
   "source": [
    "# SVR"
   ]
  },
  {
   "cell_type": "code",
   "execution_count": 5,
   "id": "721ff2cf",
   "metadata": {},
   "outputs": [
    {
     "name": "stdout",
     "output_type": "stream",
     "text": [
      "crit：RMSE， mdm_return(MDM=-18.68304740579593, p_value=1.1646253980815459e-61)\n",
      "crit：MAE， mdm_return(MDM=-25.904515208062513, p_value=1.1040319455238153e-99)\n",
      "crit：MAPE， mdm_return(MDM=-25.753078637539325, p_value=7.00974579021806e-99)\n"
     ]
    }
   ],
   "source": [
    "pred2_lst  =read_csv('./True value of SSEC Low and all model predictions.csv', index_col=0,usecols=[0,2])\n",
    "pred2_lst=pred2_lst.values\n",
    "pred2_lst=pred2_lst.flatten()\n",
    "rt = mdm_test(actual_lst, pred1_lst, pred2_lst, h=1, crit=\"RMSE\")\n",
    "print(\"crit：RMSE，\", rt)\n",
    "rt = mdm_test(actual_lst, pred1_lst, pred2_lst, h=1, crit=\"MAE\")\n",
    "print(\"crit：MAE，\", rt)\n",
    "rt = mdm_test(actual_lst, pred1_lst, pred2_lst, h=1, crit=\"MAPE\")\n",
    "print(\"crit：MAPE，\", rt)"
   ]
  },
  {
   "cell_type": "markdown",
   "id": "ed75aefe",
   "metadata": {},
   "source": [
    "# GRU"
   ]
  },
  {
   "cell_type": "code",
   "execution_count": 6,
   "id": "00bee455",
   "metadata": {},
   "outputs": [
    {
     "name": "stdout",
     "output_type": "stream",
     "text": [
      "crit：RMSE， mdm_return(MDM=-11.137895987624198, p_value=2.6388574047345185e-26)\n",
      "crit：MAE， mdm_return(MDM=-15.94893409737973, p_value=5.956236605726827e-48)\n",
      "crit：MAPE， mdm_return(MDM=-15.60300033651743, p_value=2.84139658307207e-46)\n"
     ]
    }
   ],
   "source": [
    "pred2_lst  =read_csv('./True value of SSEC Low and all model predictions.csv', index_col=0,usecols=[0,3])\n",
    "pred2_lst=pred2_lst.values\n",
    "pred2_lst=pred2_lst.flatten()\n",
    "rt = mdm_test(actual_lst, pred1_lst, pred2_lst, h=1, crit=\"RMSE\")\n",
    "print(\"crit：RMSE，\", rt)\n",
    "rt = mdm_test(actual_lst, pred1_lst, pred2_lst, h=1, crit=\"MAE\")\n",
    "print(\"crit：MAE，\", rt)\n",
    "rt = mdm_test(actual_lst, pred1_lst, pred2_lst, h=1, crit=\"MAPE\")\n",
    "print(\"crit：MAPE，\", rt)"
   ]
  },
  {
   "cell_type": "markdown",
   "id": "577821f5",
   "metadata": {},
   "source": [
    "# LSTM"
   ]
  },
  {
   "cell_type": "code",
   "execution_count": 7,
   "id": "00c0ca73",
   "metadata": {},
   "outputs": [
    {
     "name": "stdout",
     "output_type": "stream",
     "text": [
      "crit：RMSE， mdm_return(MDM=-10.194620251232099, p_value=1.3221519805033897e-22)\n",
      "crit：MAE， mdm_return(MDM=-16.326026712836978, p_value=8.488538769899917e-50)\n",
      "crit：MAPE， mdm_return(MDM=-15.969440651041753, p_value=4.7316007496345477e-48)\n"
     ]
    }
   ],
   "source": [
    "pred2_lst  =read_csv('./True value of SSEC Low and all model predictions.csv', index_col=0,usecols=[0,4])\n",
    "pred2_lst=pred2_lst.values\n",
    "pred2_lst=pred2_lst.flatten()\n",
    "rt = mdm_test(actual_lst, pred1_lst, pred2_lst, h=1, crit=\"RMSE\")\n",
    "print(\"crit：RMSE，\", rt)\n",
    "rt = mdm_test(actual_lst, pred1_lst, pred2_lst, h=1, crit=\"MAE\")\n",
    "print(\"crit：MAE，\", rt)\n",
    "rt = mdm_test(actual_lst, pred1_lst, pred2_lst, h=1, crit=\"MAPE\")\n",
    "print(\"crit：MAPE，\", rt)"
   ]
  },
  {
   "cell_type": "markdown",
   "id": "4cf952dd",
   "metadata": {},
   "source": [
    "# Transformer"
   ]
  },
  {
   "cell_type": "code",
   "execution_count": 8,
   "id": "c35347d9",
   "metadata": {},
   "outputs": [
    {
     "name": "stdout",
     "output_type": "stream",
     "text": [
      "crit：RMSE， mdm_return(MDM=-9.795390370503053, p_value=4.168043625470902e-21)\n",
      "crit：MAE， mdm_return(MDM=-15.48230552017816, p_value=1.0854919613856615e-45)\n",
      "crit：MAPE， mdm_return(MDM=-15.355504570279388, p_value=4.417015155919981e-45)\n"
     ]
    }
   ],
   "source": [
    "pred2_lst  =read_csv('./True value of SSEC Low and all model predictions.csv', index_col=0,usecols=[0,5])\n",
    "pred2_lst=pred2_lst.values\n",
    "pred2_lst=pred2_lst.flatten()\n",
    "rt = mdm_test(actual_lst, pred1_lst, pred2_lst, h=1, crit=\"RMSE\")\n",
    "print(\"crit：RMSE，\", rt)\n",
    "rt = mdm_test(actual_lst, pred1_lst, pred2_lst, h=1, crit=\"MAE\")\n",
    "print(\"crit：MAE，\", rt)\n",
    "rt = mdm_test(actual_lst, pred1_lst, pred2_lst, h=1, crit=\"MAPE\")\n",
    "print(\"crit：MAPE，\", rt)"
   ]
  },
  {
   "cell_type": "markdown",
   "id": "1c148fc8",
   "metadata": {},
   "source": [
    "# Informer"
   ]
  },
  {
   "cell_type": "code",
   "execution_count": 9,
   "id": "73fa90bc",
   "metadata": {},
   "outputs": [
    {
     "name": "stdout",
     "output_type": "stream",
     "text": [
      "crit：RMSE， mdm_return(MDM=-11.136944079937265, p_value=2.6623012055666015e-26)\n",
      "crit：MAE， mdm_return(MDM=-17.01631146167964, p_value=3.225303058668589e-53)\n",
      "crit：MAPE， mdm_return(MDM=-16.616731204069563, p_value=3.1233189737272556e-51)\n"
     ]
    }
   ],
   "source": [
    "pred2_lst  =read_csv('./True value of SSEC Low and all model predictions.csv', index_col=0,usecols=[0,6])\n",
    "pred2_lst=pred2_lst.values\n",
    "pred2_lst=pred2_lst.flatten()\n",
    "rt = mdm_test(actual_lst, pred1_lst, pred2_lst, h=1, crit=\"RMSE\")\n",
    "print(\"crit：RMSE，\", rt)\n",
    "rt = mdm_test(actual_lst, pred1_lst, pred2_lst, h=1, crit=\"MAE\")\n",
    "print(\"crit：MAE，\", rt)\n",
    "rt = mdm_test(actual_lst, pred1_lst, pred2_lst, h=1, crit=\"MAPE\")\n",
    "print(\"crit：MAPE，\", rt)"
   ]
  },
  {
   "cell_type": "markdown",
   "id": "e16cd335",
   "metadata": {},
   "source": [
    "# TCN"
   ]
  },
  {
   "cell_type": "code",
   "execution_count": 10,
   "id": "30fc95e7",
   "metadata": {},
   "outputs": [
    {
     "name": "stdout",
     "output_type": "stream",
     "text": [
      "crit：RMSE， mdm_return(MDM=-12.495675565220186, p_value=5.480804562426972e-32)\n",
      "crit：MAE， mdm_return(MDM=-19.249650510878983, p_value=1.4054903789823423e-64)\n",
      "crit：MAPE， mdm_return(MDM=-18.91382335607825, p_value=7.587557136655036e-63)\n"
     ]
    }
   ],
   "source": [
    "pred2_lst  =read_csv('./True value of SSEC Low and all model predictions.csv', index_col=0,usecols=[0,7])\n",
    "pred2_lst=pred2_lst.values\n",
    "pred2_lst=pred2_lst.flatten()\n",
    "rt = mdm_test(actual_lst, pred1_lst, pred2_lst, h=1, crit=\"RMSE\")\n",
    "print(\"crit：RMSE，\", rt)\n",
    "rt = mdm_test(actual_lst, pred1_lst, pred2_lst, h=1, crit=\"MAE\")\n",
    "print(\"crit：MAE，\", rt)\n",
    "rt = mdm_test(actual_lst, pred1_lst, pred2_lst, h=1, crit=\"MAPE\")\n",
    "print(\"crit：MAPE，\", rt)"
   ]
  },
  {
   "cell_type": "markdown",
   "id": "551e05df",
   "metadata": {},
   "source": [
    "# BiLSTM"
   ]
  },
  {
   "cell_type": "code",
   "execution_count": 11,
   "id": "a9354dd2",
   "metadata": {},
   "outputs": [
    {
     "name": "stdout",
     "output_type": "stream",
     "text": [
      "crit：RMSE， mdm_return(MDM=-10.42657349974497, p_value=1.7051011481092143e-23)\n",
      "crit：MAE， mdm_return(MDM=-15.592459182291899, p_value=3.1948096528807863e-46)\n",
      "crit：MAPE， mdm_return(MDM=-15.294018016103156, p_value=8.707922874435865e-45)\n"
     ]
    }
   ],
   "source": [
    "pred2_lst  =read_csv('./True value of SSEC Low and all model predictions.csv', index_col=0,usecols=[0,8])\n",
    "pred2_lst=pred2_lst.values\n",
    "pred2_lst=pred2_lst.flatten()\n",
    "rt = mdm_test(actual_lst, pred1_lst, pred2_lst, h=1, crit=\"RMSE\")\n",
    "print(\"crit：RMSE，\", rt)\n",
    "rt = mdm_test(actual_lst, pred1_lst, pred2_lst, h=1, crit=\"MAE\")\n",
    "print(\"crit：MAE，\", rt)\n",
    "rt = mdm_test(actual_lst, pred1_lst, pred2_lst, h=1, crit=\"MAPE\")\n",
    "print(\"crit：MAPE，\", rt)"
   ]
  },
  {
   "cell_type": "markdown",
   "id": "65bf1ef0",
   "metadata": {},
   "source": [
    "# CNN-BiLSTM-SAM"
   ]
  },
  {
   "cell_type": "code",
   "execution_count": 12,
   "id": "f98c04a1",
   "metadata": {},
   "outputs": [
    {
     "name": "stdout",
     "output_type": "stream",
     "text": [
      "crit：RMSE， mdm_return(MDM=-9.540389086275463, p_value=3.590167836320791e-20)\n",
      "crit：MAE， mdm_return(MDM=-15.353188826636972, p_value=4.5314835768550476e-45)\n",
      "crit：MAPE， mdm_return(MDM=-14.920702621219391, p_value=5.2317357479768365e-43)\n"
     ]
    }
   ],
   "source": [
    "pred2_lst  =read_csv('./True value of SSEC Low and all model predictions.csv', index_col=0,usecols=[0,9])\n",
    "pred2_lst=pred2_lst.values\n",
    "pred2_lst=pred2_lst.flatten()\n",
    "rt = mdm_test(actual_lst, pred1_lst, pred2_lst, h=1, crit=\"RMSE\")\n",
    "print(\"crit：RMSE，\", rt)\n",
    "rt = mdm_test(actual_lst, pred1_lst, pred2_lst, h=1, crit=\"MAE\")\n",
    "print(\"crit：MAE，\", rt)\n",
    "rt = mdm_test(actual_lst, pred1_lst, pred2_lst, h=1, crit=\"MAPE\")\n",
    "print(\"crit：MAPE，\", rt)"
   ]
  },
  {
   "cell_type": "markdown",
   "id": "2d079044",
   "metadata": {},
   "source": [
    "# ICEEMDAN-SVR"
   ]
  },
  {
   "cell_type": "code",
   "execution_count": 13,
   "id": "ff6ed64b",
   "metadata": {},
   "outputs": [
    {
     "name": "stdout",
     "output_type": "stream",
     "text": [
      "crit：RMSE， mdm_return(MDM=-20.43001696769819, p_value=1.01915337498768e-70)\n",
      "crit：MAE， mdm_return(MDM=-23.750620963002152, p_value=2.982518566321458e-88)\n",
      "crit：MAPE， mdm_return(MDM=-23.719457706141263, p_value=4.3652855474646707e-88)\n"
     ]
    }
   ],
   "source": [
    "pred2_lst  =read_csv('./True value of SSEC Low and all model predictions.csv', index_col=0,usecols=[0,10])\n",
    "pred2_lst=pred2_lst.values\n",
    "pred2_lst=pred2_lst.flatten()\n",
    "rt = mdm_test(actual_lst, pred1_lst, pred2_lst, h=1, crit=\"RMSE\")\n",
    "print(\"crit：RMSE，\", rt)\n",
    "rt = mdm_test(actual_lst, pred1_lst, pred2_lst, h=1, crit=\"MAE\")\n",
    "print(\"crit：MAE，\", rt)\n",
    "rt = mdm_test(actual_lst, pred1_lst, pred2_lst, h=1, crit=\"MAPE\")\n",
    "print(\"crit：MAPE，\", rt)"
   ]
  },
  {
   "cell_type": "markdown",
   "id": "b2499a9f",
   "metadata": {},
   "source": [
    "# CEEMDAN-LSTM"
   ]
  },
  {
   "cell_type": "code",
   "execution_count": 14,
   "id": "6af0c57f",
   "metadata": {},
   "outputs": [
    {
     "name": "stdout",
     "output_type": "stream",
     "text": [
      "crit：RMSE， mdm_return(MDM=-17.761065478876418, p_value=5.82632724500056e-57)\n",
      "crit：MAE， mdm_return(MDM=-20.33805631722476, p_value=3.083655548134509e-70)\n",
      "crit：MAPE， mdm_return(MDM=-20.020173194072793, p_value=1.4064995246122583e-68)\n"
     ]
    }
   ],
   "source": [
    "pred2_lst  =read_csv('./True value of SSEC Low and all model predictions.csv', index_col=0,usecols=[0,11])\n",
    "pred2_lst=pred2_lst.values\n",
    "pred2_lst=pred2_lst.flatten()\n",
    "rt = mdm_test(actual_lst, pred1_lst, pred2_lst, h=1, crit=\"RMSE\")\n",
    "print(\"crit：RMSE，\", rt)\n",
    "rt = mdm_test(actual_lst, pred1_lst, pred2_lst, h=1, crit=\"MAE\")\n",
    "print(\"crit：MAE，\", rt)\n",
    "rt = mdm_test(actual_lst, pred1_lst, pred2_lst, h=1, crit=\"MAPE\")\n",
    "print(\"crit：MAPE，\", rt)"
   ]
  },
  {
   "cell_type": "markdown",
   "id": "8dcd19a8",
   "metadata": {},
   "source": [
    "# ICEEMDAN-BiGRU"
   ]
  },
  {
   "cell_type": "code",
   "execution_count": 15,
   "id": "e3a80024",
   "metadata": {},
   "outputs": [
    {
     "name": "stdout",
     "output_type": "stream",
     "text": [
      "crit：RMSE， mdm_return(MDM=-17.644375097312423, p_value=2.2658165840857297e-56)\n",
      "crit：MAE， mdm_return(MDM=-19.424395882250423, p_value=1.7526001656331598e-65)\n",
      "crit：MAPE， mdm_return(MDM=-18.973735869930472, p_value=3.728993939432442e-63)\n"
     ]
    }
   ],
   "source": [
    "pred2_lst  =read_csv('./True value of SSEC Low and all model predictions.csv', index_col=0,usecols=[0,12])\n",
    "pred2_lst=pred2_lst.values\n",
    "pred2_lst=pred2_lst.flatten()\n",
    "rt = mdm_test(actual_lst, pred1_lst, pred2_lst, h=1, crit=\"RMSE\")\n",
    "print(\"crit：RMSE，\", rt)\n",
    "rt = mdm_test(actual_lst, pred1_lst, pred2_lst, h=1, crit=\"MAE\")\n",
    "print(\"crit：MAE，\", rt)\n",
    "rt = mdm_test(actual_lst, pred1_lst, pred2_lst, h=1, crit=\"MAPE\")\n",
    "print(\"crit：MAPE，\", rt)"
   ]
  },
  {
   "cell_type": "markdown",
   "id": "a906ab7a",
   "metadata": {},
   "source": [
    "# VMD-BiLSTM"
   ]
  },
  {
   "cell_type": "code",
   "execution_count": 16,
   "id": "67cd3fa6",
   "metadata": {},
   "outputs": [
    {
     "name": "stdout",
     "output_type": "stream",
     "text": [
      "crit：RMSE， mdm_return(MDM=-18.477718028119362, p_value=1.3132532281777087e-60)\n",
      "crit：MAE， mdm_return(MDM=-19.265172939895308, p_value=1.1683908519183672e-64)\n",
      "crit：MAPE， mdm_return(MDM=-18.740949025230123, p_value=5.874104776098175e-62)\n"
     ]
    }
   ],
   "source": [
    "pred2_lst  =read_csv('./True value of SSEC Low and all model predictions.csv', index_col=0,usecols=[0,13])\n",
    "pred2_lst=pred2_lst.values\n",
    "pred2_lst=pred2_lst.flatten()\n",
    "rt = mdm_test(actual_lst, pred1_lst, pred2_lst, h=1, crit=\"RMSE\")\n",
    "print(\"crit：RMSE，\", rt)\n",
    "rt = mdm_test(actual_lst, pred1_lst, pred2_lst, h=1, crit=\"MAE\")\n",
    "print(\"crit：MAE，\", rt)\n",
    "rt = mdm_test(actual_lst, pred1_lst, pred2_lst, h=1, crit=\"MAPE\")\n",
    "print(\"crit：MAPE，\", rt)"
   ]
  },
  {
   "cell_type": "markdown",
   "id": "8efc96a1",
   "metadata": {},
   "source": [
    "# BiLSTM-SAM-TCN"
   ]
  },
  {
   "cell_type": "code",
   "execution_count": 17,
   "id": "4af685ac",
   "metadata": {},
   "outputs": [
    {
     "name": "stdout",
     "output_type": "stream",
     "text": [
      "crit：RMSE， mdm_return(MDM=-9.591928696498586, p_value=2.330842452363377e-20)\n",
      "crit：MAE， mdm_return(MDM=-14.956296306727914, p_value=3.547228616891275e-43)\n",
      "crit：MAPE， mdm_return(MDM=-14.639809010576643, p_value=1.106682322627658e-41)\n"
     ]
    }
   ],
   "source": [
    "pred2_lst  =read_csv('./True value of SSEC Low and all model predictions.csv', index_col=0,usecols=[0,14])\n",
    "pred2_lst=pred2_lst.values\n",
    "pred2_lst=pred2_lst.flatten()\n",
    "rt = mdm_test(actual_lst, pred1_lst, pred2_lst, h=1, crit=\"RMSE\")\n",
    "print(\"crit：RMSE，\", rt)\n",
    "rt = mdm_test(actual_lst, pred1_lst, pred2_lst, h=1, crit=\"MAE\")\n",
    "print(\"crit：MAE，\", rt)\n",
    "rt = mdm_test(actual_lst, pred1_lst, pred2_lst, h=1, crit=\"MAPE\")\n",
    "print(\"crit：MAPE，\", rt)"
   ]
  },
  {
   "cell_type": "markdown",
   "id": "d67ba24f",
   "metadata": {},
   "source": [
    "# ICEEMDAN-BiLSTM-SAM-TCN"
   ]
  },
  {
   "cell_type": "code",
   "execution_count": 18,
   "id": "d1746ee3",
   "metadata": {},
   "outputs": [
    {
     "name": "stdout",
     "output_type": "stream",
     "text": [
      "crit：RMSE， mdm_return(MDM=-7.530806319344125, p_value=1.8770380576435738e-13)\n",
      "crit：MAE， mdm_return(MDM=-7.376762421902292, p_value=5.464157989311005e-13)\n",
      "crit：MAPE， mdm_return(MDM=-6.776532164939931, p_value=2.9627835762646045e-11)\n"
     ]
    }
   ],
   "source": [
    "pred2_lst  =read_csv('./True value of SSEC Low and all model predictions.csv', index_col=0,usecols=[0,15])\n",
    "pred2_lst=pred2_lst.values\n",
    "pred2_lst=pred2_lst.flatten()\n",
    "rt = mdm_test(actual_lst, pred1_lst, pred2_lst, h=1, crit=\"RMSE\")\n",
    "print(\"crit：RMSE，\", rt)\n",
    "rt = mdm_test(actual_lst, pred1_lst, pred2_lst, h=1, crit=\"MAE\")\n",
    "print(\"crit：MAE，\", rt)\n",
    "rt = mdm_test(actual_lst, pred1_lst, pred2_lst, h=1, crit=\"MAPE\")\n",
    "print(\"crit：MAPE，\", rt)"
   ]
  },
  {
   "cell_type": "markdown",
   "id": "9cdc4dce",
   "metadata": {},
   "source": [
    "# ICEEMDAN-VMD(PSO)-SAM-TCN"
   ]
  },
  {
   "cell_type": "code",
   "execution_count": 19,
   "id": "6e6e9bab",
   "metadata": {},
   "outputs": [
    {
     "name": "stdout",
     "output_type": "stream",
     "text": [
      "crit：RMSE， mdm_return(MDM=-8.128039024695479, p_value=2.5308790237213894e-15)\n",
      "crit：MAE， mdm_return(MDM=-10.299051128181826, p_value=5.27808468405919e-23)\n",
      "crit：MAPE， mdm_return(MDM=-10.121919998219271, p_value=2.4961356482566162e-22)\n"
     ]
    }
   ],
   "source": [
    "pred2_lst  =read_csv('./True value of SSEC Low and all model predictions.csv', index_col=0,usecols=[0,16])\n",
    "pred2_lst=pred2_lst.values\n",
    "pred2_lst=pred2_lst.flatten()\n",
    "rt = mdm_test(actual_lst, pred1_lst, pred2_lst, h=1, crit=\"RMSE\")\n",
    "print(\"crit：RMSE，\", rt)\n",
    "rt = mdm_test(actual_lst, pred1_lst, pred2_lst, h=1, crit=\"MAE\")\n",
    "print(\"crit：MAE，\", rt)\n",
    "rt = mdm_test(actual_lst, pred1_lst, pred2_lst, h=1, crit=\"MAPE\")\n",
    "print(\"crit：MAPE，\", rt)"
   ]
  },
  {
   "cell_type": "markdown",
   "id": "7f35f56e",
   "metadata": {},
   "source": [
    "# ICEEMDAN-VMD(PSO)-BiLSTM-SAM"
   ]
  },
  {
   "cell_type": "code",
   "execution_count": 20,
   "id": "53ae37e5",
   "metadata": {},
   "outputs": [
    {
     "name": "stdout",
     "output_type": "stream",
     "text": [
      "crit：RMSE， mdm_return(MDM=-21.828660609309306, p_value=4.524243498398153e-78)\n",
      "crit：MAE， mdm_return(MDM=-24.187758066983193, p_value=1.4243984301647004e-90)\n",
      "crit：MAPE， mdm_return(MDM=-23.488298555154504, p_value=7.3607993301570125e-87)\n"
     ]
    }
   ],
   "source": [
    "pred2_lst  =read_csv('./True value of SSEC Low and all model predictions.csv', index_col=0,usecols=[0,17])\n",
    "pred2_lst=pred2_lst.values\n",
    "pred2_lst=pred2_lst.flatten()\n",
    "rt = mdm_test(actual_lst, pred1_lst, pred2_lst, h=1, crit=\"RMSE\")\n",
    "print(\"crit：RMSE，\", rt)\n",
    "rt = mdm_test(actual_lst, pred1_lst, pred2_lst, h=1, crit=\"MAE\")\n",
    "print(\"crit：MAE，\", rt)\n",
    "rt = mdm_test(actual_lst, pred1_lst, pred2_lst, h=1, crit=\"MAPE\")\n",
    "print(\"crit：MAPE，\", rt)"
   ]
  },
  {
   "cell_type": "markdown",
   "id": "27f0c4b4",
   "metadata": {},
   "source": [
    "# ICEEMDAN-VMD(PSO)-BiLSTM-TCN"
   ]
  },
  {
   "cell_type": "code",
   "execution_count": 21,
   "id": "57e7283a",
   "metadata": {},
   "outputs": [
    {
     "name": "stdout",
     "output_type": "stream",
     "text": [
      "crit：RMSE， mdm_return(MDM=-25.377025266795016, p_value=6.920621075591848e-97)\n",
      "crit：MAE， mdm_return(MDM=-30.32124069292927, p_value=7.08506205586702e-123)\n",
      "crit：MAPE， mdm_return(MDM=-29.50080267548149, p_value=1.3065615158870016e-118)\n"
     ]
    }
   ],
   "source": [
    "pred2_lst  =read_csv('./True value of SSEC Low and all model predictions.csv', index_col=0,usecols=[0,18])\n",
    "pred2_lst=pred2_lst.values\n",
    "pred2_lst=pred2_lst.flatten()\n",
    "rt = mdm_test(actual_lst, pred1_lst, pred2_lst, h=1, crit=\"RMSE\")\n",
    "print(\"crit：RMSE，\", rt)\n",
    "rt = mdm_test(actual_lst, pred1_lst, pred2_lst, h=1, crit=\"MAE\")\n",
    "print(\"crit：MAE，\", rt)\n",
    "rt = mdm_test(actual_lst, pred1_lst, pred2_lst, h=1, crit=\"MAPE\")\n",
    "print(\"crit：MAPE，\", rt)"
   ]
  },
  {
   "cell_type": "markdown",
   "id": "fe845180",
   "metadata": {},
   "source": [
    "# CEEMDAN-VMD(PSO)-BiLSTM-SAM-TCN"
   ]
  },
  {
   "cell_type": "code",
   "execution_count": 22,
   "id": "cf31a4c2",
   "metadata": {},
   "outputs": [
    {
     "name": "stdout",
     "output_type": "stream",
     "text": [
      "crit：RMSE， mdm_return(MDM=-8.718838170857632, p_value=2.7905920423509796e-17)\n",
      "crit：MAE， mdm_return(MDM=-7.270107197794243, p_value=1.1332437916484906e-12)\n",
      "crit：MAPE， mdm_return(MDM=-7.740515884155358, p_value=4.261259779741307e-14)\n"
     ]
    }
   ],
   "source": [
    "pred2_lst  =read_csv('./True value of SSEC Low and all model predictions.csv', index_col=0,usecols=[0,19])\n",
    "pred2_lst=pred2_lst.values\n",
    "pred2_lst=pred2_lst.flatten()\n",
    "rt = mdm_test(actual_lst, pred1_lst, pred2_lst, h=1, crit=\"RMSE\")\n",
    "print(\"crit：RMSE，\", rt)\n",
    "rt = mdm_test(actual_lst, pred1_lst, pred2_lst, h=1, crit=\"MAE\")\n",
    "print(\"crit：MAE，\", rt)\n",
    "rt = mdm_test(actual_lst, pred1_lst, pred2_lst, h=1, crit=\"MAPE\")\n",
    "print(\"crit：MAPE，\", rt)"
   ]
  },
  {
   "cell_type": "markdown",
   "id": "12f64b84",
   "metadata": {},
   "source": [
    "# ICEEMDAN-VMD(PSO)-BiLSTM-SAM-CNN"
   ]
  },
  {
   "cell_type": "code",
   "execution_count": 23,
   "id": "c76c223e",
   "metadata": {},
   "outputs": [
    {
     "name": "stdout",
     "output_type": "stream",
     "text": [
      "crit：RMSE， mdm_return(MDM=-8.031920924212354, p_value=5.1495347409068065e-15)\n",
      "crit：MAE， mdm_return(MDM=-6.616307463046803, p_value=8.209293230900402e-11)\n",
      "crit：MAPE， mdm_return(MDM=-5.877165813479375, p_value=6.948368659982807e-09)\n"
     ]
    }
   ],
   "source": [
    "pred2_lst  =read_csv('./True value of SSEC Low and all model predictions.csv', index_col=0,usecols=[0,20])\n",
    "pred2_lst=pred2_lst.values\n",
    "pred2_lst=pred2_lst.flatten()\n",
    "rt = mdm_test(actual_lst, pred1_lst, pred2_lst, h=1, crit=\"RMSE\")\n",
    "print(\"crit：RMSE，\", rt)\n",
    "rt = mdm_test(actual_lst, pred1_lst, pred2_lst, h=1, crit=\"MAE\")\n",
    "print(\"crit：MAE，\", rt)\n",
    "rt = mdm_test(actual_lst, pred1_lst, pred2_lst, h=1, crit=\"MAPE\")\n",
    "print(\"crit：MAPE，\", rt)"
   ]
  },
  {
   "cell_type": "markdown",
   "id": "4f42923a",
   "metadata": {},
   "source": [
    "# ICEEMDAN-VMD(PSO)-LSTM-SAM-TCN"
   ]
  },
  {
   "cell_type": "code",
   "execution_count": 24,
   "id": "b126a28c",
   "metadata": {},
   "outputs": [
    {
     "name": "stdout",
     "output_type": "stream",
     "text": [
      "crit：RMSE， mdm_return(MDM=-11.464360886923034, p_value=1.235303653772783e-27)\n",
      "crit：MAE， mdm_return(MDM=-11.926058074432413, p_value=1.4820159659054217e-29)\n",
      "crit：MAPE， mdm_return(MDM=-11.409800415753828, p_value=2.068584032378163e-27)\n"
     ]
    }
   ],
   "source": [
    "pred2_lst  =read_csv('./True value of SSEC Low and all model predictions.csv', index_col=0,usecols=[0,21])\n",
    "pred2_lst=pred2_lst.values\n",
    "pred2_lst=pred2_lst.flatten()\n",
    "rt = mdm_test(actual_lst, pred1_lst, pred2_lst, h=1, crit=\"RMSE\")\n",
    "print(\"crit：RMSE，\", rt)\n",
    "rt = mdm_test(actual_lst, pred1_lst, pred2_lst, h=1, crit=\"MAE\")\n",
    "print(\"crit：MAE，\", rt)\n",
    "rt = mdm_test(actual_lst, pred1_lst, pred2_lst, h=1, crit=\"MAPE\")\n",
    "print(\"crit：MAPE，\", rt)"
   ]
  }
 ],
 "metadata": {
  "kernelspec": {
   "display_name": "Python 3 (ipykernel)",
   "language": "python",
   "name": "python3"
  },
  "language_info": {
   "codemirror_mode": {
    "name": "ipython",
    "version": 3
   },
   "file_extension": ".py",
   "mimetype": "text/x-python",
   "name": "python",
   "nbconvert_exporter": "python",
   "pygments_lexer": "ipython3",
   "version": "3.10.9"
  }
 },
 "nbformat": 4,
 "nbformat_minor": 5
}
