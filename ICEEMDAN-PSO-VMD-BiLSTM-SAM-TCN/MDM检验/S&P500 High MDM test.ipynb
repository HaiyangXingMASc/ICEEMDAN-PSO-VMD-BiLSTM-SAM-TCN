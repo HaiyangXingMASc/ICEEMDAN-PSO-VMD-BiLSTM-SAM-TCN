{
 "cells": [
  {
   "cell_type": "markdown",
   "id": "6b4579d5",
   "metadata": {},
   "source": [
    "# Defining MDM"
   ]
  },
  {
   "cell_type": "code",
   "execution_count": 1,
   "id": "3d7fa26b",
   "metadata": {},
   "outputs": [],
   "source": [
    "def mdm_test(actual_lst, pred1_lst, pred2_lst, h = 1, crit=\"RMSE\"):\n",
    "    def error_check():\n",
    "        rt = 0\n",
    "        msg = \"\"\n",
    "        if (not isinstance(h, int)):\n",
    "            rt = -1\n",
    "            msg = \"The type of the number of steps ahead (h) is not an integer.\"\n",
    "            return (rt,msg)\n",
    "        if (h < 1):\n",
    "            rt = -1\n",
    "            msg = \"The number of steps ahead (h) is not large enough.\"\n",
    "            return (rt,msg)\n",
    "        len_act = len(actual_lst)\n",
    "        len_p1  = len(pred1_lst)\n",
    "        len_p2  = len(pred2_lst)\n",
    "        if (len_act != len_p1 or len_p1 != len_p2 or len_act != len_p2):\n",
    "            rt = -1\n",
    "            msg = \"Lengths of actual_lst, pred1_lst and pred2_lst do not match.\"\n",
    "            return (rt,msg)\n",
    "        if (h >= len_act):\n",
    "            rt = -1\n",
    "            msg = \"The number of steps ahead is too large.\"\n",
    "            return (rt,msg)\n",
    "\n",
    "        if (crit != \"RMSE\" and crit != \"MAE\" and crit != \"MAPE\"):\n",
    "            rt = -1\n",
    "            msg = \"The criterion is not supported.\"\n",
    "            return (rt,msg)  \n",
    "        from re import compile as re_compile\n",
    "        comp = re_compile(\"^\\d+?\\.\\d+?$\")  \n",
    "        def compiled_regex(s):\n",
    "            if comp.match(s) is None:\n",
    "                return s.isdigit()\n",
    "            return True\n",
    "        for actual, pred1, pred2 in zip(actual_lst, pred1_lst, pred2_lst):\n",
    "            is_actual_ok = compiled_regex(str(abs(actual)))\n",
    "            is_pred1_ok = compiled_regex(str(abs(pred1)))\n",
    "            is_pred2_ok = compiled_regex(str(abs(pred2)))\n",
    "            if (not (is_actual_ok and is_pred1_ok and is_pred2_ok)):  \n",
    "                msg = \"An element in the actual_lst, pred1_lst or pred2_lst is not numeric.\"\n",
    "                rt = -1\n",
    "                return (rt,msg)\n",
    "        return (rt,msg)\n",
    "    \n",
    "\n",
    "    error_code = error_check()\n",
    "\n",
    "    if (error_code[0] == -1):\n",
    "        raise SyntaxError(error_code[1])\n",
    "        return\n",
    "\n",
    "    from scipy.stats import t\n",
    "    import collections\n",
    "    import pandas as pd\n",
    "    import numpy as np\n",
    "    \n",
    "    e1_lst = []\n",
    "    e2_lst = []\n",
    "    d_lst  = []\n",
    "    \n",
    "    actual_lst = pd.Series(actual_lst).apply(lambda x: float(x)).tolist()\n",
    "    pred1_lst = pd.Series(pred1_lst).apply(lambda x: float(x)).tolist()\n",
    "    pred2_lst = pd.Series(pred2_lst).apply(lambda x: float(x)).tolist()\n",
    "    \n",
    "    T = float(len(actual_lst))\n",
    "    \n",
    "    if crit == \"RMSE\":\n",
    "        for actual, p1, p2 in zip(actual_lst, pred1_lst, pred2_lst):\n",
    "            e1_lst.append((actual - p1) ** 2)\n",
    "            e2_lst.append((actual - p2) ** 2)\n",
    "        for e1, e2 in zip(e1_lst, e2_lst):\n",
    "            d_lst.append(e1 - e2)\n",
    "\n",
    "    if (crit == \"MAE\"):\n",
    "        for actual,p1,p2 in zip(actual_lst,pred1_lst,pred2_lst):\n",
    "            e1_lst.append(abs(actual - p1))\n",
    "            e2_lst.append(abs(actual - p2))\n",
    "        for e1, e2 in zip(e1_lst, e2_lst):\n",
    "            d_lst.append(e1 - e2)\n",
    "\n",
    "    if (crit == \"MAPE\"):\n",
    "        for actual,p1,p2 in zip(actual_lst,pred1_lst,pred2_lst):\n",
    "            e1_lst.append(abs((actual - p1)/actual))\n",
    "            e2_lst.append(abs((actual - p2)/actual))\n",
    "        for e1, e2 in zip(e1_lst, e2_lst):\n",
    "            d_lst.append(e1 - e2)\n",
    "   \n",
    "    mean_d = pd.Series(d_lst).mean()\n",
    "    \n",
    "    def autocovariance(Xi, N, k, Xs):\n",
    "        autoCov = 0\n",
    "        T = float(N)\n",
    "        for i in np.arange(0, N-k):\n",
    "              autoCov += ((Xi[i+k])-Xs)*(Xi[i]-Xs)\n",
    "        return (1/(T))*autoCov\n",
    "    gamma = []\n",
    "    for lag in range(0,h):\n",
    "        gamma.append(autocovariance(d_lst,len(d_lst),lag,mean_d)) # 0, 1, 2\n",
    "    V_d = (gamma[0] + 2*sum(gamma[1:]))/T\n",
    "    MDM_stat=V_d**(-0.5)*mean_d\n",
    "    harvey_adj=((T+1-2*h+h*(h-1)/T)/T)**(0.5)\n",
    "    MDM_stat = harvey_adj*MDM_stat\n",
    "    p_value = 2*t.cdf(-abs(MDM_stat), df = T - 1)\n",
    "    \n",
    "    dm_return = collections.namedtuple('mdm_return', 'MDM p_value')\n",
    "    \n",
    "    rt = dm_return(MDM = MDM_stat, p_value = p_value)\n",
    "    \n",
    "    return rt"
   ]
  },
  {
   "cell_type": "markdown",
   "id": "53f9beb6",
   "metadata": {},
   "source": [
    "# Importing real values"
   ]
  },
  {
   "cell_type": "code",
   "execution_count": 2,
   "id": "ab4c9794",
   "metadata": {},
   "outputs": [
    {
     "data": {
      "text/plain": [
       "array([3628.50988 , 3623.110046, 3619.090112, 3585.22007 , 3581.230076,\n",
       "       3589.810193, 3642.310188, 3635.500075, 3644.310028, 3634.180057,\n",
       "       3678.449974, 3670.960038, 3682.730125, 3699.19997 , 3697.410152,\n",
       "       3708.450223, 3712.390023, 3678.490041, 3665.909803, 3697.610048,\n",
       "       3695.29011 , 3711.270341, 3725.120403, 3726.700198, 3702.899807,\n",
       "       3698.25993 , 3711.23996 , 3703.820033, 3740.510193, 3756.120132,\n",
       "       3744.630076, 3760.199948, 3769.990008, 3737.83009 , 3783.040046,\n",
       "       3811.550321, 3826.69002 , 3817.860253, 3810.780237, 3820.959962,\n",
       "       3823.599998, 3788.730036, 3804.530185, 3859.749911, 3861.449907,\n",
       "       3852.31017 , 3859.229917, 3870.900056, 3836.830119, 3830.499932,\n",
       "       3778.050131, 3784.319996, 3843.090297, 3847.510024, 3872.41997 ,\n",
       "       3894.559992, 3915.770101, 3918.350256, 3931.500242, 3925.989893,\n",
       "       3937.2303  , 3950.43004 , 3933.610157, 3921.980085, 3930.41006 ,\n",
       "       3902.919959, 3895.979958, 3928.650183, 3925.019913, 3861.080056,\n",
       "       3914.500277, 3906.410213, 3874.470005, 3843.670172, 3851.690228,\n",
       "       3881.059968, 3903.760051, 3917.350336, 3960.270294, 3944.990139,\n",
       "       3970.080168, 3981.040104, 3983.870349, 3969.620055, 3930.120343,\n",
       "       3955.31032 , 3949.129835, 3942.080199, 3919.539945, 3978.190045,\n",
       "       3981.830001, 3968.01032 , 3994.410239, 4020.630076, 4083.419872,\n",
       "       4086.230304, 4083.130155, 4098.19016 , 4129.480046, 4131.759917,\n",
       "       4147.999925, 4151.690076, 4173.490186, 4191.309989, 4180.810166,\n",
       "       4159.180451, 4175.020227, 4179.569842, 4194.170174, 4194.189988,\n",
       "       4193.350337, 4201.529781, 4218.779836, 4198.100288, 4209.390449,\n",
       "       4179.040162, 4187.720227, 4202.700097, 4238.040299, 4236.390056,\n",
       "       4162.040197, 4134.730178, 4131.580275, 4183.130104, 4171.920078,\n",
       "       4169.150154, 4116.930189, 4172.799796, 4188.720147, 4209.520337,\n",
       "       4213.42007 , 4202.609836, 4213.380003, 4218.359791, 4234.120312,\n",
       "       4217.370437, 4204.390407, 4233.450176, 4232.339741, 4236.740535,\n",
       "       4237.090133, 4249.740378, 4248.379853, 4255.589758, 4257.160306,\n",
       "       4251.890361, 4232.289987, 4204.780072, 4226.240272, 4255.839848,\n",
       "       4256.600245, 4271.279832, 4286.120127, 4292.140343, 4300.520124,\n",
       "       4302.430143, 4320.660305, 4355.430319, 4356.460179, 4361.879826,\n",
       "       4330.880097, 4371.600319, 4386.680138, 4392.370129, 4393.68046 ,\n",
       "       4369.020164, 4375.090133, 4296.399801, 4336.839992, 4359.700343,\n",
       "       4369.310321, 4415.180286, 4422.730102, 4416.380102, 4415.470443,\n",
       "       4429.970388, 4412.250093, 4422.180168, 4423.790343, 4416.170079,\n",
       "       4429.759925, 4440.819808, 4439.390156, 4445.210035, 4449.439993,\n",
       "       4461.770141, 4468.370231, 4480.260079, 4462.120179, 4454.319832,\n",
       "       4418.609779, 4444.35013 , 4489.880184, 4492.810377, 4501.710152,\n",
       "       4495.899959, 4513.330097, 4537.359884, 4531.390303, 4537.109794,\n",
       "       4545.85018 , 4541.450267, 4535.379857, 4521.790012, 4529.899889,\n",
       "       4520.470434, 4492.99046 , 4485.680167, 4486.870296, 4485.870376,\n",
       "       4471.520134, 4402.950086, 4394.870149, 4416.749954, 4465.39997 ,\n",
       "       4463.120099, 4457.29978 , 4419.540132, 4385.570143, 4382.550128,\n",
       "       4375.190081, 4355.510013, 4369.230187, 4365.569977, 4429.970388,\n",
       "       4412.020256, 4415.879922, 4374.890237, 4372.870143, 4439.730067,\n",
       "       4475.820099, 4488.749935, 4520.399986, 4540.870392, 4551.440223,\n",
       "       4559.669861, 4572.620392, 4598.529818, 4584.570121, 4597.549711,\n",
       "       4608.080355, 4620.340055, 4635.14997 , 4663.459909, 4682.999962,\n",
       "       4718.499992, 4714.919917, 4708.52985 , 4684.850101, 4664.550091,\n",
       "       4688.470243, 4697.420212, 4714.950298, 4701.500027, 4708.75    ,\n",
       "       4717.750162, 4743.829984, 4699.390112, 4702.87024 , 4664.629785,\n",
       "       4672.950125, 4646.020085, 4652.939832, 4595.460049, 4608.02972 ,\n",
       "       4612.600029, 4694.040032, 4705.060289, 4695.259662, 4713.569959,\n",
       "       4710.299854, 4660.470275, 4712.600419, 4731.99033 , 4666.700514,\n",
       "       4587.900106, 4651.140328, 4697.669862, 4740.740402, 4791.490207,\n",
       "       4807.020012, 4804.060318, 4808.930472, 4786.830077, 4796.640391,\n",
       "       4818.620143, 4797.700192, 4725.009821, 4707.950416, 4673.020133,\n",
       "       4714.13002 , 4748.830026, 4744.129828, 4665.129965, 4632.240471,\n",
       "       4611.549915, 4602.109893, 4494.52006 , 4417.350082, 4411.009769,\n",
       "       4453.230091, 4428.740191, 4432.720499, 4516.890359, 4550.490497,\n",
       "       4595.310347, 4542.879919, 4539.660449, 4521.86002 , 4531.319855,\n",
       "       4590.029835, 4588.91984 , 4526.330381, 4426.220357, 4472.770144,\n",
       "       4489.549959, 4456.060337, 4394.600246, 4362.12023 , 4341.509809,\n",
       "       4294.730185, 4385.339866, 4388.839807, 4378.450499, 4401.479926,\n",
       "       4416.779894, 4342.120064, 4327.009864, 4276.939882, 4299.400002,\n",
       "       4268.280071, 4291.010094, 4247.570142, 4271.049995, 4358.899879,\n",
       "       4412.670138, 4465.39997 , 4481.750053, 4522.000035, 4501.069956,\n",
       "       4520.580069, 4546.029822, 4575.650093, 4637.299953, 4627.770109,\n",
       "       4603.069746, 4548.700239, 4583.500193, 4593.450522, 4503.940269,\n",
       "       4521.160384, 4520.410113, 4464.350296, 4471.00014 , 4453.92004 ,\n",
       "       4460.46025 , 4410.310133, 4471.03008 , 4488.290262, 4512.939991,\n",
       "       4385.83036 , 4299.020023, 4278.140139, 4240.710275, 4308.450358,\n",
       "       4269.680223, 4169.810163, 4200.100129, 4307.660461, 4256.390222,\n",
       "       4157.690037, 4081.27033 , 4068.81998 , 4049.090158, 3964.800096,\n",
       "       4038.880052, 4046.460248, 4090.720038, 4051.980284, 3945.960119,\n",
       "       3943.420031, 3981.880195, 3955.680171, 3999.330146, 4075.140039,\n",
       "       4158.490502, 4168.340002, 4166.540058, 4177.50968 , 4142.670099,\n",
       "       4168.779862, 4164.859875, 4160.140304, 4119.100425, 3974.389819,\n",
       "       3838.150137, 3778.180019, 3837.560135, 3728.180045, 3707.710079,\n",
       "       3779.650179, 3801.790201, 3802.580099, 3913.650059, 3927.72027 ,\n",
       "       3945.860171, 3836.499894, 3818.990062, 3829.82011 , 3832.190242,\n",
       "       3870.910183, 3910.630044, 3918.499958, 3880.940206, 3873.410204,\n",
       "       3829.440131, 3796.410181, 3863.620144, 3902.440033, 3939.810015,\n",
       "       3974.130043, 3999.290079, 4012.440065, 3975.300359, 3953.220218,\n",
       "       4039.560314, 4078.949951, 4140.149825, 4144.950411, 4140.470363,\n",
       "       4167.66018 , 4161.290367, 4151.580001, 4186.620358, 4137.299766,\n",
       "       4211.029684, 4257.910136, 4280.470204, 4301.789947, 4325.279928,\n",
       "       4302.180493, 4292.530008, 4266.310171, 4195.080274, 4159.770012,\n",
       "       4156.560229, 4200.539988, 4203.040009, 4062.989974, 4044.979961,\n",
       "       4015.370258, 3970.23031 , 4018.4299  , 3942.549999, 3987.889843,\n",
       "       4010.500105, 4076.810095, 4119.280067, 4037.120174, 3961.93991 ,\n",
       "       3959.140045, 3880.949893, 3900.449879, 3876.010172, 3907.070222,\n",
       "       3790.899833, 3727.140057, 3715.669814, 3717.53008 , 3736.739908,\n",
       "       3687.009837, 3671.439965, 3698.350192, 3791.920007, 3806.910004,\n",
       "       3797.930095, 3706.740099, 3652.169815, 3640.659945, 3608.340198,\n",
       "       3685.409788, 3711.999917, 3689.730007, 3762.79023 , 3728.580277,\n",
       "       3736.000205, 3757.890136, 3810.74017 , 3862.85006 , 3886.14983 ,\n",
       "       3859.950247, 3905.41998 , 3893.730027, 3911.790233, 3894.44023 ,\n",
       "       3750.59041 , 3796.340174, 3813.949953, 3859.399873, 3818.200165,\n",
       "       3958.330334, 4001.480129, 4008.970064, 4028.840342, 3983.090138,\n",
       "       3954.330213, 3979.890041, 3962.000231, 4005.880042, 4033.780062,\n",
       "       4034.020025, 4012.270109, 3976.770079, 4080.11014 , 4100.509658,\n",
       "       4080.479992, 4052.450083, 4001.510069, 3957.570377, 3974.189923,\n",
       "       3977.020169, 3990.709962, 4100.960084, 4053.759974, 3958.370402,\n",
       "       3890.909909, 3854.860384, 3838.239958, 3889.820167, 3853.260336,\n",
       "       3845.800341, 3846.650119, 3848.320175, 3858.189929, 3839.850133,\n",
       "       3878.459999, 3873.160114, 3839.740058, 3906.190064, 3950.570055,\n",
       "       3919.830103, 3970.070041, 3997.760038, 4003.950209, 4015.390072,\n",
       "       4014.159875, 3922.939938, 3972.960167, 4039.310224, 4023.919994,\n",
       "       4019.550022, 4061.570008, 4094.209852, 4063.850319, 4077.160133,\n",
       "       4148.950092, 4195.439998, 4182.36002 , 4124.630147, 4176.540141,\n",
       "       4156.850386, 4156.230004, 4094.360435, 4138.899814, 4159.770012,\n",
       "       4148.11    , 4136.540249, 4081.510293, 4052.350135, 4017.370099,\n",
       "       4028.300094, 3978.249925, 4018.050361, 3997.500261, 3971.72997 ,\n",
       "       3990.840291, 4048.290133, 4078.490278, 4050.000257, 4000.410201,\n",
       "       4017.809958, 3934.050017, 3905.050128, 3937.290181, 3894.260148,\n",
       "       3964.460184, 3958.910209, 3956.620211, 4009.080139, 4039.490307,\n",
       "       4007.660173, 3972.740017, 4003.830007, 3979.200092, 4030.590092,\n",
       "       4057.850357, 4110.750144])"
      ]
     },
     "execution_count": 2,
     "metadata": {},
     "output_type": "execute_result"
    }
   ],
   "source": [
    "import random\n",
    "import numpy as np\n",
    "import pandas as pd\n",
    "from pandas import read_csv\n",
    "actual_lst = read_csv('./True value of S&P 500 High and all model predictions.csv', index_col=0,usecols=[0,22])\n",
    "actual_lst=actual_lst.values\n",
    "actual_lst=actual_lst.flatten()\n",
    "actual_lst"
   ]
  },
  {
   "cell_type": "markdown",
   "id": "10efe72e",
   "metadata": {},
   "source": [
    "# Import the predictions of the proposed model"
   ]
  },
  {
   "cell_type": "code",
   "execution_count": 3,
   "id": "6a5820d6",
   "metadata": {
    "scrolled": true
   },
   "outputs": [
    {
     "data": {
      "text/plain": [
       "array([3602.0632, 3615.4163, 3600.1572, 3578.5388, 3573.979 , 3587.9202,\n",
       "       3615.7075, 3634.257 , 3625.9097, 3628.5383, 3651.2463, 3669.2883,\n",
       "       3674.3042, 3680.1736, 3684.9783, 3698.4763, 3702.9534, 3674.0935,\n",
       "       3661.5718, 3682.657 , 3693.1719, 3697.1902, 3712.461 , 3715.1882,\n",
       "       3700.0652, 3694.6643, 3699.2236, 3706.4263, 3724.8494, 3740.3547,\n",
       "       3741.428 , 3747.814 , 3752.0544, 3741.3054, 3757.4067, 3796.7615,\n",
       "       3812.4673, 3800.3127, 3796.3   , 3811.9465, 3810.3037, 3789.4153,\n",
       "       3796.2205, 3831.703 , 3850.1685, 3839.7437, 3837.8833, 3846.5151,\n",
       "       3841.483 , 3810.2122, 3779.6936, 3788.3955, 3824.5957, 3844.185 ,\n",
       "       3853.7358, 3875.4915, 3894.477 , 3904.3298, 3913.2715, 3914.3772,\n",
       "       3919.2727, 3927.5303, 3919.1716, 3909.5032, 3910.2493, 3890.903 ,\n",
       "       3884.3086, 3907.505 , 3901.87  , 3869.605 , 3873.7227, 3892.6436,\n",
       "       3868.4   , 3839.14  , 3845.1426, 3861.5088, 3885.1382, 3907.9246,\n",
       "       3921.918 , 3932.4229, 3944.3994, 3957.943 , 3961.6938, 3945.1333,\n",
       "       3919.7778, 3919.565 , 3932.495 , 3920.9285, 3912.6267, 3938.8284,\n",
       "       3966.8416, 3962.4053, 3965.5903, 3997.7285, 4044.447 , 4066.517 ,\n",
       "       4055.8433, 4064.4612, 4095.0027, 4113.978 , 4115.745 , 4121.8535,\n",
       "       4142.77  , 4160.1265, 4157.0723, 4141.818 , 4144.084 , 4156.121 ,\n",
       "       4167.2324, 4172.8906, 4172.8213, 4178.9126, 4186.275 , 4185.248 ,\n",
       "       4180.8564, 4174.6597, 4166.5005, 4178.864 , 4208.5913, 4209.826 ,\n",
       "       4158.604 , 4116.4067, 4118.1133, 4149.1494, 4166.8774, 4143.9517,\n",
       "       4117.7524, 4139.225 , 4175.4155, 4188.4917, 4186.4917, 4181.2954,\n",
       "       4182.8774, 4199.126 , 4209.5654, 4197.094 , 4187.013 , 4199.071 ,\n",
       "       4212.373 , 4212.905 , 4213.889 , 4218.1646, 4224.5767, 4230.115 ,\n",
       "       4230.535 , 4225.723 , 4207.3584, 4190.24  , 4202.2896, 4227.416 ,\n",
       "       4236.344 , 4240.222 , 4256.1978, 4271.919 , 4272.4507, 4274.9546,\n",
       "       4289.5234, 4315.5474, 4333.6235, 4325.2495, 4317.3027, 4335.7783,\n",
       "       4361.3506, 4362.7266, 4357.464 , 4356.6655, 4331.291 , 4301.679 ,\n",
       "       4308.7593, 4331.749 , 4349.707 , 4374.5854, 4395.0015, 4390.7354,\n",
       "       4390.79  , 4397.104 , 4390.585 , 4391.712 , 4396.1123, 4390.8003,\n",
       "       4396.4697, 4413.1265, 4414.964 , 4413.619 , 4423.2773, 4432.899 ,\n",
       "       4437.7007, 4446.7485, 4447.9746, 4425.4653, 4408.315 , 4421.47  ,\n",
       "       4453.219 , 4475.1045, 4473.612 , 4471.684 , 4489.6045, 4510.432 ,\n",
       "       4511.4717, 4509.1313, 4518.7085, 4522.1187, 4508.883 , 4501.721 ,\n",
       "       4504.163 , 4497.6567, 4477.96  , 4461.732 , 4459.7734, 4465.1216,\n",
       "       4452.135 , 4401.8555, 4380.1777, 4401.84  , 4430.4917, 4442.3076,\n",
       "       4435.309 , 4403.111 , 4374.46  , 4362.7817, 4359.8174, 4346.864 ,\n",
       "       4339.737 , 4353.065 , 4379.912 , 4399.8403, 4388.091 , 4351.827 ,\n",
       "       4352.831 , 4398.8994, 4440.026 , 4456.6562, 4474.3975, 4502.1616,\n",
       "       4516.4526, 4523.197 , 4538.638 , 4552.0933, 4554.232 , 4557.8794,\n",
       "       4570.9814, 4585.546 , 4601.8384, 4621.1855, 4644.9214, 4671.1074,\n",
       "       4683.2363, 4670.643 , 4651.455 , 4642.752 , 4650.5063, 4666.8486,\n",
       "       4677.4927, 4674.978 , 4672.48  , 4686.2744, 4702.106 , 4692.3066,\n",
       "       4662.0376, 4643.73  , 4637.8545, 4632.1963, 4622.196 , 4602.335 ,\n",
       "       4587.548 , 4604.8286, 4649.037 , 4674.8145, 4677.2754, 4684.6885,\n",
       "       4680.8535, 4658.974 , 4676.6665, 4696.379 , 4652.1772, 4599.3247,\n",
       "       4625.5176, 4668.8394, 4711.7944, 4756.8965, 4776.006 , 4785.047 ,\n",
       "       4792.9756, 4777.4497, 4771.7573, 4790.484 , 4784.3403, 4731.7515,\n",
       "       4694.4946, 4680.584 , 4689.665 , 4724.793 , 4730.2485, 4660.5693,\n",
       "       4612.418 , 4613.126 , 4595.9224, 4523.0728, 4441.5986, 4430.039 ,\n",
       "       4449.1304, 4446.776 , 4439.173 , 4462.4966, 4523.6763, 4564.1484,\n",
       "       4550.7563, 4524.637 , 4517.0093, 4524.403 , 4551.046 , 4573.548 ,\n",
       "       4517.0454, 4439.2715, 4438.7817, 4472.4453, 4451.0127, 4397.3394,\n",
       "       4360.5884, 4332.21  , 4322.7715, 4355.037 , 4367.061 , 4366.8223,\n",
       "       4386.8247, 4396.201 , 4362.1567, 4320.259 , 4296.537 , 4271.5938,\n",
       "       4280.815 , 4288.861 , 4255.5083, 4261.7324, 4329.3306, 4387.435 ,\n",
       "       4422.499 , 4463.2295, 4488.2856, 4498.2236, 4506.7812, 4531.906 ,\n",
       "       4552.4927, 4594.885 , 4624.179 , 4579.013 , 4546.5864, 4567.3984,\n",
       "       4570.035 , 4532.8657, 4509.501 , 4512.1504, 4484.2275, 4463.0874,\n",
       "       4467.714 , 4456.009 , 4440.0054, 4447.3955, 4480.568 , 4483.053 ,\n",
       "       4423.8384, 4315.931 , 4265.6655, 4272.3105, 4309.902 , 4291.0596,\n",
       "       4208.6084, 4213.5435, 4287.0933, 4273.206 , 4181.1323, 4107.159 ,\n",
       "       4091.8813, 4071.9514, 4052.3848, 4042.3093, 4062.2896, 4092.1343,\n",
       "       4069.1975, 3980.649 , 3962.3289, 3995.0515, 3992.1572, 4014.6924,\n",
       "       4083.3638, 4137.468 , 4165.126 , 4183.9224, 4180.603 , 4167.4546,\n",
       "       4169.256 , 4169.9673, 4160.6323, 4133.745 , 4017.1045, 3854.2625,\n",
       "       3823.937 , 3861.6511, 3813.041 , 3763.1565, 3792.5178, 3812.8613,\n",
       "       3821.3938, 3880.303 , 3928.7288, 3928.803 , 3881.53  , 3837.2188,\n",
       "       3835.576 , 3863.453 , 3884.5928, 3905.9688, 3914.121 , 3909.2332,\n",
       "       3881.733 , 3838.3333, 3827.2761, 3868.796 , 3904.6863, 3930.7195,\n",
       "       3962.5945, 3995.254 , 4005.635 , 3986.5107, 3973.59  , 4010.9177,\n",
       "       4076.2483, 4125.08  , 4137.1143, 4138.5376, 4156.823 , 4162.28  ,\n",
       "       4166.93  , 4173.9746, 4178.2153, 4204.063 , 4254.1396, 4287.17  ,\n",
       "       4303.638 , 4317.6523, 4312.547 , 4301.491 , 4280.971 , 4226.002 ,\n",
       "       4180.0356, 4173.481 , 4199.7954, 4192.389 , 4126.379 , 4051.309 ,\n",
       "       4035.4504, 4027.6782, 4021.1814, 4001.9185, 3991.956 , 4015.1084,\n",
       "       4070.3687, 4095.4006, 4060.8054, 3991.7595, 3964.7102, 3932.1643,\n",
       "       3908.6401, 3906.7373, 3898.4949, 3837.4019, 3758.7249, 3738.9216,\n",
       "       3751.4275, 3762.298 , 3735.9692, 3710.1768, 3731.058 , 3789.6956,\n",
       "       3823.5305, 3807.6497, 3748.5115, 3697.8452, 3653.7097, 3659.391 ,\n",
       "       3694.9304, 3715.7627, 3714.8748, 3732.82  , 3754.1377, 3735.3594,\n",
       "       3741.7083, 3796.0967, 3844.3708, 3866.3347, 3865.8042, 3864.3208,\n",
       "       3882.7302, 3905.3298, 3869.437 , 3773.6987, 3773.3135, 3835.6506,\n",
       "       3842.9075, 3850.8481, 3912.2625, 3966.9287, 3996.4006, 4011.8335,\n",
       "       3982.8386, 3953.9724, 3963.6692, 3969.563 , 3978.3235, 4021.7578,\n",
       "       4037.101 , 3988.4297, 3992.7273, 4051.5884, 4075.4988, 4068.1797,\n",
       "       4046.6826, 3998.727 , 3970.3262, 3982.079 , 3972.9614, 3987.0022,\n",
       "       4049.7566, 4041.5386, 3957.3716, 3891.6965, 3849.8064, 3843.1704,\n",
       "       3871.052 , 3883.6565, 3843.1016, 3839.2622, 3862.274 , 3844.3848,\n",
       "       3843.1946, 3871.722 , 3854.2222, 3840.1907, 3889.247 , 3921.9004,\n",
       "       3920.164 , 3939.0393, 3967.6328, 3978.628 , 3998.013 , 3981.7754,\n",
       "       3922.3613, 3943.0732, 4011.917 , 4010.1445, 3998.5544, 4043.6914,\n",
       "       4074.4155, 4057.673 , 4069.855 , 4114.574 , 4163.9624, 4167.696 ,\n",
       "       4125.797 , 4127.0947, 4156.163 , 4138.8584, 4102.2964, 4112.424 ,\n",
       "       4141.796 , 4138.559 , 4114.38  , 4078.4792, 4048.7864, 4023.6956,\n",
       "       4011.0757, 4000.2117, 4006.4685, 4002.8833, 3971.4263, 3985.0112,\n",
       "       4043.4546, 4061.3455, 4038.3328, 4018.911 , 4004.1113, 3958.9158,\n",
       "       3918.3257, 3917.2283, 3925.2832, 3944.6482, 3955.9656, 3952.1753,\n",
       "       3987.6028, 4023.617 , 4000.0078, 3972.994 , 3989.8481, 3993.2256,\n",
       "       3996.3276, 4026.1973, 4047.4465])"
      ]
     },
     "execution_count": 3,
     "metadata": {},
     "output_type": "execute_result"
    }
   ],
   "source": [
    "pred1_lst =read_csv('./True value of S&P 500 High and all model predictions.csv', index_col=0,usecols=[0,23])\n",
    "pred1_lst =pred1_lst.values\n",
    "pred1_lst=pred1_lst.flatten()\n",
    "pred1_lst"
   ]
  },
  {
   "cell_type": "markdown",
   "id": "5fd56cf7",
   "metadata": {},
   "source": [
    "# BPNN"
   ]
  },
  {
   "cell_type": "code",
   "execution_count": 4,
   "id": "35a627a8",
   "metadata": {},
   "outputs": [
    {
     "name": "stdout",
     "output_type": "stream",
     "text": [
      "crit：RMSE， mdm_return(MDM=-23.26267192749259, p_value=1.1589523013433525e-85)\n",
      "crit：MAE， mdm_return(MDM=-32.861777609092734, p_value=6.410539556325623e-136)\n",
      "crit：MAPE， mdm_return(MDM=-33.37014924275424, p_value=1.6988781859005983e-138)\n"
     ]
    }
   ],
   "source": [
    "pred2_lst  =read_csv('./True value of S&P 500 High and all model predictions.csv', index_col=0,usecols=[0,1])\n",
    "pred2_lst=pred2_lst.values\n",
    "pred2_lst=pred2_lst.flatten()\n",
    "rt = mdm_test(actual_lst, pred1_lst, pred2_lst, h=1, crit=\"RMSE\")\n",
    "print(\"crit：RMSE，\", rt)\n",
    "rt = mdm_test(actual_lst, pred1_lst, pred2_lst, h=1, crit=\"MAE\")\n",
    "print(\"crit：MAE，\", rt)\n",
    "rt = mdm_test(actual_lst, pred1_lst, pred2_lst, h=1, crit=\"MAPE\")\n",
    "print(\"crit：MAPE，\", rt)"
   ]
  },
  {
   "cell_type": "markdown",
   "id": "f49639c5",
   "metadata": {},
   "source": [
    "# SVR"
   ]
  },
  {
   "cell_type": "code",
   "execution_count": 5,
   "id": "721ff2cf",
   "metadata": {},
   "outputs": [
    {
     "name": "stdout",
     "output_type": "stream",
     "text": [
      "crit：RMSE， mdm_return(MDM=-21.265620457135686, p_value=4.202169617523614e-75)\n",
      "crit：MAE， mdm_return(MDM=-29.356662359611462, p_value=7.378468494428375e-118)\n",
      "crit：MAPE， mdm_return(MDM=-30.12201180151065, p_value=7.656285789981458e-122)\n"
     ]
    }
   ],
   "source": [
    "pred2_lst  =read_csv('./True value of S&P 500 High and all model predictions.csv', index_col=0,usecols=[0,2])\n",
    "pred2_lst=pred2_lst.values\n",
    "pred2_lst=pred2_lst.flatten()\n",
    "rt = mdm_test(actual_lst, pred1_lst, pred2_lst, h=1, crit=\"RMSE\")\n",
    "print(\"crit：RMSE，\", rt)\n",
    "rt = mdm_test(actual_lst, pred1_lst, pred2_lst, h=1, crit=\"MAE\")\n",
    "print(\"crit：MAE，\", rt)\n",
    "rt = mdm_test(actual_lst, pred1_lst, pred2_lst, h=1, crit=\"MAPE\")\n",
    "print(\"crit：MAPE，\", rt)"
   ]
  },
  {
   "cell_type": "markdown",
   "id": "ed75aefe",
   "metadata": {},
   "source": [
    "# GRU"
   ]
  },
  {
   "cell_type": "code",
   "execution_count": 6,
   "id": "00bee455",
   "metadata": {},
   "outputs": [
    {
     "name": "stdout",
     "output_type": "stream",
     "text": [
      "crit：RMSE， mdm_return(MDM=-19.967526922226437, p_value=2.645056771937555e-68)\n",
      "crit：MAE， mdm_return(MDM=-27.317934906414433, p_value=3.699733342998055e-107)\n",
      "crit：MAPE， mdm_return(MDM=-27.277327927075948, p_value=6.058813938688991e-107)\n"
     ]
    }
   ],
   "source": [
    "pred2_lst  =read_csv('./True value of S&P 500 High and all model predictions.csv', index_col=0,usecols=[0,3])\n",
    "pred2_lst=pred2_lst.values\n",
    "pred2_lst=pred2_lst.flatten()\n",
    "rt = mdm_test(actual_lst, pred1_lst, pred2_lst, h=1, crit=\"RMSE\")\n",
    "print(\"crit：RMSE，\", rt)\n",
    "rt = mdm_test(actual_lst, pred1_lst, pred2_lst, h=1, crit=\"MAE\")\n",
    "print(\"crit：MAE，\", rt)\n",
    "rt = mdm_test(actual_lst, pred1_lst, pred2_lst, h=1, crit=\"MAPE\")\n",
    "print(\"crit：MAPE，\", rt)"
   ]
  },
  {
   "cell_type": "markdown",
   "id": "577821f5",
   "metadata": {},
   "source": [
    "# LSTM"
   ]
  },
  {
   "cell_type": "code",
   "execution_count": 7,
   "id": "00c0ca73",
   "metadata": {},
   "outputs": [
    {
     "name": "stdout",
     "output_type": "stream",
     "text": [
      "crit：RMSE， mdm_return(MDM=-18.663282630152445, p_value=1.4709477547214355e-61)\n",
      "crit：MAE， mdm_return(MDM=-26.59758492439697, p_value=2.3622328274218927e-103)\n",
      "crit：MAPE， mdm_return(MDM=-26.60102984856871, p_value=2.265174855286991e-103)\n"
     ]
    }
   ],
   "source": [
    "pred2_lst  =read_csv('./True value of S&P 500 High and all model predictions.csv', index_col=0,usecols=[0,4])\n",
    "pred2_lst=pred2_lst.values\n",
    "pred2_lst=pred2_lst.flatten()\n",
    "rt = mdm_test(actual_lst, pred1_lst, pred2_lst, h=1, crit=\"RMSE\")\n",
    "print(\"crit：RMSE，\", rt)\n",
    "rt = mdm_test(actual_lst, pred1_lst, pred2_lst, h=1, crit=\"MAE\")\n",
    "print(\"crit：MAE，\", rt)\n",
    "rt = mdm_test(actual_lst, pred1_lst, pred2_lst, h=1, crit=\"MAPE\")\n",
    "print(\"crit：MAPE，\", rt)"
   ]
  },
  {
   "cell_type": "markdown",
   "id": "4cf952dd",
   "metadata": {},
   "source": [
    "# Transformer"
   ]
  },
  {
   "cell_type": "code",
   "execution_count": 8,
   "id": "c35347d9",
   "metadata": {},
   "outputs": [
    {
     "name": "stdout",
     "output_type": "stream",
     "text": [
      "crit：RMSE， mdm_return(MDM=-16.58226976185001, p_value=4.6250594998849836e-51)\n",
      "crit：MAE， mdm_return(MDM=-21.393299484526242, p_value=8.938788413121413e-76)\n",
      "crit：MAPE， mdm_return(MDM=-21.479345731834837, p_value=3.14760208497763e-76)\n"
     ]
    }
   ],
   "source": [
    "pred2_lst  =read_csv('./True value of S&P 500 High and all model predictions.csv', index_col=0,usecols=[0,5])\n",
    "pred2_lst=pred2_lst.values\n",
    "pred2_lst=pred2_lst.flatten()\n",
    "rt = mdm_test(actual_lst, pred1_lst, pred2_lst, h=1, crit=\"RMSE\")\n",
    "print(\"crit：RMSE，\", rt)\n",
    "rt = mdm_test(actual_lst, pred1_lst, pred2_lst, h=1, crit=\"MAE\")\n",
    "print(\"crit：MAE，\", rt)\n",
    "rt = mdm_test(actual_lst, pred1_lst, pred2_lst, h=1, crit=\"MAPE\")\n",
    "print(\"crit：MAPE，\", rt)"
   ]
  },
  {
   "cell_type": "markdown",
   "id": "1c148fc8",
   "metadata": {},
   "source": [
    "# Informer"
   ]
  },
  {
   "cell_type": "code",
   "execution_count": 9,
   "id": "73fa90bc",
   "metadata": {},
   "outputs": [
    {
     "name": "stdout",
     "output_type": "stream",
     "text": [
      "crit：RMSE， mdm_return(MDM=-12.586356787767498, p_value=2.2162810060488975e-32)\n",
      "crit：MAE， mdm_return(MDM=-15.748195034977947, p_value=5.634026793746806e-47)\n",
      "crit：MAPE， mdm_return(MDM=-15.831105359549012, p_value=2.2303248509446026e-47)\n"
     ]
    }
   ],
   "source": [
    "pred2_lst  =read_csv('./True value of S&P 500 High and all model predictions.csv', index_col=0,usecols=[0,6])\n",
    "pred2_lst=pred2_lst.values\n",
    "pred2_lst=pred2_lst.flatten()\n",
    "rt = mdm_test(actual_lst, pred1_lst, pred2_lst, h=1, crit=\"RMSE\")\n",
    "print(\"crit：RMSE，\", rt)\n",
    "rt = mdm_test(actual_lst, pred1_lst, pred2_lst, h=1, crit=\"MAE\")\n",
    "print(\"crit：MAE，\", rt)\n",
    "rt = mdm_test(actual_lst, pred1_lst, pred2_lst, h=1, crit=\"MAPE\")\n",
    "print(\"crit：MAPE，\", rt)"
   ]
  },
  {
   "cell_type": "markdown",
   "id": "e16cd335",
   "metadata": {},
   "source": [
    "# TCN"
   ]
  },
  {
   "cell_type": "code",
   "execution_count": 10,
   "id": "30fc95e7",
   "metadata": {},
   "outputs": [
    {
     "name": "stdout",
     "output_type": "stream",
     "text": [
      "crit：RMSE， mdm_return(MDM=-14.18458371579463, p_value=1.4686489221330284e-39)\n",
      "crit：MAE， mdm_return(MDM=-18.346183026950612, p_value=6.176563847323691e-60)\n",
      "crit：MAPE， mdm_return(MDM=-18.408856931840912, p_value=2.954766819193393e-60)\n"
     ]
    }
   ],
   "source": [
    "pred2_lst  =read_csv('./True value of S&P 500 High and all model predictions.csv', index_col=0,usecols=[0,7])\n",
    "pred2_lst=pred2_lst.values\n",
    "pred2_lst=pred2_lst.flatten()\n",
    "rt = mdm_test(actual_lst, pred1_lst, pred2_lst, h=1, crit=\"RMSE\")\n",
    "print(\"crit：RMSE，\", rt)\n",
    "rt = mdm_test(actual_lst, pred1_lst, pred2_lst, h=1, crit=\"MAE\")\n",
    "print(\"crit：MAE，\", rt)\n",
    "rt = mdm_test(actual_lst, pred1_lst, pred2_lst, h=1, crit=\"MAPE\")\n",
    "print(\"crit：MAPE，\", rt)"
   ]
  },
  {
   "cell_type": "markdown",
   "id": "551e05df",
   "metadata": {},
   "source": [
    "# BiLSTM"
   ]
  },
  {
   "cell_type": "code",
   "execution_count": 11,
   "id": "a9354dd2",
   "metadata": {},
   "outputs": [
    {
     "name": "stdout",
     "output_type": "stream",
     "text": [
      "crit：RMSE， mdm_return(MDM=-22.938595597900335, p_value=6.062187985791052e-84)\n",
      "crit：MAE， mdm_return(MDM=-31.93429045467514, p_value=3.448377192990257e-131)\n",
      "crit：MAPE， mdm_return(MDM=-32.08312410058671, p_value=5.969839659204888e-132)\n"
     ]
    }
   ],
   "source": [
    "pred2_lst  =read_csv('./True value of S&P 500 High and all model predictions.csv', index_col=0,usecols=[0,8])\n",
    "pred2_lst=pred2_lst.values\n",
    "pred2_lst=pred2_lst.flatten()\n",
    "rt = mdm_test(actual_lst, pred1_lst, pred2_lst, h=1, crit=\"RMSE\")\n",
    "print(\"crit：RMSE，\", rt)\n",
    "rt = mdm_test(actual_lst, pred1_lst, pred2_lst, h=1, crit=\"MAE\")\n",
    "print(\"crit：MAE，\", rt)\n",
    "rt = mdm_test(actual_lst, pred1_lst, pred2_lst, h=1, crit=\"MAPE\")\n",
    "print(\"crit：MAPE，\", rt)"
   ]
  },
  {
   "cell_type": "markdown",
   "id": "65bf1ef0",
   "metadata": {},
   "source": [
    "# CNN-BiLSTM-SAM"
   ]
  },
  {
   "cell_type": "code",
   "execution_count": 12,
   "id": "f98c04a1",
   "metadata": {},
   "outputs": [
    {
     "name": "stdout",
     "output_type": "stream",
     "text": [
      "crit：RMSE， mdm_return(MDM=-13.970131133888497, p_value=1.431358165210171e-38)\n",
      "crit：MAE， mdm_return(MDM=-21.920374786674113, p_value=1.4834095404919516e-78)\n",
      "crit：MAPE， mdm_return(MDM=-21.521758240090172, p_value=1.8813276979018866e-76)\n"
     ]
    }
   ],
   "source": [
    "pred2_lst  =read_csv('./True value of S&P 500 High and all model predictions.csv', index_col=0,usecols=[0,9])\n",
    "pred2_lst=pred2_lst.values\n",
    "pred2_lst=pred2_lst.flatten()\n",
    "rt = mdm_test(actual_lst, pred1_lst, pred2_lst, h=1, crit=\"RMSE\")\n",
    "print(\"crit：RMSE，\", rt)\n",
    "rt = mdm_test(actual_lst, pred1_lst, pred2_lst, h=1, crit=\"MAE\")\n",
    "print(\"crit：MAE，\", rt)\n",
    "rt = mdm_test(actual_lst, pred1_lst, pred2_lst, h=1, crit=\"MAPE\")\n",
    "print(\"crit：MAPE，\", rt)"
   ]
  },
  {
   "cell_type": "markdown",
   "id": "2d079044",
   "metadata": {},
   "source": [
    "# ICEEMDAN-SVR"
   ]
  },
  {
   "cell_type": "code",
   "execution_count": 13,
   "id": "ff6ed64b",
   "metadata": {},
   "outputs": [
    {
     "name": "stdout",
     "output_type": "stream",
     "text": [
      "crit：RMSE， mdm_return(MDM=-24.77683986664436, p_value=1.0609111174089494e-93)\n",
      "crit：MAE， mdm_return(MDM=-33.247639707255566, p_value=7.080028673799983e-138)\n",
      "crit：MAPE， mdm_return(MDM=-33.334271315583706, p_value=2.580034792014708e-138)\n"
     ]
    }
   ],
   "source": [
    "pred2_lst  =read_csv('./True value of S&P 500 High and all model predictions.csv', index_col=0,usecols=[0,10])\n",
    "pred2_lst=pred2_lst.values\n",
    "pred2_lst=pred2_lst.flatten()\n",
    "rt = mdm_test(actual_lst, pred1_lst, pred2_lst, h=1, crit=\"RMSE\")\n",
    "print(\"crit：RMSE，\", rt)\n",
    "rt = mdm_test(actual_lst, pred1_lst, pred2_lst, h=1, crit=\"MAE\")\n",
    "print(\"crit：MAE，\", rt)\n",
    "rt = mdm_test(actual_lst, pred1_lst, pred2_lst, h=1, crit=\"MAPE\")\n",
    "print(\"crit：MAPE，\", rt)"
   ]
  },
  {
   "cell_type": "markdown",
   "id": "b2499a9f",
   "metadata": {},
   "source": [
    "# CEEMDAN-LSTM"
   ]
  },
  {
   "cell_type": "code",
   "execution_count": 14,
   "id": "6af0c57f",
   "metadata": {},
   "outputs": [
    {
     "name": "stdout",
     "output_type": "stream",
     "text": [
      "crit：RMSE， mdm_return(MDM=-12.759896958992055, p_value=3.8781667967135e-33)\n",
      "crit：MAE， mdm_return(MDM=-16.036296021824782, p_value=2.2323223640827228e-48)\n",
      "crit：MAPE， mdm_return(MDM=-15.880540410988882, p_value=1.2823466249117817e-47)\n"
     ]
    }
   ],
   "source": [
    "pred2_lst  =read_csv('./True value of S&P 500 High and all model predictions.csv', index_col=0,usecols=[0,11])\n",
    "pred2_lst=pred2_lst.values\n",
    "pred2_lst=pred2_lst.flatten()\n",
    "rt = mdm_test(actual_lst, pred1_lst, pred2_lst, h=1, crit=\"RMSE\")\n",
    "print(\"crit：RMSE，\", rt)\n",
    "rt = mdm_test(actual_lst, pred1_lst, pred2_lst, h=1, crit=\"MAE\")\n",
    "print(\"crit：MAE，\", rt)\n",
    "rt = mdm_test(actual_lst, pred1_lst, pred2_lst, h=1, crit=\"MAPE\")\n",
    "print(\"crit：MAPE，\", rt)"
   ]
  },
  {
   "cell_type": "markdown",
   "id": "8dcd19a8",
   "metadata": {},
   "source": [
    "# ICEEMDAN-BiGRU"
   ]
  },
  {
   "cell_type": "code",
   "execution_count": 15,
   "id": "e3a80024",
   "metadata": {},
   "outputs": [
    {
     "name": "stdout",
     "output_type": "stream",
     "text": [
      "crit：RMSE， mdm_return(MDM=-18.492764626861938, p_value=1.0998902314734876e-60)\n",
      "crit：MAE， mdm_return(MDM=-23.903359837362647, p_value=4.610012297543188e-89)\n",
      "crit：MAPE， mdm_return(MDM=-24.445275028876306, p_value=6.112178616763102e-92)\n"
     ]
    }
   ],
   "source": [
    "pred2_lst  =read_csv('./True value of S&P 500 High and all model predictions.csv', index_col=0,usecols=[0,12])\n",
    "pred2_lst=pred2_lst.values\n",
    "pred2_lst=pred2_lst.flatten()\n",
    "rt = mdm_test(actual_lst, pred1_lst, pred2_lst, h=1, crit=\"RMSE\")\n",
    "print(\"crit：RMSE，\", rt)\n",
    "rt = mdm_test(actual_lst, pred1_lst, pred2_lst, h=1, crit=\"MAE\")\n",
    "print(\"crit：MAE，\", rt)\n",
    "rt = mdm_test(actual_lst, pred1_lst, pred2_lst, h=1, crit=\"MAPE\")\n",
    "print(\"crit：MAPE，\", rt)"
   ]
  },
  {
   "cell_type": "markdown",
   "id": "a906ab7a",
   "metadata": {},
   "source": [
    "# VMD-BiLSTM"
   ]
  },
  {
   "cell_type": "code",
   "execution_count": 16,
   "id": "67cd3fa6",
   "metadata": {},
   "outputs": [
    {
     "name": "stdout",
     "output_type": "stream",
     "text": [
      "crit：RMSE， mdm_return(MDM=-12.647096584609793, p_value=1.205972080678996e-32)\n",
      "crit：MAE， mdm_return(MDM=-13.959014793627379, p_value=1.6099129898997596e-38)\n",
      "crit：MAPE， mdm_return(MDM=-13.978670891867504, p_value=1.3077177296336887e-38)\n"
     ]
    }
   ],
   "source": [
    "pred2_lst  =read_csv('./True value of S&P 500 High and all model predictions.csv', index_col=0,usecols=[0,13])\n",
    "pred2_lst=pred2_lst.values\n",
    "pred2_lst=pred2_lst.flatten()\n",
    "rt = mdm_test(actual_lst, pred1_lst, pred2_lst, h=1, crit=\"RMSE\")\n",
    "print(\"crit：RMSE，\", rt)\n",
    "rt = mdm_test(actual_lst, pred1_lst, pred2_lst, h=1, crit=\"MAE\")\n",
    "print(\"crit：MAE，\", rt)\n",
    "rt = mdm_test(actual_lst, pred1_lst, pred2_lst, h=1, crit=\"MAPE\")\n",
    "print(\"crit：MAPE，\", rt)"
   ]
  },
  {
   "cell_type": "markdown",
   "id": "8efc96a1",
   "metadata": {},
   "source": [
    "# BiLSTM-SAM-TCN"
   ]
  },
  {
   "cell_type": "code",
   "execution_count": 17,
   "id": "4af685ac",
   "metadata": {},
   "outputs": [
    {
     "name": "stdout",
     "output_type": "stream",
     "text": [
      "crit：RMSE， mdm_return(MDM=-14.381847712898779, p_value=1.7819867928815522e-40)\n",
      "crit：MAE， mdm_return(MDM=-20.38228114843857, p_value=1.8108335579065793e-70)\n",
      "crit：MAPE， mdm_return(MDM=-20.140566837774344, p_value=3.3140219471632894e-69)\n"
     ]
    }
   ],
   "source": [
    "pred2_lst  =read_csv('./True value of S&P 500 High and all model predictions.csv', index_col=0,usecols=[0,14])\n",
    "pred2_lst=pred2_lst.values\n",
    "pred2_lst=pred2_lst.flatten()\n",
    "rt = mdm_test(actual_lst, pred1_lst, pred2_lst, h=1, crit=\"RMSE\")\n",
    "print(\"crit：RMSE，\", rt)\n",
    "rt = mdm_test(actual_lst, pred1_lst, pred2_lst, h=1, crit=\"MAE\")\n",
    "print(\"crit：MAE，\", rt)\n",
    "rt = mdm_test(actual_lst, pred1_lst, pred2_lst, h=1, crit=\"MAPE\")\n",
    "print(\"crit：MAPE，\", rt)"
   ]
  },
  {
   "cell_type": "markdown",
   "id": "d67ba24f",
   "metadata": {},
   "source": [
    "# ICEEMDAN-BiLSTM-SAM-TCN"
   ]
  },
  {
   "cell_type": "code",
   "execution_count": 18,
   "id": "d1746ee3",
   "metadata": {},
   "outputs": [
    {
     "name": "stdout",
     "output_type": "stream",
     "text": [
      "crit：RMSE， mdm_return(MDM=-11.120146771749404, p_value=3.111754711331662e-26)\n",
      "crit：MAE， mdm_return(MDM=-11.43781447783347, p_value=1.5877988374656916e-27)\n",
      "crit：MAPE， mdm_return(MDM=-11.109193352310406, p_value=3.444674658403817e-26)\n"
     ]
    }
   ],
   "source": [
    "pred2_lst  =read_csv('./True value of S&P 500 High and all model predictions.csv', index_col=0,usecols=[0,15])\n",
    "pred2_lst=pred2_lst.values\n",
    "pred2_lst=pred2_lst.flatten()\n",
    "rt = mdm_test(actual_lst, pred1_lst, pred2_lst, h=1, crit=\"RMSE\")\n",
    "print(\"crit：RMSE，\", rt)\n",
    "rt = mdm_test(actual_lst, pred1_lst, pred2_lst, h=1, crit=\"MAE\")\n",
    "print(\"crit：MAE，\", rt)\n",
    "rt = mdm_test(actual_lst, pred1_lst, pred2_lst, h=1, crit=\"MAPE\")\n",
    "print(\"crit：MAPE，\", rt)"
   ]
  },
  {
   "cell_type": "markdown",
   "id": "9cdc4dce",
   "metadata": {},
   "source": [
    "# ICEEMDAN-VMD(PSO)-SAM-TCN"
   ]
  },
  {
   "cell_type": "code",
   "execution_count": 19,
   "id": "6e6e9bab",
   "metadata": {},
   "outputs": [
    {
     "name": "stdout",
     "output_type": "stream",
     "text": [
      "crit：RMSE， mdm_return(MDM=-13.35471352421533, p_value=8.931314654815756e-36)\n",
      "crit：MAE， mdm_return(MDM=-16.83407996840858, p_value=2.608343150246779e-52)\n",
      "crit：MAPE， mdm_return(MDM=-16.66580451358406, p_value=1.7848530401887995e-51)\n"
     ]
    }
   ],
   "source": [
    "pred2_lst  =read_csv('./True value of S&P 500 High and all model predictions.csv', index_col=0,usecols=[0,16])\n",
    "pred2_lst=pred2_lst.values\n",
    "pred2_lst=pred2_lst.flatten()\n",
    "rt = mdm_test(actual_lst, pred1_lst, pred2_lst, h=1, crit=\"RMSE\")\n",
    "print(\"crit：RMSE，\", rt)\n",
    "rt = mdm_test(actual_lst, pred1_lst, pred2_lst, h=1, crit=\"MAE\")\n",
    "print(\"crit：MAE，\", rt)\n",
    "rt = mdm_test(actual_lst, pred1_lst, pred2_lst, h=1, crit=\"MAPE\")\n",
    "print(\"crit：MAPE，\", rt)"
   ]
  },
  {
   "cell_type": "markdown",
   "id": "7f35f56e",
   "metadata": {},
   "source": [
    "# ICEEMDAN-VMD(PSO)-BiLSTM-SAM"
   ]
  },
  {
   "cell_type": "code",
   "execution_count": 20,
   "id": "53ae37e5",
   "metadata": {},
   "outputs": [
    {
     "name": "stdout",
     "output_type": "stream",
     "text": [
      "crit：RMSE， mdm_return(MDM=-8.478100197235321, p_value=1.8028551007043661e-16)\n",
      "crit：MAE， mdm_return(MDM=-10.135246185634784, p_value=2.2221863660727463e-22)\n",
      "crit：MAPE， mdm_return(MDM=-10.289918558493596, p_value=5.72087805121319e-23)\n"
     ]
    }
   ],
   "source": [
    "pred2_lst  =read_csv('./True value of S&P 500 High and all model predictions.csv', index_col=0,usecols=[0,17])\n",
    "pred2_lst=pred2_lst.values\n",
    "pred2_lst=pred2_lst.flatten()\n",
    "rt = mdm_test(actual_lst, pred1_lst, pred2_lst, h=1, crit=\"RMSE\")\n",
    "print(\"crit：RMSE，\", rt)\n",
    "rt = mdm_test(actual_lst, pred1_lst, pred2_lst, h=1, crit=\"MAE\")\n",
    "print(\"crit：MAE，\", rt)\n",
    "rt = mdm_test(actual_lst, pred1_lst, pred2_lst, h=1, crit=\"MAPE\")\n",
    "print(\"crit：MAPE，\", rt)"
   ]
  },
  {
   "cell_type": "markdown",
   "id": "27f0c4b4",
   "metadata": {},
   "source": [
    "# ICEEMDAN-VMD(PSO)-BiLSTM-TCN"
   ]
  },
  {
   "cell_type": "code",
   "execution_count": 21,
   "id": "57e7283a",
   "metadata": {},
   "outputs": [
    {
     "name": "stdout",
     "output_type": "stream",
     "text": [
      "crit：RMSE， mdm_return(MDM=-17.967341641143495, p_value=5.246809718707468e-58)\n",
      "crit：MAE， mdm_return(MDM=-25.236486170879548, p_value=3.8534481239761625e-96)\n",
      "crit：MAPE， mdm_return(MDM=-25.56335755446982, p_value=7.10771794084397e-98)\n"
     ]
    }
   ],
   "source": [
    "pred2_lst  =read_csv('./True value of S&P 500 High and all model predictions.csv', index_col=0,usecols=[0,18])\n",
    "pred2_lst=pred2_lst.values\n",
    "pred2_lst=pred2_lst.flatten()\n",
    "rt = mdm_test(actual_lst, pred1_lst, pred2_lst, h=1, crit=\"RMSE\")\n",
    "print(\"crit：RMSE，\", rt)\n",
    "rt = mdm_test(actual_lst, pred1_lst, pred2_lst, h=1, crit=\"MAE\")\n",
    "print(\"crit：MAE，\", rt)\n",
    "rt = mdm_test(actual_lst, pred1_lst, pred2_lst, h=1, crit=\"MAPE\")\n",
    "print(\"crit：MAPE，\", rt)"
   ]
  },
  {
   "cell_type": "markdown",
   "id": "fe845180",
   "metadata": {},
   "source": [
    "# CEEMDAN-VMD(PSO)-BiLSTM-SAM-TCN"
   ]
  },
  {
   "cell_type": "code",
   "execution_count": 22,
   "id": "cf31a4c2",
   "metadata": {},
   "outputs": [
    {
     "name": "stdout",
     "output_type": "stream",
     "text": [
      "crit：RMSE， mdm_return(MDM=-9.583405751427206, p_value=2.503720037051461e-20)\n",
      "crit：MAE， mdm_return(MDM=-8.05500580105942, p_value=4.344453182566468e-15)\n",
      "crit：MAPE， mdm_return(MDM=-8.222761080198763, p_value=1.2487811487263741e-15)\n"
     ]
    }
   ],
   "source": [
    "pred2_lst  =read_csv('./True value of S&P 500 High and all model predictions.csv', index_col=0,usecols=[0,19])\n",
    "pred2_lst=pred2_lst.values\n",
    "pred2_lst=pred2_lst.flatten()\n",
    "rt = mdm_test(actual_lst, pred1_lst, pred2_lst, h=1, crit=\"RMSE\")\n",
    "print(\"crit：RMSE，\", rt)\n",
    "rt = mdm_test(actual_lst, pred1_lst, pred2_lst, h=1, crit=\"MAE\")\n",
    "print(\"crit：MAE，\", rt)\n",
    "rt = mdm_test(actual_lst, pred1_lst, pred2_lst, h=1, crit=\"MAPE\")\n",
    "print(\"crit：MAPE，\", rt)"
   ]
  },
  {
   "cell_type": "markdown",
   "id": "12f64b84",
   "metadata": {},
   "source": [
    "# ICEEMDAN-VMD(PSO)-BiLSTM-SAM-CNN"
   ]
  },
  {
   "cell_type": "code",
   "execution_count": 23,
   "id": "c76c223e",
   "metadata": {},
   "outputs": [
    {
     "name": "stdout",
     "output_type": "stream",
     "text": [
      "crit：RMSE， mdm_return(MDM=-10.682894865573036, p_value=1.710612876878668e-24)\n",
      "crit：MAE， mdm_return(MDM=-12.19627118913245, p_value=1.0604032988790666e-30)\n",
      "crit：MAPE， mdm_return(MDM=-11.51571725733641, p_value=7.593018266093913e-28)\n"
     ]
    }
   ],
   "source": [
    "pred2_lst  =read_csv('./True value of S&P 500 High and all model predictions.csv', index_col=0,usecols=[0,20])\n",
    "pred2_lst=pred2_lst.values\n",
    "pred2_lst=pred2_lst.flatten()\n",
    "rt = mdm_test(actual_lst, pred1_lst, pred2_lst, h=1, crit=\"RMSE\")\n",
    "print(\"crit：RMSE，\", rt)\n",
    "rt = mdm_test(actual_lst, pred1_lst, pred2_lst, h=1, crit=\"MAE\")\n",
    "print(\"crit：MAE，\", rt)\n",
    "rt = mdm_test(actual_lst, pred1_lst, pred2_lst, h=1, crit=\"MAPE\")\n",
    "print(\"crit：MAPE，\", rt)"
   ]
  },
  {
   "cell_type": "markdown",
   "id": "4f42923a",
   "metadata": {},
   "source": [
    "# ICEEMDAN-VMD(PSO)-LSTM-SAM-TCN"
   ]
  },
  {
   "cell_type": "code",
   "execution_count": 24,
   "id": "b126a28c",
   "metadata": {},
   "outputs": [
    {
     "name": "stdout",
     "output_type": "stream",
     "text": [
      "crit：RMSE， mdm_return(MDM=-19.35925680389981, p_value=3.810047320920196e-65)\n",
      "crit：MAE， mdm_return(MDM=-20.29574219415889, p_value=5.130765233439862e-70)\n",
      "crit：MAPE， mdm_return(MDM=-19.654448648631767, p_value=1.1237285112876478e-66)\n"
     ]
    }
   ],
   "source": [
    "pred2_lst  =read_csv('./True value of S&P 500 High and all model predictions.csv', index_col=0,usecols=[0,21])\n",
    "pred2_lst=pred2_lst.values\n",
    "pred2_lst=pred2_lst.flatten()\n",
    "rt = mdm_test(actual_lst, pred1_lst, pred2_lst, h=1, crit=\"RMSE\")\n",
    "print(\"crit：RMSE，\", rt)\n",
    "rt = mdm_test(actual_lst, pred1_lst, pred2_lst, h=1, crit=\"MAE\")\n",
    "print(\"crit：MAE，\", rt)\n",
    "rt = mdm_test(actual_lst, pred1_lst, pred2_lst, h=1, crit=\"MAPE\")\n",
    "print(\"crit：MAPE，\", rt)"
   ]
  }
 ],
 "metadata": {
  "kernelspec": {
   "display_name": "Python 3 (ipykernel)",
   "language": "python",
   "name": "python3"
  },
  "language_info": {
   "codemirror_mode": {
    "name": "ipython",
    "version": 3
   },
   "file_extension": ".py",
   "mimetype": "text/x-python",
   "name": "python",
   "nbconvert_exporter": "python",
   "pygments_lexer": "ipython3",
   "version": "3.10.9"
  }
 },
 "nbformat": 4,
 "nbformat_minor": 5
}
