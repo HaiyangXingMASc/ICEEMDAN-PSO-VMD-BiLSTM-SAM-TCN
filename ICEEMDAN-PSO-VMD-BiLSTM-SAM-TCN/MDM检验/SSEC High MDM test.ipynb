{
 "cells": [
  {
   "cell_type": "markdown",
   "id": "6b4579d5",
   "metadata": {},
   "source": [
    "# Defining MDM"
   ]
  },
  {
   "cell_type": "code",
   "execution_count": 1,
   "id": "3d7fa26b",
   "metadata": {},
   "outputs": [],
   "source": [
    "def mdm_test(actual_lst, pred1_lst, pred2_lst, h = 1, crit=\"RMSE\"):\n",
    "    def error_check():\n",
    "        rt = 0\n",
    "        msg = \"\"\n",
    "        if (not isinstance(h, int)):\n",
    "            rt = -1\n",
    "            msg = \"The type of the number of steps ahead (h) is not an integer.\"\n",
    "            return (rt,msg)\n",
    "        if (h < 1):\n",
    "            rt = -1\n",
    "            msg = \"The number of steps ahead (h) is not large enough.\"\n",
    "            return (rt,msg)\n",
    "        len_act = len(actual_lst)\n",
    "        len_p1  = len(pred1_lst)\n",
    "        len_p2  = len(pred2_lst)\n",
    "        if (len_act != len_p1 or len_p1 != len_p2 or len_act != len_p2):\n",
    "            rt = -1\n",
    "            msg = \"Lengths of actual_lst, pred1_lst and pred2_lst do not match.\"\n",
    "            return (rt,msg)\n",
    "        if (h >= len_act):\n",
    "            rt = -1\n",
    "            msg = \"The number of steps ahead is too large.\"\n",
    "            return (rt,msg)\n",
    "\n",
    "        if (crit != \"RMSE\" and crit != \"MAE\" and crit != \"MAPE\"):\n",
    "            rt = -1\n",
    "            msg = \"The criterion is not supported.\"\n",
    "            return (rt,msg)  \n",
    "        from re import compile as re_compile\n",
    "        comp = re_compile(\"^\\d+?\\.\\d+?$\")  \n",
    "        def compiled_regex(s):\n",
    "            if comp.match(s) is None:\n",
    "                return s.isdigit()\n",
    "            return True\n",
    "        for actual, pred1, pred2 in zip(actual_lst, pred1_lst, pred2_lst):\n",
    "            is_actual_ok = compiled_regex(str(abs(actual)))\n",
    "            is_pred1_ok = compiled_regex(str(abs(pred1)))\n",
    "            is_pred2_ok = compiled_regex(str(abs(pred2)))\n",
    "            if (not (is_actual_ok and is_pred1_ok and is_pred2_ok)):  \n",
    "                msg = \"An element in the actual_lst, pred1_lst or pred2_lst is not numeric.\"\n",
    "                rt = -1\n",
    "                return (rt,msg)\n",
    "        return (rt,msg)\n",
    "    \n",
    "\n",
    "    error_code = error_check()\n",
    "\n",
    "    if (error_code[0] == -1):\n",
    "        raise SyntaxError(error_code[1])\n",
    "        return\n",
    "\n",
    "    from scipy.stats import t\n",
    "    import collections\n",
    "    import pandas as pd\n",
    "    import numpy as np\n",
    "    \n",
    "    e1_lst = []\n",
    "    e2_lst = []\n",
    "    d_lst  = []\n",
    "    \n",
    "    actual_lst = pd.Series(actual_lst).apply(lambda x: float(x)).tolist()\n",
    "    pred1_lst = pd.Series(pred1_lst).apply(lambda x: float(x)).tolist()\n",
    "    pred2_lst = pd.Series(pred2_lst).apply(lambda x: float(x)).tolist()\n",
    "    \n",
    "    T = float(len(actual_lst))\n",
    "    \n",
    "    if crit == \"RMSE\":\n",
    "        for actual, p1, p2 in zip(actual_lst, pred1_lst, pred2_lst):\n",
    "            e1_lst.append((actual - p1) ** 2)\n",
    "            e2_lst.append((actual - p2) ** 2)\n",
    "        for e1, e2 in zip(e1_lst, e2_lst):\n",
    "            d_lst.append(e1 - e2)\n",
    "\n",
    "    if (crit == \"MAE\"):\n",
    "        for actual,p1,p2 in zip(actual_lst,pred1_lst,pred2_lst):\n",
    "            e1_lst.append(abs(actual - p1))\n",
    "            e2_lst.append(abs(actual - p2))\n",
    "        for e1, e2 in zip(e1_lst, e2_lst):\n",
    "            d_lst.append(e1 - e2)\n",
    "\n",
    "    if (crit == \"MAPE\"):\n",
    "        for actual,p1,p2 in zip(actual_lst,pred1_lst,pred2_lst):\n",
    "            e1_lst.append(abs((actual - p1)/actual))\n",
    "            e2_lst.append(abs((actual - p2)/actual))\n",
    "        for e1, e2 in zip(e1_lst, e2_lst):\n",
    "            d_lst.append(e1 - e2)\n",
    "   \n",
    "    mean_d = pd.Series(d_lst).mean()\n",
    "    \n",
    "    def autocovariance(Xi, N, k, Xs):\n",
    "        autoCov = 0\n",
    "        T = float(N)\n",
    "        for i in np.arange(0, N-k):\n",
    "              autoCov += ((Xi[i+k])-Xs)*(Xi[i]-Xs)\n",
    "        return (1/(T))*autoCov\n",
    "    gamma = []\n",
    "    for lag in range(0,h):\n",
    "        gamma.append(autocovariance(d_lst,len(d_lst),lag,mean_d)) # 0, 1, 2\n",
    "    V_d = (gamma[0] + 2*sum(gamma[1:]))/T\n",
    "    MDM_stat=V_d**(-0.5)*mean_d\n",
    "    harvey_adj=((T+1-2*h+h*(h-1)/T)/T)**(0.5)\n",
    "    MDM_stat = harvey_adj*MDM_stat\n",
    "    p_value = 2*t.cdf(-abs(MDM_stat), df = T - 1)\n",
    "    \n",
    "    dm_return = collections.namedtuple('mdm_return', 'MDM p_value')\n",
    "    \n",
    "    rt = dm_return(MDM = MDM_stat, p_value = p_value)\n",
    "    \n",
    "    return rt"
   ]
  },
  {
   "cell_type": "markdown",
   "id": "53f9beb6",
   "metadata": {},
   "source": [
    "# Importing real values"
   ]
  },
  {
   "cell_type": "code",
   "execution_count": 2,
   "id": "ab4c9794",
   "metadata": {},
   "outputs": [
    {
     "data": {
      "text/plain": [
       "array([3328.100204, 3332.149794, 3320.879784, 3326.04989 , 3264.449921,\n",
       "       3258.34004 , 3275.869972, 3289.770123, 3279.860082, 3242.800176,\n",
       "       3278.380004, 3286.620016, 3320.410089, 3326.460106, 3380.820085,\n",
       "       3387.619927, 3365.840095, 3350.279892, 3327.229885, 3346.970149,\n",
       "       3347.700019, 3358.889827, 3367.33015 , 3380.150078, 3431.650056,\n",
       "       3413.929791, 3423.489862, 3371.449964, 3408.309944, 3456.740015,\n",
       "       3457.639881, 3465.729852, 3452.160099, 3448.399848, 3449.580227,\n",
       "       3428.659968, 3422.54011 , 3384.890013, 3383.180076, 3371.129927,\n",
       "       3373.560141, 3378.660023, 3406.149881, 3413.810064, 3423.609972,\n",
       "       3415.749861, 3394.209865, 3394.070184, 3397.010003, 3412.519936,\n",
       "       3407.09004 , 3414.45014 , 3474.919999, 3511.659868, 3528.679812,\n",
       "       3556.800152, 3576.20004 , 3588.060239, 3597.700128, 3608.340039,\n",
       "       3622.349939, 3599.060096, 3589.270165, 3608.770209, 3603.149979,\n",
       "       3589.960127, 3636.240113, 3616.540142, 3637.10007 , 3610.969797,\n",
       "       3578.799867, 3549.540208, 3531.60006 , 3506.389991, 3535.499992,\n",
       "       3544.010156, 3524.720017, 3536.539923, 3542.210039, 3604.009936,\n",
       "       3662.769858, 3731.690018, 3699.649792, 3717.269902, 3672.149956,\n",
       "       3645.649759, 3608.559921, 3550.409759, 3552.570205, 3566.850257,\n",
       "       3577.620255, 3552.199898, 3523.569953, 3542.300218, 3429.150001,\n",
       "       3397.029957, 3436.830139, 3454.510112, 3457.48984 , 3448.879904,\n",
       "       3454.059987, 3478.139947, 3439.520144, 3443.659913, 3445.419736,\n",
       "       3415.290143, 3382.22994 , 3423.220094, 3449.83004 , 3457.629904,\n",
       "       3452.209985, 3470.030023, 3487.590269, 3493.279957, 3483.419802,\n",
       "       3495.910099, 3475.449942, 3456.159803, 3425.38975 , 3420.030078,\n",
       "       3409.610049, 3432.62974 , 3479.009882, 3494.299933, 3481.250146,\n",
       "       3485.359983, 3482.359917, 3497.120026, 3443.850247, 3457.07003 ,\n",
       "       3478.230126, 3469.090248, 3471.239949, 3457.890079, 3429.739807,\n",
       "       3448.100148, 3466.369927, 3448.019947, 3490.639837, 3530.50986 ,\n",
       "       3529.009827, 3521.110191, 3517.739818, 3518.379893, 3498.300021,\n",
       "       3584.580116, 3603.489971, 3626.360004, 3622.179943, 3615.659846,\n",
       "       3626.069898, 3629.290229, 3618.50987 , 3618.799976, 3600.379772,\n",
       "       3621.519913, 3598.710127, 3624.340006, 3614.400033, 3592.949832,\n",
       "       3561.089962, 3534.199887, 3535.620102, 3540.300174, 3560.190096,\n",
       "       3577.46983 , 3570.490015, 3614.299878, 3614.360124, 3601.829919,\n",
       "       3594.120233, 3607.699963, 3569.889848, 3534.319997, 3538.350016,\n",
       "       3557.879991, 3558.680086, 3529.30991 , 3565.030187, 3567.479972,\n",
       "       3560.830171, 3565.930053, 3565.999893, 3544.879706, 3538.639739,\n",
       "       3569.090137, 3576.469808, 3571.849983, 3538.010024, 3483.869927,\n",
       "       3385.540066, 3416.610202, 3404.879707, 3464.290066, 3470.659737,\n",
       "       3477.600027, 3486.160077, 3466.389881, 3502.840028, 3529.930031,\n",
       "       3544.089973, 3538.399902, 3540.079908, 3537.850005, 3531.719786,\n",
       "       3487.439844, 3480.460029, 3453.14976 , 3481.250146, 3522.700018,\n",
       "       3540.389969, 3537.320063, 3530.189822, 3539.490103, 3543.939931,\n",
       "       3582.319898, 3597.370113, 3613.949908, 3626.290163, 3681.92991 ,\n",
       "       3695.320073, 3693.450116, 3722.870178, 3716.830138, 3723.850245,\n",
       "       3677.529967, 3677.919845, 3620.960039, 3629.449864, 3670.950007,\n",
       "       3651.430009, 3640.810052, 3610.919911, 3573.520012, 3572.429812,\n",
       "       3612.550031, 3614.700117, 3583.639958, 3569.130046, 3569.68992 ,\n",
       "       3578.769935, 3571.049889, 3596.7899  , 3596.050053, 3610.95982 ,\n",
       "       3607.580237, 3611.089907, 3625.01999 , 3589.859971, 3552.039879,\n",
       "       3547.340236, 3556.590247, 3559.050009, 3512.610004, 3527.949942,\n",
       "       3525.87008 , 3507.269903, 3514.95004 , 3498.940096, 3534.199887,\n",
       "       3543.649825, 3550.440074, 3549.770067, 3537.510013, 3537.980092,\n",
       "       3561.910011, 3585.189876, 3598.379728, 3602.740146, 3597.149847,\n",
       "       3576.110245, 3563.679812, 3582.109993, 3576.890001, 3586.870266,\n",
       "       3608.470126, 3626.129761, 3614.22006 , 3637.719808, 3688.399737,\n",
       "       3667.850169, 3708.940095, 3671.679877, 3668.400066, 3675.019935,\n",
       "       3673.649989, 3643.949798, 3627.090258, 3635.899737, 3643.549943,\n",
       "       3648.959885, 3632.189756, 3631.079985, 3630.919966, 3628.919922,\n",
       "       3642.840027, 3651.889727, 3628.259892, 3594.490157, 3607.229884,\n",
       "       3593.520067, 3602.149957, 3599.49986 , 3601.070117, 3548.420076,\n",
       "       3546.090017, 3579.310239, 3578.730026, 3576.259903, 3546.99986 ,\n",
       "       3531.610037, 3519.83004 , 3462.120026, 3456.360114, 3417.049966,\n",
       "       3434.030001, 3453.190053, 3484.739862, 3488.860059, 3500.150023,\n",
       "       3457.259981, 3447.490004, 3475.060064, 3480.970017, 3490.759948,\n",
       "       3492.200117, 3473.390035, 3490.759948, 3486.980126, 3480.1799  ,\n",
       "       3462.309976, 3491.129871, 3486.620179, 3500.290087, 3474.879707,\n",
       "       3438.560031, 3383.629817, 3321.479951, 3326.580216, 3315.659793,\n",
       "       3297.80023 , 3196.919853, 3177.790117, 3260.170088, 3260.779848,\n",
       "       3267.499873, 3279.110258, 3279.890014, 3266.889729, 3257.110159,\n",
       "       3230.220084, 3229.17977 , 3266.600007, 3272.03988 , 3287.23016 ,\n",
       "       3288.110071, 3290.260157, 3257.090205, 3239.849996, 3214.539963,\n",
       "       3225.469788, 3240.000037, 3229.870115, 3204.029947, 3207.830107,\n",
       "       3191.83014 , 3160.899877, 3105.659986, 3043.819989, 2957.679957,\n",
       "       2959.17999 , 2991.509939, 3048.490083, 3082.229887, 3030.69    ,\n",
       "       3015.939869, 3043.78008 , 3100.899904, 3072.159827, 3086.100079,\n",
       "       3102.580102, 3093.700015, 3105.840151, 3096.959872, 3146.570131,\n",
       "       3150.509971, 3153.129944, 3107.629906, 3133.280123, 3151.050083,\n",
       "       3150.889872, 3188.600023, 3190.610045, 3197.279991, 3237.070196,\n",
       "       3253.090117, 3266.629938, 3270.560186, 3286.620016, 3272.990016,\n",
       "       3289.130048, 3358.550219, 3319.689812, 3323.280067, 3333.900024,\n",
       "       3329.389948, 3311.020013, 3320.149914, 3356.70981 , 3393.309998,\n",
       "       3412.100126, 3414.650067, 3417.010058, 3404.050065, 3405.619938,\n",
       "       3424.840237, 3391.030209, 3375.860268, 3386.310229, 3341.100105,\n",
       "       3319.250048, 3297.02009 , 3299.249993, 3288.919759, 3278.469799,\n",
       "       3283.93001 , 3308.349963, 3300.530144, 3293.63974 , 3273.179967,\n",
       "       3282.410023, 3282.570042, 3305.709843, 3294.800164, 3264.299879,\n",
       "       3231.260015, 3217.550006, 3190.999923, 3228.890047, 3237.970062,\n",
       "       3248.769992, 3253.169935, 3281.669792, 3288.219821, 3286.889784,\n",
       "       3295.020046, 3296.000114, 3289.140025, 3286.489928, 3278.170099,\n",
       "       3284.600018, 3281.879697, 3248.350182, 3266.269992, 3240.729908,\n",
       "       3243.749928, 3232.0202  , 3214.560109, 3198.280013, 3199.909941,\n",
       "       3244.639817, 3253.770101, 3253.699877, 3266.199768, 3278.170099,\n",
       "       3250.799967, 3254.179934, 3191.83014 , 3135.560104, 3140.030079,\n",
       "       3129.820147, 3125.679995, 3124.659827, 3102.649943, 3094.040007,\n",
       "       3089.100145, 3076.760081, 3054.610133, 3029.44995 , 2986.909877,\n",
       "       3025.509917, 3036.249984, 3084.270031, 3087.189896, 3099.919837,\n",
       "       3081.389884, 3070.259939, 3055.420013, 3064.419826, 3001.720063,\n",
       "       3028.350156, 3017.259928, 2974.23999 , 2926.010038, 2969.199972,\n",
       "       3019.050067, 3003.719915, 3081.590003, 3088.189917, 3078.280069,\n",
       "       3073.919843, 3047.979903, 3117.740066, 3121.409947, 3135.590036,\n",
       "       3145.750082, 3115.439939, 3126.709948, 3085.23993 , 3118.120159,\n",
       "       3108.24005 , 3113.239968, 3111.419897, 3080.179957, 3152.000027,\n",
       "       3158.57001 , 3198.409909, 3170.899904, 3213.439977, 3224.820119,\n",
       "       3226.079932, 3206.719953, 3212.110132, 3196.719925, 3187.199954,\n",
       "       3189.830097, 3179.100007, 3175.350117, 3170.260021, 3100.750055,\n",
       "       3085.799996, 3096.239979, 3061.870077, 3071.840173, 3098.080004,\n",
       "       3098.649855, 3085.999923, 3096.310011, 3119.860028, 3129.090085,\n",
       "       3159.429967, 3170.740077, 3183.580151, 3178.159848, 3184.759955,\n",
       "       3171.590057, 3195.310071, 3251.370202, 3231.260015, 3234.819955,\n",
       "       3240.280166, 3267.060109, 3310.490071, 3277.249895, 3284.920055,\n",
       "       3295.759894, 3275.660067, 3250.350226, 3250.030188, 3257.110159,\n",
       "       3270.379829, 3269.98995 , 3285.090051, 3293.729918, 3296.200042,\n",
       "       3308.830019, 3262.469832, 3291.039913, 3308.79011 , 3307.029903,\n",
       "       3307.440119, 3288.389817, 3276.579888, 3280.419957, 3315.159782,\n",
       "       3320.740104, 3330.600258, 3333.060021, 3342.859929, 3283.250026,\n",
       "       3289.060207, 3262.149794, 3268.699822, 3262.000136, 3273.120104,\n",
       "       3257.429813, 3279.919946, 3267.989907, 3256.000004, 3279.390003,\n",
       "       3286.649947, 3282.740038, 3261.820163, 3264.099952, 3254.560219,\n",
       "       3263.740005, 3278.419913])"
      ]
     },
     "execution_count": 2,
     "metadata": {},
     "output_type": "execute_result"
    }
   ],
   "source": [
    "import random\n",
    "import numpy as np\n",
    "import pandas as pd\n",
    "from pandas import read_csv\n",
    "actual_lst = read_csv('./True value of SSEC High and all model predictions.csv', index_col=0,usecols=[0,22])\n",
    "actual_lst=actual_lst.values\n",
    "actual_lst=actual_lst.flatten()\n",
    "actual_lst"
   ]
  },
  {
   "cell_type": "markdown",
   "id": "10efe72e",
   "metadata": {},
   "source": [
    "# Import the predictions of the proposed model"
   ]
  },
  {
   "cell_type": "code",
   "execution_count": 3,
   "id": "6a5820d6",
   "metadata": {
    "scrolled": true
   },
   "outputs": [
    {
     "data": {
      "text/plain": [
       "array([3345.8625, 3319.0515, 3324.624 , 3319.9434, 3281.467 , 3259.2983,\n",
       "       3276.3489, 3291.6667, 3283.19  , 3261.6187, 3267.6892, 3294.212 ,\n",
       "       3309.8472, 3327.136 , 3361.7065, 3385.1345, 3372.2366, 3345.5898,\n",
       "       3332.5405, 3339.1797, 3355.5227, 3357.1511, 3359.395 , 3383.1292,\n",
       "       3409.4858, 3425.549 , 3413.53  , 3388.9575, 3399.9722, 3443.7715,\n",
       "       3463.7495, 3458.358 , 3453.329 , 3448.7866, 3451.7175, 3445.0266,\n",
       "       3421.2693, 3397.7705, 3383.8672, 3378.5867, 3376.9436, 3384.497 ,\n",
       "       3397.8062, 3413.6506, 3425.5842, 3419.2698, 3396.655 , 3388.575 ,\n",
       "       3399.0022, 3406.778 , 3404.4407, 3412.1252, 3453.3027, 3498.5874,\n",
       "       3522.4956, 3540.7886, 3562.929 , 3580.8875, 3590.6653, 3603.5688,\n",
       "       3611.049 , 3599.2512, 3588.9226, 3598.576 , 3598.2751, 3597.6016,\n",
       "       3611.845 , 3617.065 , 3621.992 , 3613.4094, 3577.7725, 3552.9014,\n",
       "       3537.0251, 3519.8423, 3532.2253, 3548.1487, 3542.533 , 3541.8823,\n",
       "       3556.26  , 3590.2063, 3663.453 , 3715.3564, 3715.149 , 3708.2676,\n",
       "       3694.5562, 3655.4688, 3618.383 , 3580.7668, 3561.7944, 3581.741 ,\n",
       "       3583.4631, 3555.817 , 3548.0835, 3536.0208, 3468.814 , 3424.7227,\n",
       "       3441.8445, 3462.2856, 3469.4436, 3460.389 , 3458.6416, 3474.3245,\n",
       "       3463.434 , 3442.9253, 3445.1697, 3427.3838, 3396.532 , 3411.5583,\n",
       "       3446.6519, 3453.8926, 3448.9753, 3455.6023, 3477.6165, 3488.0432,\n",
       "       3479.4077, 3472.6177, 3467.5208, 3448.5642, 3423.768 , 3407.9546,\n",
       "       3407.1719, 3422.887 , 3455.0376, 3480.4312, 3475.9966, 3462.4526,\n",
       "       3475.1929, 3478.9048, 3446.662 , 3434.4365, 3455.8015, 3459.3018,\n",
       "       3454.0803, 3441.711 , 3419.089 , 3430.2556, 3448.1514, 3440.3682,\n",
       "       3463.1772, 3504.1562, 3509.3103, 3503.991 , 3506.8584, 3494.7383,\n",
       "       3500.5493, 3544.2292, 3585.846 , 3605.3074, 3608.4216, 3598.9768,\n",
       "       3606.9216, 3622.345 , 3610.9995, 3597.8235, 3600.8867, 3602.1348,\n",
       "       3600.2524, 3603.957 , 3605.3452, 3589.0244, 3563.249 , 3541.6733,\n",
       "       3536.8955, 3545.7224, 3557.3699, 3563.7515, 3578.3955, 3602.9912,\n",
       "       3613.1926, 3603.1262, 3599.997 , 3598.8608, 3578.1414, 3545.3962,\n",
       "       3538.574 , 3558.845 , 3562.7817, 3548.7275, 3555.467 , 3576.3955,\n",
       "       3571.9866, 3566.9673, 3568.9187, 3554.9893, 3548.0876, 3560.2444,\n",
       "       3573.347 , 3575.1877, 3548.0928, 3485.0137, 3430.5823, 3420.2073,\n",
       "       3431.7893, 3456.017 , 3478.873 , 3482.1575, 3483.3838, 3484.1296,\n",
       "       3495.4268, 3526.0576, 3542.2246, 3536.32  , 3530.6204, 3532.7546,\n",
       "       3521.0042, 3495.2544, 3469.5789, 3459.227 , 3470.099 , 3505.1418,\n",
       "       3529.1162, 3525.7798, 3521.0552, 3525.3826, 3539.3682, 3564.2427,\n",
       "       3585.3335, 3595.0452, 3613.2715, 3657.0227, 3685.132 , 3688.354 ,\n",
       "       3698.7212, 3712.4097, 3703.779 , 3686.6614, 3661.138 , 3633.4287,\n",
       "       3629.5989, 3652.7769, 3657.3198, 3642.9976, 3618.324 , 3583.8071,\n",
       "       3581.642 , 3613.1746, 3617.984 , 3592.9438, 3578.5015, 3578.386 ,\n",
       "       3582.3274, 3587.8574, 3593.2854, 3602.664 , 3611.8562, 3611.8743,\n",
       "       3614.0596, 3622.4546, 3603.4658, 3558.9553, 3549.9949, 3565.2305,\n",
       "       3555.9282, 3531.8447, 3524.3462, 3528.588 , 3525.3625, 3515.3733,\n",
       "       3509.0527, 3526.6245, 3547.7522, 3548.9937, 3546.3608, 3544.0686,\n",
       "       3540.7861, 3553.4766, 3581.709 , 3592.1838, 3594.467 , 3592.6636,\n",
       "       3574.925 , 3563.9548, 3571.9387, 3572.7798, 3577.4211, 3604.6423,\n",
       "       3618.5945, 3616.364 , 3635.4766, 3664.7844, 3678.3093, 3687.9663,\n",
       "       3675.9558, 3656.8591, 3672.1714, 3671.668 , 3647.5083, 3633.045 ,\n",
       "       3633.9795, 3642.8484, 3651.1934, 3644.2922, 3632.3315, 3636.8118,\n",
       "       3639.3347, 3646.0696, 3655.136 , 3639.145 , 3613.45  , 3612.8137,\n",
       "       3613.8804, 3609.9937, 3616.3933, 3607.5334, 3574.6016, 3562.425 ,\n",
       "       3577.6921, 3593.2544, 3585.1475, 3560.7258, 3541.8618, 3524.9492,\n",
       "       3496.3618, 3463.9558, 3446.8376, 3447.5496, 3466.4585, 3481.0056,\n",
       "       3498.9026, 3503.0645, 3475.0972, 3459.7288, 3476.5964, 3492.5422,\n",
       "       3498.4192, 3498.7551, 3491.1274, 3501.1155, 3512.4646, 3495.542 ,\n",
       "       3487.6448, 3500.0327, 3504.3965, 3503.6646, 3496.5627, 3457.1794,\n",
       "       3400.4795, 3353.3196, 3330.6345, 3338.3276, 3316.5706, 3233.8064,\n",
       "       3207.352 , 3254.7314, 3281.998 , 3278.6587, 3284.8264, 3286.806 ,\n",
       "       3285.4092, 3274.1848, 3239.8616, 3239.629 , 3272.232 , 3283.8857,\n",
       "       3288.1162, 3304.2363, 3297.3845, 3277.8206, 3259.2246, 3238.6245,\n",
       "       3235.4172, 3253.158 , 3242.3086, 3219.1318, 3216.368 , 3198.5889,\n",
       "       3162.2502, 3123.7544, 3062.8655, 2994.8057, 2977.2405, 2999.3936,\n",
       "       3044.747 , 3079.7075, 3042.6506, 3010.5676, 3050.4204, 3084.7302,\n",
       "       3074.3943, 3068.8787, 3082.7307, 3088.2004, 3088.287 , 3087.235 ,\n",
       "       3105.7336, 3137.7275, 3128.1792, 3093.9111, 3102.409 , 3122.7402,\n",
       "       3126.8916, 3148.0825, 3169.7576, 3172.1846, 3199.8848, 3227.6265,\n",
       "       3235.1675, 3251.3728, 3254.3408, 3245.2996, 3272.3477, 3309.4924,\n",
       "       3302.2085, 3293.1807, 3306.3647, 3307.5762, 3300.257 , 3304.1062,\n",
       "       3326.3433, 3368.8687, 3394.4768, 3395.2188, 3394.9836, 3393.4082,\n",
       "       3395.81  , 3402.3064, 3388.3975, 3373.5552, 3369.407 , 3347.723 ,\n",
       "       3318.668 , 3304.4104, 3300.0142, 3295.427 , 3282.5605, 3280.9514,\n",
       "       3298.0044, 3305.8208, 3292.7085, 3279.3984, 3278.2502, 3283.9285,\n",
       "       3293.8555, 3291.1782, 3262.3845, 3234.0308, 3212.8557, 3202.239 ,\n",
       "       3219.923 , 3236.0076, 3234.4531, 3246.3567, 3269.09  , 3277.1365,\n",
       "       3279.2153, 3281.1218, 3278.5188, 3277.0437, 3271.4614, 3264.6648,\n",
       "       3271.1296, 3270.26  , 3247.937 , 3241.1062, 3243.1965, 3232.1306,\n",
       "       3227.6145, 3219.4548, 3196.123 , 3199.2373, 3230.5227, 3246.588 ,\n",
       "       3250.154 , 3259.4827, 3263.7136, 3258.2444, 3246.0164, 3201.0122,\n",
       "       3151.1829, 3141.6072, 3139.23  , 3130.9192, 3128.7627, 3111.7056,\n",
       "       3098.28  , 3101.6863, 3087.334 , 3061.1855, 3037.4773, 3015.1355,\n",
       "       3016.5962, 3048.3782, 3076.5017, 3088.4985, 3091.9797, 3088.677 ,\n",
       "       3072.0867, 3063.4893, 3048.635 , 3017.8533, 3013.3203, 3019.624 ,\n",
       "       2979.9285, 2942.8857, 2966.5227, 2998.5444, 3016.7856, 3048.568 ,\n",
       "       3074.5376, 3075.8223, 3060.3247, 3051.2288, 3076.861 , 3115.89  ,\n",
       "       3118.6943, 3116.012 , 3121.3086, 3104.733 , 3087.7654, 3092.7927,\n",
       "       3104.7087, 3107.1873, 3098.8638, 3090.9824, 3118.4778, 3162.6353,\n",
       "       3176.1143, 3173.6013, 3192.348 , 3223.8733, 3220.5571, 3209.562 ,\n",
       "       3207.3772, 3198.7966, 3190.7727, 3187.5984, 3180.3237, 3179.5027,\n",
       "       3165.399 , 3116.3604, 3091.0354, 3097.0728, 3079.7695, 3073.246 ,\n",
       "       3096.6875, 3101.2686, 3092.9756, 3097.2285, 3110.3867, 3131.029 ,\n",
       "       3152.8467, 3160.4587, 3169.5854, 3184.868 , 3174.6162, 3162.857 ,\n",
       "       3189.2463, 3224.4302, 3229.3901, 3223.507 , 3229.8872, 3257.9421,\n",
       "       3287.0396, 3280.2288, 3267.673 , 3283.978 , 3277.5515, 3246.6326,\n",
       "       3242.3977, 3254.6057, 3260.9192, 3269.0132, 3277.4524, 3284.7522,\n",
       "       3297.9656, 3297.5293, 3276.1458, 3280.187 , 3302.4995, 3303.1384,\n",
       "       3302.1306, 3296.3806, 3278.3945, 3284.622 , 3311.6694, 3321.7231,\n",
       "       3325.2947, 3338.0964, 3332.2617, 3306.3792, 3283.8665, 3270.9595,\n",
       "       3265.7168, 3270.4438, 3266.187 , 3261.9639, 3272.1829, 3271.8342,\n",
       "       3260.2524, 3271.908 , 3284.1113, 3278.6536, 3268.5496, 3256.6902,\n",
       "       3254.525 , 3261.1943, 3265.7598])"
      ]
     },
     "execution_count": 3,
     "metadata": {},
     "output_type": "execute_result"
    }
   ],
   "source": [
    "pred1_lst =read_csv('./True value of SSEC High and all model predictions.csv', index_col=0,usecols=[0,23])\n",
    "pred1_lst =pred1_lst.values\n",
    "pred1_lst=pred1_lst.flatten()\n",
    "pred1_lst"
   ]
  },
  {
   "cell_type": "markdown",
   "id": "5fd56cf7",
   "metadata": {},
   "source": [
    "# BPNN"
   ]
  },
  {
   "cell_type": "code",
   "execution_count": 4,
   "id": "35a627a8",
   "metadata": {},
   "outputs": [
    {
     "name": "stdout",
     "output_type": "stream",
     "text": [
      "crit：RMSE， mdm_return(MDM=-16.678080750825398, p_value=1.5515641881533605e-51)\n",
      "crit：MAE， mdm_return(MDM=-25.211471886736682, p_value=5.231093006963664e-96)\n",
      "crit：MAPE， mdm_return(MDM=-25.561256109000986, p_value=7.292485913095349e-98)\n"
     ]
    }
   ],
   "source": [
    "pred2_lst  =read_csv('./True value of SSEC High and all model predictions.csv', index_col=0,usecols=[0,1])\n",
    "pred2_lst=pred2_lst.values\n",
    "pred2_lst=pred2_lst.flatten()\n",
    "rt = mdm_test(actual_lst, pred1_lst, pred2_lst, h=1, crit=\"RMSE\")\n",
    "print(\"crit：RMSE，\", rt)\n",
    "rt = mdm_test(actual_lst, pred1_lst, pred2_lst, h=1, crit=\"MAE\")\n",
    "print(\"crit：MAE，\", rt)\n",
    "rt = mdm_test(actual_lst, pred1_lst, pred2_lst, h=1, crit=\"MAPE\")\n",
    "print(\"crit：MAPE，\", rt)"
   ]
  },
  {
   "cell_type": "markdown",
   "id": "f49639c5",
   "metadata": {},
   "source": [
    "# SVR"
   ]
  },
  {
   "cell_type": "code",
   "execution_count": 5,
   "id": "721ff2cf",
   "metadata": {},
   "outputs": [
    {
     "name": "stdout",
     "output_type": "stream",
     "text": [
      "crit：RMSE， mdm_return(MDM=-16.495426453639343, p_value=1.242260006922966e-50)\n",
      "crit：MAE， mdm_return(MDM=-24.623885790741326, p_value=6.883173229202305e-93)\n",
      "crit：MAPE， mdm_return(MDM=-24.731405685239725, p_value=1.8488587787448376e-93)\n"
     ]
    }
   ],
   "source": [
    "pred2_lst  =read_csv('./True value of SSEC High and all model predictions.csv', index_col=0,usecols=[0,2])\n",
    "pred2_lst=pred2_lst.values\n",
    "pred2_lst=pred2_lst.flatten()\n",
    "rt = mdm_test(actual_lst, pred1_lst, pred2_lst, h=1, crit=\"RMSE\")\n",
    "print(\"crit：RMSE，\", rt)\n",
    "rt = mdm_test(actual_lst, pred1_lst, pred2_lst, h=1, crit=\"MAE\")\n",
    "print(\"crit：MAE，\", rt)\n",
    "rt = mdm_test(actual_lst, pred1_lst, pred2_lst, h=1, crit=\"MAPE\")\n",
    "print(\"crit：MAPE，\", rt)"
   ]
  },
  {
   "cell_type": "markdown",
   "id": "ed75aefe",
   "metadata": {},
   "source": [
    "# GRU"
   ]
  },
  {
   "cell_type": "code",
   "execution_count": 6,
   "id": "00bee455",
   "metadata": {},
   "outputs": [
    {
     "name": "stdout",
     "output_type": "stream",
     "text": [
      "crit：RMSE， mdm_return(MDM=-16.215927437651885, p_value=2.9481802329192834e-49)\n",
      "crit：MAE， mdm_return(MDM=-24.787631512230302, p_value=9.297877300392092e-94)\n",
      "crit：MAPE， mdm_return(MDM=-24.683172274451042, p_value=3.334251250544746e-93)\n"
     ]
    }
   ],
   "source": [
    "pred2_lst  =read_csv('./True value of SSEC High and all model predictions.csv', index_col=0,usecols=[0,3])\n",
    "pred2_lst=pred2_lst.values\n",
    "pred2_lst=pred2_lst.flatten()\n",
    "rt = mdm_test(actual_lst, pred1_lst, pred2_lst, h=1, crit=\"RMSE\")\n",
    "print(\"crit：RMSE，\", rt)\n",
    "rt = mdm_test(actual_lst, pred1_lst, pred2_lst, h=1, crit=\"MAE\")\n",
    "print(\"crit：MAE，\", rt)\n",
    "rt = mdm_test(actual_lst, pred1_lst, pred2_lst, h=1, crit=\"MAPE\")\n",
    "print(\"crit：MAPE，\", rt)"
   ]
  },
  {
   "cell_type": "markdown",
   "id": "577821f5",
   "metadata": {},
   "source": [
    "# LSTM"
   ]
  },
  {
   "cell_type": "code",
   "execution_count": 7,
   "id": "00c0ca73",
   "metadata": {},
   "outputs": [
    {
     "name": "stdout",
     "output_type": "stream",
     "text": [
      "crit：RMSE， mdm_return(MDM=-14.11307664600834, p_value=3.143795920617924e-39)\n",
      "crit：MAE， mdm_return(MDM=-21.699209005543935, p_value=2.1813476084116858e-77)\n",
      "crit：MAPE， mdm_return(MDM=-21.517404637477103, p_value=1.9834011392431045e-76)\n"
     ]
    }
   ],
   "source": [
    "pred2_lst  =read_csv('./True value of SSEC High and all model predictions.csv', index_col=0,usecols=[0,4])\n",
    "pred2_lst=pred2_lst.values\n",
    "pred2_lst=pred2_lst.flatten()\n",
    "rt = mdm_test(actual_lst, pred1_lst, pred2_lst, h=1, crit=\"RMSE\")\n",
    "print(\"crit：RMSE，\", rt)\n",
    "rt = mdm_test(actual_lst, pred1_lst, pred2_lst, h=1, crit=\"MAE\")\n",
    "print(\"crit：MAE，\", rt)\n",
    "rt = mdm_test(actual_lst, pred1_lst, pred2_lst, h=1, crit=\"MAPE\")\n",
    "print(\"crit：MAPE，\", rt)"
   ]
  },
  {
   "cell_type": "markdown",
   "id": "4cf952dd",
   "metadata": {},
   "source": [
    "# Transformer"
   ]
  },
  {
   "cell_type": "code",
   "execution_count": 8,
   "id": "c35347d9",
   "metadata": {},
   "outputs": [
    {
     "name": "stdout",
     "output_type": "stream",
     "text": [
      "crit：RMSE， mdm_return(MDM=-16.835208680853032, p_value=2.5748527613959343e-52)\n",
      "crit：MAE， mdm_return(MDM=-24.204618557504435, p_value=1.1590492850170353e-90)\n",
      "crit：MAPE， mdm_return(MDM=-24.73300314613748, p_value=1.813101752653758e-93)\n"
     ]
    }
   ],
   "source": [
    "pred2_lst  =read_csv('./True value of SSEC High and all model predictions.csv', index_col=0,usecols=[0,5])\n",
    "pred2_lst=pred2_lst.values\n",
    "pred2_lst=pred2_lst.flatten()\n",
    "rt = mdm_test(actual_lst, pred1_lst, pred2_lst, h=1, crit=\"RMSE\")\n",
    "print(\"crit：RMSE，\", rt)\n",
    "rt = mdm_test(actual_lst, pred1_lst, pred2_lst, h=1, crit=\"MAE\")\n",
    "print(\"crit：MAE，\", rt)\n",
    "rt = mdm_test(actual_lst, pred1_lst, pred2_lst, h=1, crit=\"MAPE\")\n",
    "print(\"crit：MAPE，\", rt)"
   ]
  },
  {
   "cell_type": "markdown",
   "id": "1c148fc8",
   "metadata": {},
   "source": [
    "# Informer"
   ]
  },
  {
   "cell_type": "code",
   "execution_count": 9,
   "id": "73fa90bc",
   "metadata": {},
   "outputs": [
    {
     "name": "stdout",
     "output_type": "stream",
     "text": [
      "crit：RMSE， mdm_return(MDM=-11.96808910840573, p_value=9.855909627567329e-30)\n",
      "crit：MAE， mdm_return(MDM=-20.00925817123301, p_value=1.6033191269456726e-68)\n",
      "crit：MAPE， mdm_return(MDM=-19.758396055037895, p_value=3.240694401980225e-67)\n"
     ]
    }
   ],
   "source": [
    "pred2_lst  =read_csv('./True value of SSEC High and all model predictions.csv', index_col=0,usecols=[0,6])\n",
    "pred2_lst=pred2_lst.values\n",
    "pred2_lst=pred2_lst.flatten()\n",
    "rt = mdm_test(actual_lst, pred1_lst, pred2_lst, h=1, crit=\"RMSE\")\n",
    "print(\"crit：RMSE，\", rt)\n",
    "rt = mdm_test(actual_lst, pred1_lst, pred2_lst, h=1, crit=\"MAE\")\n",
    "print(\"crit：MAE，\", rt)\n",
    "rt = mdm_test(actual_lst, pred1_lst, pred2_lst, h=1, crit=\"MAPE\")\n",
    "print(\"crit：MAPE，\", rt)"
   ]
  },
  {
   "cell_type": "markdown",
   "id": "e16cd335",
   "metadata": {},
   "source": [
    "# TCN"
   ]
  },
  {
   "cell_type": "code",
   "execution_count": 10,
   "id": "30fc95e7",
   "metadata": {},
   "outputs": [
    {
     "name": "stdout",
     "output_type": "stream",
     "text": [
      "crit：RMSE， mdm_return(MDM=-16.920535642083752, p_value=9.685035345009253e-53)\n",
      "crit：MAE， mdm_return(MDM=-24.33140179791594, p_value=2.4596463378727184e-91)\n",
      "crit：MAPE， mdm_return(MDM=-24.53717111246761, p_value=1.9871416555688288e-92)\n"
     ]
    }
   ],
   "source": [
    "pred2_lst  =read_csv('./True value of SSEC High and all model predictions.csv', index_col=0,usecols=[0,7])\n",
    "pred2_lst=pred2_lst.values\n",
    "pred2_lst=pred2_lst.flatten()\n",
    "rt = mdm_test(actual_lst, pred1_lst, pred2_lst, h=1, crit=\"RMSE\")\n",
    "print(\"crit：RMSE，\", rt)\n",
    "rt = mdm_test(actual_lst, pred1_lst, pred2_lst, h=1, crit=\"MAE\")\n",
    "print(\"crit：MAE，\", rt)\n",
    "rt = mdm_test(actual_lst, pred1_lst, pred2_lst, h=1, crit=\"MAPE\")\n",
    "print(\"crit：MAPE，\", rt)"
   ]
  },
  {
   "cell_type": "markdown",
   "id": "551e05df",
   "metadata": {},
   "source": [
    "# BiLSTM"
   ]
  },
  {
   "cell_type": "code",
   "execution_count": 11,
   "id": "a9354dd2",
   "metadata": {},
   "outputs": [
    {
     "name": "stdout",
     "output_type": "stream",
     "text": [
      "crit：RMSE， mdm_return(MDM=-14.81050686681985, p_value=1.7376402085367444e-42)\n",
      "crit：MAE， mdm_return(MDM=-22.518705073337763, p_value=1.0165459341618105e-81)\n",
      "crit：MAPE， mdm_return(MDM=-22.330422149476657, p_value=1.0083897740674124e-80)\n"
     ]
    }
   ],
   "source": [
    "pred2_lst  =read_csv('./True value of SSEC High and all model predictions.csv', index_col=0,usecols=[0,8])\n",
    "pred2_lst=pred2_lst.values\n",
    "pred2_lst=pred2_lst.flatten()\n",
    "rt = mdm_test(actual_lst, pred1_lst, pred2_lst, h=1, crit=\"RMSE\")\n",
    "print(\"crit：RMSE，\", rt)\n",
    "rt = mdm_test(actual_lst, pred1_lst, pred2_lst, h=1, crit=\"MAE\")\n",
    "print(\"crit：MAE，\", rt)\n",
    "rt = mdm_test(actual_lst, pred1_lst, pred2_lst, h=1, crit=\"MAPE\")\n",
    "print(\"crit：MAPE，\", rt)"
   ]
  },
  {
   "cell_type": "markdown",
   "id": "65bf1ef0",
   "metadata": {},
   "source": [
    "# CNN-BiLSTM-SAM"
   ]
  },
  {
   "cell_type": "code",
   "execution_count": 12,
   "id": "f98c04a1",
   "metadata": {},
   "outputs": [
    {
     "name": "stdout",
     "output_type": "stream",
     "text": [
      "crit：RMSE， mdm_return(MDM=-11.457725308741521, p_value=1.3153452311787198e-27)\n",
      "crit：MAE， mdm_return(MDM=-19.32229922664887, p_value=5.917803032907359e-65)\n",
      "crit：MAPE， mdm_return(MDM=-18.901691421461496, p_value=8.760816063092519e-63)\n"
     ]
    }
   ],
   "source": [
    "pred2_lst  =read_csv('./True value of SSEC High and all model predictions.csv', index_col=0,usecols=[0,9])\n",
    "pred2_lst=pred2_lst.values\n",
    "pred2_lst=pred2_lst.flatten()\n",
    "rt = mdm_test(actual_lst, pred1_lst, pred2_lst, h=1, crit=\"RMSE\")\n",
    "print(\"crit：RMSE，\", rt)\n",
    "rt = mdm_test(actual_lst, pred1_lst, pred2_lst, h=1, crit=\"MAE\")\n",
    "print(\"crit：MAE，\", rt)\n",
    "rt = mdm_test(actual_lst, pred1_lst, pred2_lst, h=1, crit=\"MAPE\")\n",
    "print(\"crit：MAPE，\", rt)"
   ]
  },
  {
   "cell_type": "markdown",
   "id": "2d079044",
   "metadata": {},
   "source": [
    "# ICEEMDAN-SVR"
   ]
  },
  {
   "cell_type": "code",
   "execution_count": 13,
   "id": "ff6ed64b",
   "metadata": {},
   "outputs": [
    {
     "name": "stdout",
     "output_type": "stream",
     "text": [
      "crit：RMSE， mdm_return(MDM=-17.87554651896977, p_value=1.5331881165851168e-57)\n",
      "crit：MAE， mdm_return(MDM=-25.69567475478869, p_value=1.4127140936900694e-98)\n",
      "crit：MAPE， mdm_return(MDM=-24.641794873264473, p_value=5.529638510671899e-93)\n"
     ]
    }
   ],
   "source": [
    "pred2_lst  =read_csv('./True value of SSEC High and all model predictions.csv', index_col=0,usecols=[0,10])\n",
    "pred2_lst=pred2_lst.values\n",
    "pred2_lst=pred2_lst.flatten()\n",
    "rt = mdm_test(actual_lst, pred1_lst, pred2_lst, h=1, crit=\"RMSE\")\n",
    "print(\"crit：RMSE，\", rt)\n",
    "rt = mdm_test(actual_lst, pred1_lst, pred2_lst, h=1, crit=\"MAE\")\n",
    "print(\"crit：MAE，\", rt)\n",
    "rt = mdm_test(actual_lst, pred1_lst, pred2_lst, h=1, crit=\"MAPE\")\n",
    "print(\"crit：MAPE，\", rt)"
   ]
  },
  {
   "cell_type": "markdown",
   "id": "b2499a9f",
   "metadata": {},
   "source": [
    "# CEEMDAN-LSTM"
   ]
  },
  {
   "cell_type": "code",
   "execution_count": 14,
   "id": "6af0c57f",
   "metadata": {},
   "outputs": [
    {
     "name": "stdout",
     "output_type": "stream",
     "text": [
      "crit：RMSE， mdm_return(MDM=-20.694637998120854, p_value=4.1937712434569457e-72)\n",
      "crit：MAE， mdm_return(MDM=-26.83803024845988, p_value=1.2649390153647908e-104)\n",
      "crit：MAPE， mdm_return(MDM=-27.301784467375505, p_value=4.501588132581214e-107)\n"
     ]
    }
   ],
   "source": [
    "pred2_lst  =read_csv('./True value of SSEC High and all model predictions.csv', index_col=0,usecols=[0,11])\n",
    "pred2_lst=pred2_lst.values\n",
    "pred2_lst=pred2_lst.flatten()\n",
    "rt = mdm_test(actual_lst, pred1_lst, pred2_lst, h=1, crit=\"RMSE\")\n",
    "print(\"crit：RMSE，\", rt)\n",
    "rt = mdm_test(actual_lst, pred1_lst, pred2_lst, h=1, crit=\"MAE\")\n",
    "print(\"crit：MAE，\", rt)\n",
    "rt = mdm_test(actual_lst, pred1_lst, pred2_lst, h=1, crit=\"MAPE\")\n",
    "print(\"crit：MAPE，\", rt)"
   ]
  },
  {
   "cell_type": "markdown",
   "id": "8dcd19a8",
   "metadata": {},
   "source": [
    "# ICEEMDAN-BiGRU"
   ]
  },
  {
   "cell_type": "code",
   "execution_count": 15,
   "id": "e3a80024",
   "metadata": {},
   "outputs": [
    {
     "name": "stdout",
     "output_type": "stream",
     "text": [
      "crit：RMSE， mdm_return(MDM=-16.15986198017687, p_value=5.550975984133457e-49)\n",
      "crit：MAE， mdm_return(MDM=-18.97256529000114, p_value=3.781130474264425e-63)\n",
      "crit：MAPE， mdm_return(MDM=-19.099610360948848, p_value=8.368700698798053e-64)\n"
     ]
    }
   ],
   "source": [
    "pred2_lst  =read_csv('./True value of SSEC High and all model predictions.csv', index_col=0,usecols=[0,12])\n",
    "pred2_lst=pred2_lst.values\n",
    "pred2_lst=pred2_lst.flatten()\n",
    "rt = mdm_test(actual_lst, pred1_lst, pred2_lst, h=1, crit=\"RMSE\")\n",
    "print(\"crit：RMSE，\", rt)\n",
    "rt = mdm_test(actual_lst, pred1_lst, pred2_lst, h=1, crit=\"MAE\")\n",
    "print(\"crit：MAE，\", rt)\n",
    "rt = mdm_test(actual_lst, pred1_lst, pred2_lst, h=1, crit=\"MAPE\")\n",
    "print(\"crit：MAPE，\", rt)"
   ]
  },
  {
   "cell_type": "markdown",
   "id": "a906ab7a",
   "metadata": {},
   "source": [
    "# VMD-BiLSTM"
   ]
  },
  {
   "cell_type": "code",
   "execution_count": 16,
   "id": "67cd3fa6",
   "metadata": {},
   "outputs": [
    {
     "name": "stdout",
     "output_type": "stream",
     "text": [
      "crit：RMSE， mdm_return(MDM=-15.782327454319708, p_value=3.848056695272359e-47)\n",
      "crit：MAE， mdm_return(MDM=-21.70785913408255, p_value=1.963758296369724e-77)\n",
      "crit：MAPE， mdm_return(MDM=-22.107544350885348, p_value=1.521588263875619e-79)\n"
     ]
    }
   ],
   "source": [
    "pred2_lst  =read_csv('./True value of SSEC High and all model predictions.csv', index_col=0,usecols=[0,13])\n",
    "pred2_lst=pred2_lst.values\n",
    "pred2_lst=pred2_lst.flatten()\n",
    "rt = mdm_test(actual_lst, pred1_lst, pred2_lst, h=1, crit=\"RMSE\")\n",
    "print(\"crit：RMSE，\", rt)\n",
    "rt = mdm_test(actual_lst, pred1_lst, pred2_lst, h=1, crit=\"MAE\")\n",
    "print(\"crit：MAE，\", rt)\n",
    "rt = mdm_test(actual_lst, pred1_lst, pred2_lst, h=1, crit=\"MAPE\")\n",
    "print(\"crit：MAPE，\", rt)"
   ]
  },
  {
   "cell_type": "markdown",
   "id": "8efc96a1",
   "metadata": {},
   "source": [
    "# BiLSTM-SAM-TCN"
   ]
  },
  {
   "cell_type": "code",
   "execution_count": 17,
   "id": "4af685ac",
   "metadata": {},
   "outputs": [
    {
     "name": "stdout",
     "output_type": "stream",
     "text": [
      "crit：RMSE， mdm_return(MDM=-11.448308040500937, p_value=1.4378679651506864e-27)\n",
      "crit：MAE， mdm_return(MDM=-17.478050574525188, p_value=1.5626448208788795e-55)\n",
      "crit：MAPE， mdm_return(MDM=-17.292836189016775, p_value=1.332833322525137e-54)\n"
     ]
    }
   ],
   "source": [
    "pred2_lst  =read_csv('./True value of SSEC High and all model predictions.csv', index_col=0,usecols=[0,14])\n",
    "pred2_lst=pred2_lst.values\n",
    "pred2_lst=pred2_lst.flatten()\n",
    "rt = mdm_test(actual_lst, pred1_lst, pred2_lst, h=1, crit=\"RMSE\")\n",
    "print(\"crit：RMSE，\", rt)\n",
    "rt = mdm_test(actual_lst, pred1_lst, pred2_lst, h=1, crit=\"MAE\")\n",
    "print(\"crit：MAE，\", rt)\n",
    "rt = mdm_test(actual_lst, pred1_lst, pred2_lst, h=1, crit=\"MAPE\")\n",
    "print(\"crit：MAPE，\", rt)"
   ]
  },
  {
   "cell_type": "markdown",
   "id": "d67ba24f",
   "metadata": {},
   "source": [
    "# ICEEMDAN-BiLSTM-SAM-TCN"
   ]
  },
  {
   "cell_type": "code",
   "execution_count": 18,
   "id": "d1746ee3",
   "metadata": {},
   "outputs": [
    {
     "name": "stdout",
     "output_type": "stream",
     "text": [
      "crit：RMSE， mdm_return(MDM=-11.388197355475047, p_value=2.5359493280227268e-27)\n",
      "crit：MAE， mdm_return(MDM=-11.586042808537929, p_value=3.8907714598730665e-28)\n",
      "crit：MAPE， mdm_return(MDM=-11.570758182587642, p_value=4.500285280543054e-28)\n"
     ]
    }
   ],
   "source": [
    "pred2_lst  =read_csv('./True value of SSEC High and all model predictions.csv', index_col=0,usecols=[0,15])\n",
    "pred2_lst=pred2_lst.values\n",
    "pred2_lst=pred2_lst.flatten()\n",
    "rt = mdm_test(actual_lst, pred1_lst, pred2_lst, h=1, crit=\"RMSE\")\n",
    "print(\"crit：RMSE，\", rt)\n",
    "rt = mdm_test(actual_lst, pred1_lst, pred2_lst, h=1, crit=\"MAE\")\n",
    "print(\"crit：MAE，\", rt)\n",
    "rt = mdm_test(actual_lst, pred1_lst, pred2_lst, h=1, crit=\"MAPE\")\n",
    "print(\"crit：MAPE，\", rt)"
   ]
  },
  {
   "cell_type": "markdown",
   "id": "9cdc4dce",
   "metadata": {},
   "source": [
    "# ICEEMDAN-VMD(PSO)-SAM-TCN"
   ]
  },
  {
   "cell_type": "code",
   "execution_count": 19,
   "id": "6e6e9bab",
   "metadata": {},
   "outputs": [
    {
     "name": "stdout",
     "output_type": "stream",
     "text": [
      "crit：RMSE， mdm_return(MDM=-11.541185366911664, p_value=5.96185731276585e-28)\n",
      "crit：MAE， mdm_return(MDM=-16.529054409758498, p_value=8.475261799468847e-51)\n",
      "crit：MAPE， mdm_return(MDM=-16.43776473535125, p_value=2.391471580914871e-50)\n"
     ]
    }
   ],
   "source": [
    "pred2_lst  =read_csv('./True value of SSEC High and all model predictions.csv', index_col=0,usecols=[0,16])\n",
    "pred2_lst=pred2_lst.values\n",
    "pred2_lst=pred2_lst.flatten()\n",
    "rt = mdm_test(actual_lst, pred1_lst, pred2_lst, h=1, crit=\"RMSE\")\n",
    "print(\"crit：RMSE，\", rt)\n",
    "rt = mdm_test(actual_lst, pred1_lst, pred2_lst, h=1, crit=\"MAE\")\n",
    "print(\"crit：MAE，\", rt)\n",
    "rt = mdm_test(actual_lst, pred1_lst, pred2_lst, h=1, crit=\"MAPE\")\n",
    "print(\"crit：MAPE，\", rt)"
   ]
  },
  {
   "cell_type": "markdown",
   "id": "7f35f56e",
   "metadata": {},
   "source": [
    "# ICEEMDAN-VMD(PSO)-BiLSTM-SAM"
   ]
  },
  {
   "cell_type": "code",
   "execution_count": 20,
   "id": "53ae37e5",
   "metadata": {},
   "outputs": [
    {
     "name": "stdout",
     "output_type": "stream",
     "text": [
      "crit：RMSE， mdm_return(MDM=-14.30333786127682, p_value=4.13237412323758e-40)\n",
      "crit：MAE， mdm_return(MDM=-18.242847166567913, p_value=2.080056496347416e-59)\n",
      "crit：MAPE， mdm_return(MDM=-18.39609731498202, p_value=3.433528574888476e-60)\n"
     ]
    }
   ],
   "source": [
    "pred2_lst  =read_csv('./True value of SSEC High and all model predictions.csv', index_col=0,usecols=[0,17])\n",
    "pred2_lst=pred2_lst.values\n",
    "pred2_lst=pred2_lst.flatten()\n",
    "rt = mdm_test(actual_lst, pred1_lst, pred2_lst, h=1, crit=\"RMSE\")\n",
    "print(\"crit：RMSE，\", rt)\n",
    "rt = mdm_test(actual_lst, pred1_lst, pred2_lst, h=1, crit=\"MAE\")\n",
    "print(\"crit：MAE，\", rt)\n",
    "rt = mdm_test(actual_lst, pred1_lst, pred2_lst, h=1, crit=\"MAPE\")\n",
    "print(\"crit：MAPE，\", rt)"
   ]
  },
  {
   "cell_type": "markdown",
   "id": "27f0c4b4",
   "metadata": {},
   "source": [
    "# ICEEMDAN-VMD(PSO)-BiLSTM-TCN"
   ]
  },
  {
   "cell_type": "code",
   "execution_count": 21,
   "id": "57e7283a",
   "metadata": {},
   "outputs": [
    {
     "name": "stdout",
     "output_type": "stream",
     "text": [
      "crit：RMSE， mdm_return(MDM=-20.666236489734864, p_value=5.908308828738852e-72)\n",
      "crit：MAE， mdm_return(MDM=-23.355257271551626, p_value=3.740053805447281e-86)\n",
      "crit：MAPE， mdm_return(MDM=-22.99509118499962, p_value=3.0417792627856223e-84)\n"
     ]
    }
   ],
   "source": [
    "pred2_lst  =read_csv('./True value of SSEC High and all model predictions.csv', index_col=0,usecols=[0,18])\n",
    "pred2_lst=pred2_lst.values\n",
    "pred2_lst=pred2_lst.flatten()\n",
    "rt = mdm_test(actual_lst, pred1_lst, pred2_lst, h=1, crit=\"RMSE\")\n",
    "print(\"crit：RMSE，\", rt)\n",
    "rt = mdm_test(actual_lst, pred1_lst, pred2_lst, h=1, crit=\"MAE\")\n",
    "print(\"crit：MAE，\", rt)\n",
    "rt = mdm_test(actual_lst, pred1_lst, pred2_lst, h=1, crit=\"MAPE\")\n",
    "print(\"crit：MAPE，\", rt)"
   ]
  },
  {
   "cell_type": "markdown",
   "id": "fe845180",
   "metadata": {},
   "source": [
    "# CEEMDAN-VMD(PSO)-BiLSTM-SAM-TCN"
   ]
  },
  {
   "cell_type": "code",
   "execution_count": 22,
   "id": "cf31a4c2",
   "metadata": {},
   "outputs": [
    {
     "name": "stdout",
     "output_type": "stream",
     "text": [
      "crit：RMSE， mdm_return(MDM=-7.635507881061379, p_value=8.989238275613688e-14)\n",
      "crit：MAE， mdm_return(MDM=-7.927768593794644, p_value=1.1036505055563793e-14)\n",
      "crit：MAPE， mdm_return(MDM=-7.9335110671713105, p_value=1.0584391990631337e-14)\n"
     ]
    }
   ],
   "source": [
    "pred2_lst  =read_csv('./True value of SSEC High and all model predictions.csv', index_col=0,usecols=[0,19])\n",
    "pred2_lst=pred2_lst.values\n",
    "pred2_lst=pred2_lst.flatten()\n",
    "rt = mdm_test(actual_lst, pred1_lst, pred2_lst, h=1, crit=\"RMSE\")\n",
    "print(\"crit：RMSE，\", rt)\n",
    "rt = mdm_test(actual_lst, pred1_lst, pred2_lst, h=1, crit=\"MAE\")\n",
    "print(\"crit：MAE，\", rt)\n",
    "rt = mdm_test(actual_lst, pred1_lst, pred2_lst, h=1, crit=\"MAPE\")\n",
    "print(\"crit：MAPE，\", rt)"
   ]
  },
  {
   "cell_type": "markdown",
   "id": "12f64b84",
   "metadata": {},
   "source": [
    "# ICEEMDAN-VMD(PSO)-BiLSTM-SAM-CNN"
   ]
  },
  {
   "cell_type": "code",
   "execution_count": 23,
   "id": "c76c223e",
   "metadata": {},
   "outputs": [
    {
     "name": "stdout",
     "output_type": "stream",
     "text": [
      "crit：RMSE， mdm_return(MDM=-9.644402075054675, p_value=1.4989029628928612e-20)\n",
      "crit：MAE， mdm_return(MDM=-9.826399586377653, p_value=3.19907227657678e-21)\n",
      "crit：MAPE， mdm_return(MDM=-9.586757806473154, p_value=2.4342615089609808e-20)\n"
     ]
    }
   ],
   "source": [
    "pred2_lst  =read_csv('./True value of SSEC High and all model predictions.csv', index_col=0,usecols=[0,20])\n",
    "pred2_lst=pred2_lst.values\n",
    "pred2_lst=pred2_lst.flatten()\n",
    "rt = mdm_test(actual_lst, pred1_lst, pred2_lst, h=1, crit=\"RMSE\")\n",
    "print(\"crit：RMSE，\", rt)\n",
    "rt = mdm_test(actual_lst, pred1_lst, pred2_lst, h=1, crit=\"MAE\")\n",
    "print(\"crit：MAE，\", rt)\n",
    "rt = mdm_test(actual_lst, pred1_lst, pred2_lst, h=1, crit=\"MAPE\")\n",
    "print(\"crit：MAPE，\", rt)"
   ]
  },
  {
   "cell_type": "markdown",
   "id": "4f42923a",
   "metadata": {},
   "source": [
    "# ICEEMDAN-VMD(PSO)-LSTM-SAM-TCN"
   ]
  },
  {
   "cell_type": "code",
   "execution_count": 24,
   "id": "b126a28c",
   "metadata": {},
   "outputs": [
    {
     "name": "stdout",
     "output_type": "stream",
     "text": [
      "crit：RMSE， mdm_return(MDM=-16.123208358486803, p_value=8.391445490836053e-49)\n",
      "crit：MAE， mdm_return(MDM=-17.68303242704552, p_value=1.4452950609774944e-56)\n",
      "crit：MAPE， mdm_return(MDM=-17.659296988208403, p_value=1.9048725443419045e-56)\n"
     ]
    }
   ],
   "source": [
    "pred2_lst  =read_csv('./True value of SSEC High and all model predictions.csv', index_col=0,usecols=[0,21])\n",
    "pred2_lst=pred2_lst.values\n",
    "pred2_lst=pred2_lst.flatten()\n",
    "rt = mdm_test(actual_lst, pred1_lst, pred2_lst, h=1, crit=\"RMSE\")\n",
    "print(\"crit：RMSE，\", rt)\n",
    "rt = mdm_test(actual_lst, pred1_lst, pred2_lst, h=1, crit=\"MAE\")\n",
    "print(\"crit：MAE，\", rt)\n",
    "rt = mdm_test(actual_lst, pred1_lst, pred2_lst, h=1, crit=\"MAPE\")\n",
    "print(\"crit：MAPE，\", rt)"
   ]
  }
 ],
 "metadata": {
  "kernelspec": {
   "display_name": "Python 3 (ipykernel)",
   "language": "python",
   "name": "python3"
  },
  "language_info": {
   "codemirror_mode": {
    "name": "ipython",
    "version": 3
   },
   "file_extension": ".py",
   "mimetype": "text/x-python",
   "name": "python",
   "nbconvert_exporter": "python",
   "pygments_lexer": "ipython3",
   "version": "3.10.9"
  }
 },
 "nbformat": 4,
 "nbformat_minor": 5
}
